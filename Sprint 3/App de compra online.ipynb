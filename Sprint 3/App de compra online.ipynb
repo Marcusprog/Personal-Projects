{
 "cells": [
  {
   "cell_type": "markdown",
   "id": "3Xg_RQfnafXz",
   "metadata": {
    "id": "3Xg_RQfnafXz"
   },
   "source": [
    "\n",
    "\n",
    "\n",
    "# Vamos encher o carrinho!"
   ]
  },
  {
   "cell_type": "markdown",
   "id": "mhIvmmkW414q",
   "metadata": {
    "id": "mhIvmmkW414q"
   },
   "source": [
    "# Introdução\n",
    "\n",
    "A Instacart é uma plataforma de entrega de supermercado onde os clientes podem fazer um pedido de supermercado e receber a compra em casa, semelhante ao funcionamento do Uber Eats e do iFood. O conjunto de dados foi modificado do original.\n",
    "\n",
    "Conforme eu vá avançando na aplicação das técnicas de python, eu irei explicando o que será feito.\n",
    "\n"
   ]
  },
  {
   "cell_type": "markdown",
   "id": "3MbyzpOQZ5Or",
   "metadata": {
    "id": "3MbyzpOQZ5Or"
   },
   "source": [
    "## Dicionário de dados\n",
    "\n",
    "Há cinco tabelas no conjunto de dados, abaixo está um dicionário que lista as colunas de cada tabela e descreve os dados contidos nelas.\n",
    "\n",
    "- `instacart_orders.csv`: cada linha corresponde a um pedido no aplicativo da Instacart\n",
    "    - `'order_id'`: é o número de identificação unívoco de cada pedido\n",
    "    - `'user_id'`: é o número de identificação unívoco da conta de cada cliente\n",
    "    - `'order_number'`: é o número de vezes que o cliente fez um pedido\n",
    "    - `'order_dow'`: é o dia da semana em que o pedido foi feito (0 é domingo)\n",
    "    - `'order_hour_of_day'`: é a hora do dia em que o pedido foi feito\n",
    "    - `'days_since_prior_order'`: é o número de dias desde que o cliente fez seu pedido anterior\n",
    "\n",
    "\n",
    "\n",
    "\n",
    "- `products.csv`: cada linha corresponde a um produto unívoco que os clientes podem comprar\n",
    "    - `'product_id'`: é o número de identificação unívoco de cada produto\n",
    "    - `'product_name'`: é o nome do produto\n",
    "    - `'aisle_id'`: é o número de identificação unívoco de cada categoria de seção do supermercado\n",
    "    - `'department_id'`: é o número de identificação unívoco de cada categoria de departamento do supermercado\n",
    "\n",
    "\n",
    "\n",
    "\n",
    "-\t`order_products.csv`: cada linha corresponde a um item incluído em um pedido\n",
    "    -\t`'order_id'`: é o número de identificação unívoco de cada pedido\n",
    "    -\t`'product_id'`: é o número de identificação unívoco de cada produto\n",
    "    -\t`'add_to_cart_order'`: é a ordem sequencial em que cada item foi colocado no carrinho\n",
    "    -\t`'reordered'`: 0 se o cliente nunca comprou o produto antes, 1 se já o comprou\n",
    "\n",
    "\n",
    "\n",
    "\n",
    "-\t`aisles.csv`\n",
    "    -\t`'aisle_id'`: é o número de identificação unívoco de cada categoria de seção do supermercado\n",
    "    -\t`'aisle'`: é o nome da seção\n",
    "\n",
    "\n",
    "\n",
    "-\t`departments.csv`\n",
    "    -\t`'department_id'`: é o número de identificação unívoco de cada categoria de departamento do supermercado\n",
    "    -\t`'department'`: é o nome do departamento\n"
   ]
  },
  {
   "cell_type": "markdown",
   "id": "n3Ha_cNSZ8lK",
   "metadata": {
    "id": "n3Ha_cNSZ8lK"
   },
   "source": [
    "# Etapa 1. Visão geral dos dados\n",
    "\n",
    "Etapa de importação das bibliotecas Python, importação dos dados das tabelas e também mostrar preliminarmente os dados.\n"
   ]
  },
  {
   "cell_type": "code",
   "execution_count": 59,
   "id": "fbf1adab",
   "metadata": {
    "id": "fbf1adab"
   },
   "outputs": [],
   "source": [
    "import pandas as pd\n",
    "from matplotlib import pyplot as plt"
   ]
  },
  {
   "cell_type": "markdown",
   "id": "78ba9926",
   "metadata": {},
   "source": [
    "**Utilizamos o argumento `sep` porque os dados CSV deveriam estar separados por ',' porém estavam separados por ';':**"
   ]
  },
  {
   "cell_type": "code",
   "execution_count": 2,
   "id": "ad36396d",
   "metadata": {
    "id": "ad36396d"
   },
   "outputs": [],
   "source": [
    "df_insta = pd.read_csv('instacart_orders.csv', sep=';')\n",
    "df_prod = pd.read_csv('products.csv', sep=';')\n",
    "df_aisle = pd.read_csv('aisles.csv', sep=';')\n",
    "df_depar = pd.read_csv('departments.csv', sep=';')\n",
    "df_ord = pd.read_csv('order_products.csv', sep=';')"
   ]
  },
  {
   "cell_type": "code",
   "execution_count": 3,
   "id": "417eb569",
   "metadata": {},
   "outputs": [
    {
     "data": {
      "text/html": [
       "<div>\n",
       "<style scoped>\n",
       "    .dataframe tbody tr th:only-of-type {\n",
       "        vertical-align: middle;\n",
       "    }\n",
       "\n",
       "    .dataframe tbody tr th {\n",
       "        vertical-align: top;\n",
       "    }\n",
       "\n",
       "    .dataframe thead th {\n",
       "        text-align: right;\n",
       "    }\n",
       "</style>\n",
       "<table border=\"1\" class=\"dataframe\">\n",
       "  <thead>\n",
       "    <tr style=\"text-align: right;\">\n",
       "      <th></th>\n",
       "      <th>order_id</th>\n",
       "      <th>user_id</th>\n",
       "      <th>order_number</th>\n",
       "      <th>order_dow</th>\n",
       "      <th>order_hour_of_day</th>\n",
       "      <th>days_since_prior_order</th>\n",
       "    </tr>\n",
       "  </thead>\n",
       "  <tbody>\n",
       "    <tr>\n",
       "      <th>0</th>\n",
       "      <td>1515936</td>\n",
       "      <td>183418</td>\n",
       "      <td>11</td>\n",
       "      <td>6</td>\n",
       "      <td>13</td>\n",
       "      <td>30.0</td>\n",
       "    </tr>\n",
       "    <tr>\n",
       "      <th>1</th>\n",
       "      <td>1690866</td>\n",
       "      <td>163593</td>\n",
       "      <td>5</td>\n",
       "      <td>5</td>\n",
       "      <td>12</td>\n",
       "      <td>9.0</td>\n",
       "    </tr>\n",
       "    <tr>\n",
       "      <th>2</th>\n",
       "      <td>1454967</td>\n",
       "      <td>39980</td>\n",
       "      <td>4</td>\n",
       "      <td>5</td>\n",
       "      <td>19</td>\n",
       "      <td>2.0</td>\n",
       "    </tr>\n",
       "    <tr>\n",
       "      <th>3</th>\n",
       "      <td>1768857</td>\n",
       "      <td>82516</td>\n",
       "      <td>56</td>\n",
       "      <td>0</td>\n",
       "      <td>20</td>\n",
       "      <td>10.0</td>\n",
       "    </tr>\n",
       "    <tr>\n",
       "      <th>4</th>\n",
       "      <td>3007858</td>\n",
       "      <td>196724</td>\n",
       "      <td>2</td>\n",
       "      <td>4</td>\n",
       "      <td>12</td>\n",
       "      <td>17.0</td>\n",
       "    </tr>\n",
       "  </tbody>\n",
       "</table>\n",
       "</div>"
      ],
      "text/plain": [
       "   order_id  user_id  order_number  order_dow  order_hour_of_day  \\\n",
       "0   1515936   183418            11          6                 13   \n",
       "1   1690866   163593             5          5                 12   \n",
       "2   1454967    39980             4          5                 19   \n",
       "3   1768857    82516            56          0                 20   \n",
       "4   3007858   196724             2          4                 12   \n",
       "\n",
       "   days_since_prior_order  \n",
       "0                    30.0  \n",
       "1                     9.0  \n",
       "2                     2.0  \n",
       "3                    10.0  \n",
       "4                    17.0  "
      ]
     },
     "execution_count": 3,
     "metadata": {},
     "output_type": "execute_result"
    }
   ],
   "source": [
    "df_insta.head()"
   ]
  },
  {
   "cell_type": "code",
   "execution_count": 4,
   "id": "ad6a1efa",
   "metadata": {
    "id": "ad6a1efa"
   },
   "outputs": [
    {
     "data": {
      "text/html": [
       "<div>\n",
       "<style scoped>\n",
       "    .dataframe tbody tr th:only-of-type {\n",
       "        vertical-align: middle;\n",
       "    }\n",
       "\n",
       "    .dataframe tbody tr th {\n",
       "        vertical-align: top;\n",
       "    }\n",
       "\n",
       "    .dataframe thead th {\n",
       "        text-align: right;\n",
       "    }\n",
       "</style>\n",
       "<table border=\"1\" class=\"dataframe\">\n",
       "  <thead>\n",
       "    <tr style=\"text-align: right;\">\n",
       "      <th></th>\n",
       "      <th>product_id</th>\n",
       "      <th>product_name</th>\n",
       "      <th>aisle_id</th>\n",
       "      <th>department_id</th>\n",
       "    </tr>\n",
       "  </thead>\n",
       "  <tbody>\n",
       "    <tr>\n",
       "      <th>0</th>\n",
       "      <td>1</td>\n",
       "      <td>Chocolate Sandwich Cookies</td>\n",
       "      <td>61</td>\n",
       "      <td>19</td>\n",
       "    </tr>\n",
       "    <tr>\n",
       "      <th>1</th>\n",
       "      <td>2</td>\n",
       "      <td>All-Seasons Salt</td>\n",
       "      <td>104</td>\n",
       "      <td>13</td>\n",
       "    </tr>\n",
       "    <tr>\n",
       "      <th>2</th>\n",
       "      <td>3</td>\n",
       "      <td>Robust Golden Unsweetened Oolong Tea</td>\n",
       "      <td>94</td>\n",
       "      <td>7</td>\n",
       "    </tr>\n",
       "    <tr>\n",
       "      <th>3</th>\n",
       "      <td>4</td>\n",
       "      <td>Smart Ones Classic Favorites Mini Rigatoni Wit...</td>\n",
       "      <td>38</td>\n",
       "      <td>1</td>\n",
       "    </tr>\n",
       "    <tr>\n",
       "      <th>4</th>\n",
       "      <td>5</td>\n",
       "      <td>Green Chile Anytime Sauce</td>\n",
       "      <td>5</td>\n",
       "      <td>13</td>\n",
       "    </tr>\n",
       "  </tbody>\n",
       "</table>\n",
       "</div>"
      ],
      "text/plain": [
       "   product_id                                       product_name  aisle_id  \\\n",
       "0           1                         Chocolate Sandwich Cookies        61   \n",
       "1           2                                   All-Seasons Salt       104   \n",
       "2           3               Robust Golden Unsweetened Oolong Tea        94   \n",
       "3           4  Smart Ones Classic Favorites Mini Rigatoni Wit...        38   \n",
       "4           5                          Green Chile Anytime Sauce         5   \n",
       "\n",
       "   department_id  \n",
       "0             19  \n",
       "1             13  \n",
       "2              7  \n",
       "3              1  \n",
       "4             13  "
      ]
     },
     "execution_count": 4,
     "metadata": {},
     "output_type": "execute_result"
    }
   ],
   "source": [
    "df_prod.head()"
   ]
  },
  {
   "cell_type": "code",
   "execution_count": 5,
   "id": "5130e05e",
   "metadata": {
    "id": "5130e05e"
   },
   "outputs": [
    {
     "data": {
      "text/html": [
       "<div>\n",
       "<style scoped>\n",
       "    .dataframe tbody tr th:only-of-type {\n",
       "        vertical-align: middle;\n",
       "    }\n",
       "\n",
       "    .dataframe tbody tr th {\n",
       "        vertical-align: top;\n",
       "    }\n",
       "\n",
       "    .dataframe thead th {\n",
       "        text-align: right;\n",
       "    }\n",
       "</style>\n",
       "<table border=\"1\" class=\"dataframe\">\n",
       "  <thead>\n",
       "    <tr style=\"text-align: right;\">\n",
       "      <th></th>\n",
       "      <th>aisle_id</th>\n",
       "      <th>aisle</th>\n",
       "    </tr>\n",
       "  </thead>\n",
       "  <tbody>\n",
       "    <tr>\n",
       "      <th>0</th>\n",
       "      <td>1</td>\n",
       "      <td>prepared soups salads</td>\n",
       "    </tr>\n",
       "    <tr>\n",
       "      <th>1</th>\n",
       "      <td>2</td>\n",
       "      <td>specialty cheeses</td>\n",
       "    </tr>\n",
       "    <tr>\n",
       "      <th>2</th>\n",
       "      <td>3</td>\n",
       "      <td>energy granola bars</td>\n",
       "    </tr>\n",
       "    <tr>\n",
       "      <th>3</th>\n",
       "      <td>4</td>\n",
       "      <td>instant foods</td>\n",
       "    </tr>\n",
       "    <tr>\n",
       "      <th>4</th>\n",
       "      <td>5</td>\n",
       "      <td>marinades meat preparation</td>\n",
       "    </tr>\n",
       "  </tbody>\n",
       "</table>\n",
       "</div>"
      ],
      "text/plain": [
       "   aisle_id                       aisle\n",
       "0         1       prepared soups salads\n",
       "1         2           specialty cheeses\n",
       "2         3         energy granola bars\n",
       "3         4               instant foods\n",
       "4         5  marinades meat preparation"
      ]
     },
     "execution_count": 5,
     "metadata": {},
     "output_type": "execute_result"
    }
   ],
   "source": [
    "df_aisle.head()"
   ]
  },
  {
   "cell_type": "code",
   "execution_count": 6,
   "id": "d8370c05",
   "metadata": {
    "id": "d8370c05"
   },
   "outputs": [
    {
     "data": {
      "text/html": [
       "<div>\n",
       "<style scoped>\n",
       "    .dataframe tbody tr th:only-of-type {\n",
       "        vertical-align: middle;\n",
       "    }\n",
       "\n",
       "    .dataframe tbody tr th {\n",
       "        vertical-align: top;\n",
       "    }\n",
       "\n",
       "    .dataframe thead th {\n",
       "        text-align: right;\n",
       "    }\n",
       "</style>\n",
       "<table border=\"1\" class=\"dataframe\">\n",
       "  <thead>\n",
       "    <tr style=\"text-align: right;\">\n",
       "      <th></th>\n",
       "      <th>department_id</th>\n",
       "      <th>department</th>\n",
       "    </tr>\n",
       "  </thead>\n",
       "  <tbody>\n",
       "    <tr>\n",
       "      <th>0</th>\n",
       "      <td>1</td>\n",
       "      <td>frozen</td>\n",
       "    </tr>\n",
       "    <tr>\n",
       "      <th>1</th>\n",
       "      <td>2</td>\n",
       "      <td>other</td>\n",
       "    </tr>\n",
       "    <tr>\n",
       "      <th>2</th>\n",
       "      <td>3</td>\n",
       "      <td>bakery</td>\n",
       "    </tr>\n",
       "    <tr>\n",
       "      <th>3</th>\n",
       "      <td>4</td>\n",
       "      <td>produce</td>\n",
       "    </tr>\n",
       "    <tr>\n",
       "      <th>4</th>\n",
       "      <td>5</td>\n",
       "      <td>alcohol</td>\n",
       "    </tr>\n",
       "  </tbody>\n",
       "</table>\n",
       "</div>"
      ],
      "text/plain": [
       "   department_id department\n",
       "0              1     frozen\n",
       "1              2      other\n",
       "2              3     bakery\n",
       "3              4    produce\n",
       "4              5    alcohol"
      ]
     },
     "execution_count": 6,
     "metadata": {},
     "output_type": "execute_result"
    }
   ],
   "source": [
    "df_depar.head()"
   ]
  },
  {
   "cell_type": "code",
   "execution_count": 7,
   "id": "59e2090f",
   "metadata": {
    "id": "59e2090f",
    "scrolled": true
   },
   "outputs": [
    {
     "data": {
      "text/html": [
       "<div>\n",
       "<style scoped>\n",
       "    .dataframe tbody tr th:only-of-type {\n",
       "        vertical-align: middle;\n",
       "    }\n",
       "\n",
       "    .dataframe tbody tr th {\n",
       "        vertical-align: top;\n",
       "    }\n",
       "\n",
       "    .dataframe thead th {\n",
       "        text-align: right;\n",
       "    }\n",
       "</style>\n",
       "<table border=\"1\" class=\"dataframe\">\n",
       "  <thead>\n",
       "    <tr style=\"text-align: right;\">\n",
       "      <th></th>\n",
       "      <th>order_id</th>\n",
       "      <th>product_id</th>\n",
       "      <th>add_to_cart_order</th>\n",
       "      <th>reordered</th>\n",
       "    </tr>\n",
       "  </thead>\n",
       "  <tbody>\n",
       "    <tr>\n",
       "      <th>0</th>\n",
       "      <td>2141543</td>\n",
       "      <td>11440</td>\n",
       "      <td>17.0</td>\n",
       "      <td>0</td>\n",
       "    </tr>\n",
       "    <tr>\n",
       "      <th>1</th>\n",
       "      <td>567889</td>\n",
       "      <td>1560</td>\n",
       "      <td>1.0</td>\n",
       "      <td>1</td>\n",
       "    </tr>\n",
       "    <tr>\n",
       "      <th>2</th>\n",
       "      <td>2261212</td>\n",
       "      <td>26683</td>\n",
       "      <td>1.0</td>\n",
       "      <td>1</td>\n",
       "    </tr>\n",
       "    <tr>\n",
       "      <th>3</th>\n",
       "      <td>491251</td>\n",
       "      <td>8670</td>\n",
       "      <td>35.0</td>\n",
       "      <td>1</td>\n",
       "    </tr>\n",
       "    <tr>\n",
       "      <th>4</th>\n",
       "      <td>2571142</td>\n",
       "      <td>1940</td>\n",
       "      <td>5.0</td>\n",
       "      <td>1</td>\n",
       "    </tr>\n",
       "  </tbody>\n",
       "</table>\n",
       "</div>"
      ],
      "text/plain": [
       "   order_id  product_id  add_to_cart_order  reordered\n",
       "0   2141543       11440               17.0          0\n",
       "1    567889        1560                1.0          1\n",
       "2   2261212       26683                1.0          1\n",
       "3    491251        8670               35.0          1\n",
       "4   2571142        1940                5.0          1"
      ]
     },
     "execution_count": 7,
     "metadata": {},
     "output_type": "execute_result"
    }
   ],
   "source": [
    "df_ord.head()"
   ]
  },
  {
   "cell_type": "markdown",
   "id": "t75BD19oaR5f",
   "metadata": {
    "id": "t75BD19oaR5f"
   },
   "source": [
    "## Conclusões\n",
    "\n",
    "Os dados estão consistentes e bem organizados, porém é preciso verificar valores duplicados e ausentes e também limpar os dados para que tenhamos uma análise mais segura."
   ]
  },
  {
   "cell_type": "markdown",
   "id": "8RJHqxVmaVsF",
   "metadata": {
    "id": "8RJHqxVmaVsF"
   },
   "source": [
    "# Etapa 2. Preparação de dados\n",
    "\n",
    "-\tVerificação e correção os tipos de dados\n",
    "-\tIdentificação e preenchimento de valores ausentes\n",
    "-\tIdentificação e remoção de valores duplicados\n"
   ]
  },
  {
   "cell_type": "markdown",
   "id": "p6poABZQaZYb",
   "metadata": {
    "id": "p6poABZQaZYb"
   },
   "source": [
    "## Plano de solução\n",
    "\n",
    "Meu plano para essa seção são os códigos de correção do tipo de dados, como por exemplo: str, int, float, etc.. e também procurar por valores ausentes usando a fórmula ISNA e podemos preencher estes valores com a método FILLNA e também o replace e, por fim, podemos verificar os dados duplicados com o método DUPLICATED e removê-los com o método DROP.DUPLICATES."
   ]
  },
  {
   "cell_type": "markdown",
   "id": "f179f0a9",
   "metadata": {
    "id": "f179f0a9"
   },
   "source": [
    "### DataFrame `orders`"
   ]
  },
  {
   "cell_type": "code",
   "execution_count": 8,
   "id": "b99297a5-405a-463d-8535-9adc3da4ad74",
   "metadata": {
    "id": "b99297a5-405a-463d-8535-9adc3da4ad74"
   },
   "outputs": [
    {
     "name": "stdout",
     "output_type": "stream",
     "text": [
      "        order_id  user_id  order_number  order_dow  order_hour_of_day  \\\n",
      "30371    1918001   188546            14          3                  2   \n",
      "99462     794638    50898            24          3                  2   \n",
      "119251    408114    68324             4          3                  2   \n",
      "142258   2845099    31189            11          3                  2   \n",
      "145574    794638    50898            24          3                  2   \n",
      "164581   1112182   202304            84          3                  2   \n",
      "200059   1782114   106752             1          3                  2   \n",
      "204042   2125197    14050            48          3                  2   \n",
      "215294   2160484   107525            16          3                  2   \n",
      "223105   2160484   107525            16          3                  2   \n",
      "230807   1918001   188546            14          3                  2   \n",
      "242618   1021560    53767             3          3                  2   \n",
      "250626    467134    63189            21          3                  2   \n",
      "257934   1919531   191501            32          3                  2   \n",
      "259636   2282673    86751            49          3                  2   \n",
      "266232   1782114   106752             1          3                  2   \n",
      "273805   1112182   202304            84          3                  2   \n",
      "284038   2845099    31189            11          3                  2   \n",
      "311713   1021560    53767             3          3                  2   \n",
      "314427   1286742   183220            48          3                  2   \n",
      "321100    408114    68324             4          3                  2   \n",
      "323900   1919531   191501            32          3                  2   \n",
      "324868   2232988    82565             1          3                  2   \n",
      "345917   2232988    82565             1          3                  2   \n",
      "354993    391768    57671            19          3                  2   \n",
      "371905    391768    57671            19          3                  2   \n",
      "394347    467134    63189            21          3                  2   \n",
      "411408   1286742   183220            48          3                  2   \n",
      "415163   2282673    86751            49          3                  2   \n",
      "441599   2125197    14050            48          3                  2   \n",
      "\n",
      "        days_since_prior_order  \n",
      "30371                     16.0  \n",
      "99462                      2.0  \n",
      "119251                    18.0  \n",
      "142258                     7.0  \n",
      "145574                     2.0  \n",
      "164581                     6.0  \n",
      "200059                     NaN  \n",
      "204042                     3.0  \n",
      "215294                    30.0  \n",
      "223105                    30.0  \n",
      "230807                    16.0  \n",
      "242618                     9.0  \n",
      "250626                     2.0  \n",
      "257934                     7.0  \n",
      "259636                     2.0  \n",
      "266232                     NaN  \n",
      "273805                     6.0  \n",
      "284038                     7.0  \n",
      "311713                     9.0  \n",
      "314427                     4.0  \n",
      "321100                    18.0  \n",
      "323900                     7.0  \n",
      "324868                     NaN  \n",
      "345917                     NaN  \n",
      "354993                    10.0  \n",
      "371905                    10.0  \n",
      "394347                     2.0  \n",
      "411408                     4.0  \n",
      "415163                     2.0  \n",
      "441599                     3.0  \n",
      "\n",
      "A soma do número de linhas duplicados no Dataframe é:  15\n"
     ]
    }
   ],
   "source": [
    "duplicated_rows = df_insta[df_insta.duplicated(keep=False)]\n",
    "print(duplicated_rows)\n",
    "print()\n",
    "print(\"A soma do número de linhas duplicados no Dataframe é: \", df_insta.duplicated().sum())"
   ]
  },
  {
   "cell_type": "markdown",
   "id": "PEkwUX_gvt5A",
   "metadata": {
    "id": "PEkwUX_gvt5A"
   },
   "source": [
    "<span style=\"color:green;\">O que podemos notar no DataFrame é que todos pedidos duplicados tem em comum o dia da semana: dia 3 (quarta-feira) e a hora da semana: 2 (2 horas da manhã).</span>"
   ]
  },
  {
   "cell_type": "markdown",
   "id": "a12b153b",
   "metadata": {},
   "source": [
    "**Verificando todos os pedidos feitos às 2 horas da manhã nas quartas-feiras:**"
   ]
  },
  {
   "cell_type": "code",
   "execution_count": 61,
   "id": "0d44de5d",
   "metadata": {
    "id": "0d44de5d"
   },
   "outputs": [
    {
     "data": {
      "text/plain": [
       "0      2766110\n",
       "1      2190225\n",
       "2       553049\n",
       "3       382357\n",
       "4       690242\n",
       "        ...   \n",
       "101    3384021\n",
       "102     910166\n",
       "103    1680532\n",
       "104     222962\n",
       "105    2592344\n",
       "Name: order_id, Length: 106, dtype: int64"
      ]
     },
     "execution_count": 61,
     "metadata": {},
     "output_type": "execute_result"
    }
   ],
   "source": [
    "def orders_day_hour(df_insta, order_dow, order_hour_of_day):\n",
    "    df_filtered_day = df_insta[df_insta['order_dow'] == 3]\n",
    "    df_filtered_day_hour = df_filtered_day[df_filtered_day['order_hour_of_day'] == 2]\n",
    "    \n",
    "    order_day_hour = df_filtered_day_hour['order_id']\n",
    "    \n",
    "    return order_day_hour\n",
    "    \n",
    "result = orders_day_hour(df_insta, 3, 2)\n",
    "result.reset_index(drop=True)"
   ]
  },
  {
   "cell_type": "markdown",
   "id": "6d634eed",
   "metadata": {},
   "source": [
    "<span style=\"color:green;\">Este resultado quer dizer que nós temos 106 pedidos feitos às 2 horas da manhã na quarta-feira.</span>"
   ]
  },
  {
   "cell_type": "markdown",
   "id": "d2bf614d",
   "metadata": {},
   "source": [
    "**Removendo os pedidos duplicados:**"
   ]
  },
  {
   "cell_type": "code",
   "execution_count": 10,
   "id": "480563c7",
   "metadata": {
    "id": "480563c7",
    "scrolled": true
   },
   "outputs": [],
   "source": [
    "df_insta.drop_duplicates(inplace=True)"
   ]
  },
  {
   "cell_type": "markdown",
   "id": "11ed32e5",
   "metadata": {},
   "source": [
    "**Verificando se os dados foram removidos:**"
   ]
  },
  {
   "cell_type": "code",
   "execution_count": 11,
   "id": "0b2396a2",
   "metadata": {
    "id": "0b2396a2"
   },
   "outputs": [
    {
     "data": {
      "text/plain": [
       "0"
      ]
     },
     "execution_count": 11,
     "metadata": {},
     "output_type": "execute_result"
    }
   ],
   "source": [
    "df_insta.duplicated().sum()"
   ]
  },
  {
   "cell_type": "markdown",
   "id": "5e8905ae",
   "metadata": {
    "id": "5e8905ae"
   },
   "source": [
    "<span style=\"color:green;\">Olhando para o Dataframe, notamos que haviam 15 linhas duplicadas que identificamos pelo dia \"3\" (quarta-feira) e pela hora \"2\" (2 horas da manhã). A partir disso, consegui limpar os dados usando os métodos de pandas certos para removê-los para deixar nossa análise mais clara.</span>"
   ]
  },
  {
   "cell_type": "markdown",
   "id": "45e6bc46",
   "metadata": {
    "id": "45e6bc46"
   },
   "source": [
    "### DataFrame `products`"
   ]
  },
  {
   "cell_type": "markdown",
   "id": "2c3a4d6a",
   "metadata": {},
   "source": [
    "**Verificando os produtos duplicados explícitos:**"
   ]
  },
  {
   "cell_type": "code",
   "execution_count": 12,
   "id": "b1fca3d3",
   "metadata": {},
   "outputs": [
    {
     "data": {
      "text/plain": [
       "0"
      ]
     },
     "execution_count": 12,
     "metadata": {},
     "output_type": "execute_result"
    }
   ],
   "source": [
    "df_prod.duplicated().sum()"
   ]
  },
  {
   "cell_type": "markdown",
   "id": "fbbb2941",
   "metadata": {},
   "source": [
    "**Verificando se há IDs de departamentos duplicados:**"
   ]
  },
  {
   "cell_type": "code",
   "execution_count": 13,
   "id": "88daa4f4",
   "metadata": {
    "id": "88daa4f4",
    "scrolled": true
   },
   "outputs": [
    {
     "name": "stdout",
     "output_type": "stream",
     "text": [
      "0\n"
     ]
    }
   ],
   "source": [
    "df_filtered_3 = df_prod['product_id'].duplicated().sum()\n",
    "print(df_filtered_3)"
   ]
  },
  {
   "cell_type": "markdown",
   "id": "9df66558",
   "metadata": {},
   "source": [
    "**Verificando os produtos duplicados implícitos:**"
   ]
  },
  {
   "cell_type": "code",
   "execution_count": 14,
   "id": "c773f0bf",
   "metadata": {
    "id": "c773f0bf",
    "scrolled": true
   },
   "outputs": [
    {
     "name": "stdout",
     "output_type": "stream",
     "text": [
      "0                           chocolate sandwich cookies\n",
      "1                                     all-seasons salt\n",
      "2                 robust golden unsweetened oolong tea\n",
      "3    smart ones classic favorites mini rigatoni wit...\n",
      "4                            green chile anytime sauce\n",
      "Name: product_name, dtype: object\n",
      "\n",
      "A soma de produtos duplicados no Dataframe é de:  1361\n",
      "\n",
      "71                                                   NaN\n",
      "109                                                  NaN\n",
      "296                                                  NaN\n",
      "416                                                  NaN\n",
      "436                                                  NaN\n",
      "                              ...                       \n",
      "49689                      high performance energy drink\n",
      "49690                      original pancake & waffle mix\n",
      "49691    organic instant oatmeal light maple brown sugar\n",
      "49692                             spring water body wash\n",
      "49693                            burrito- steak & cheese\n",
      "Name: product_name, Length: 1361, dtype: object\n"
     ]
    }
   ],
   "source": [
    "df_lower = df_prod['product_name'].str.lower()\n",
    "print(df_lower.head())\n",
    "print()\n",
    "duplicated_prod = df_lower.duplicated().sum()\n",
    "print(\"A soma de produtos duplicados no Dataframe é de: \", duplicated_prod)\n",
    "print()\n",
    "print(df_lower[df_lower.duplicated()])"
   ]
  },
  {
   "cell_type": "markdown",
   "id": "441b6130",
   "metadata": {},
   "source": [
    "**Removendo os valores \"NaN\" e organizando os dados:**"
   ]
  },
  {
   "cell_type": "code",
   "execution_count": 15,
   "id": "01efd02e",
   "metadata": {
    "id": "01efd02e"
   },
   "outputs": [
    {
     "name": "stdout",
     "output_type": "stream",
     "text": [
      "product_name\n",
      "green tea with ginseng and honey    3\n",
      "herring in wine sauce               2\n",
      "megaflora probiotic                 2\n",
      "yams cut sweet potatoes in syrup    2\n",
      "gluten free spaghetti               2\n",
      "                                   ..\n",
      "cabernet tomatoes                   1\n",
      "brie with herbs foil wedge          1\n",
      "organic creamed coconut             1\n",
      "professionals sleek shampoo         1\n",
      "fresh foaming cleanser              1\n",
      "Name: count, Length: 48332, dtype: int64\n",
      "\n",
      "A soma de produtos duplicados no Dataframe é de:  104\n"
     ]
    }
   ],
   "source": [
    "df_lower.dropna(inplace=True)\n",
    "print(df_lower.value_counts().sort_values(ascending=False))\n",
    "print()\n",
    "duplicated_prod = df_lower.duplicated().sum()\n",
    "print(\"A soma de produtos duplicados no Dataframe é de: \", duplicated_prod)"
   ]
  },
  {
   "cell_type": "markdown",
   "id": "9da8d293",
   "metadata": {
    "id": "9da8d293"
   },
   "source": [
    "<span style=\"color:green;\">Verificamos nessa questão que haviam 1361 produtos duplicados e muitos deles eram \"NaNs\" e logo depois eu retirei os mesmos com o método \"dropna\" e achei o novo número de produtos duplicados que é 104.</span>"
   ]
  },
  {
   "cell_type": "markdown",
   "id": "60f30db1",
   "metadata": {
    "id": "60f30db1"
   },
   "source": [
    "### DataFrame `departments`"
   ]
  },
  {
   "cell_type": "markdown",
   "id": "f45a8e12",
   "metadata": {},
   "source": [
    "**Verificando dados duplicados no DataFrame:**"
   ]
  },
  {
   "cell_type": "code",
   "execution_count": 18,
   "id": "fb410ad4-0fbf-4b80-bb09-23fdea79afe3",
   "metadata": {
    "id": "fb410ad4-0fbf-4b80-bb09-23fdea79afe3"
   },
   "outputs": [
    {
     "data": {
      "text/plain": [
       "0"
      ]
     },
     "execution_count": 18,
     "metadata": {},
     "output_type": "execute_result"
    }
   ],
   "source": [
    "df_depar.duplicated().sum()"
   ]
  },
  {
   "cell_type": "markdown",
   "id": "6de39a1b",
   "metadata": {},
   "source": [
    "**Verificando dados duplicados somente na coluna departament_ID:**"
   ]
  },
  {
   "cell_type": "code",
   "execution_count": 16,
   "id": "332b12bb",
   "metadata": {
    "id": "332b12bb"
   },
   "outputs": [
    {
     "data": {
      "text/plain": [
       "0"
      ]
     },
     "execution_count": 16,
     "metadata": {},
     "output_type": "execute_result"
    }
   ],
   "source": [
    "df_filtered_3 = df_depar['department_id'].duplicated().sum()\n",
    "df_filtered_3"
   ]
  },
  {
   "cell_type": "markdown",
   "id": "bd30d78e",
   "metadata": {
    "id": "bd30d78e"
   },
   "source": [
    "<span style=\"color:green;\">Não foram encontrados dados duplicados.</span>"
   ]
  },
  {
   "cell_type": "markdown",
   "id": "889349c1",
   "metadata": {
    "id": "889349c1"
   },
   "source": [
    "### DataFrame `aisles`"
   ]
  },
  {
   "cell_type": "markdown",
   "id": "49fd45d0",
   "metadata": {},
   "source": [
    "**Verificando dados duplicados no DataFrame:**"
   ]
  },
  {
   "cell_type": "code",
   "execution_count": 18,
   "id": "9da89fb9-4679-40f5-ad0d-c34df753a3f8",
   "metadata": {
    "id": "9da89fb9-4679-40f5-ad0d-c34df753a3f8"
   },
   "outputs": [
    {
     "data": {
      "text/plain": [
       "0"
      ]
     },
     "execution_count": 18,
     "metadata": {},
     "output_type": "execute_result"
    }
   ],
   "source": [
    "df_aisle.duplicated().sum()"
   ]
  },
  {
   "cell_type": "markdown",
   "id": "8d27221f",
   "metadata": {},
   "source": [
    "**Verificando dados duplicados somente na coluna aisle_ID:**"
   ]
  },
  {
   "cell_type": "code",
   "execution_count": 21,
   "id": "da7c2822",
   "metadata": {
    "id": "da7c2822"
   },
   "outputs": [
    {
     "data": {
      "text/plain": [
       "0"
      ]
     },
     "execution_count": 21,
     "metadata": {},
     "output_type": "execute_result"
    }
   ],
   "source": [
    "df_filtered_4 = df_aisle['aisle_id'].duplicated().sum()\n",
    "df_filtered_4"
   ]
  },
  {
   "cell_type": "markdown",
   "id": "80c052ed",
   "metadata": {},
   "source": [
    "<span style=\"color:green;\">Não foram encontrados dados duplicados.</span>"
   ]
  },
  {
   "cell_type": "markdown",
   "id": "274cd06a",
   "metadata": {
    "id": "274cd06a"
   },
   "source": [
    "### DataFrame `order_products`"
   ]
  },
  {
   "cell_type": "markdown",
   "id": "b99de82d",
   "metadata": {},
   "source": [
    "**Verificando dados duplicados no DataFrame:**"
   ]
  },
  {
   "cell_type": "code",
   "execution_count": 19,
   "id": "52326689-84a8-4b8f-a881-7c68780f62c9",
   "metadata": {
    "id": "52326689-84a8-4b8f-a881-7c68780f62c9"
   },
   "outputs": [
    {
     "data": {
      "text/plain": [
       "0"
      ]
     },
     "execution_count": 19,
     "metadata": {},
     "output_type": "execute_result"
    }
   ],
   "source": [
    "df_ord.duplicated().sum()"
   ]
  },
  {
   "cell_type": "code",
   "execution_count": 60,
   "id": "7b861391",
   "metadata": {
    "id": "7b861391"
   },
   "outputs": [
    {
     "name": "stdout",
     "output_type": "stream",
     "text": [
      "Empty DataFrame\n",
      "Columns: [order_id, product_id, add_to_cart_order, reordered, reordered_new]\n",
      "Index: []\n"
     ]
    }
   ],
   "source": [
    "duplicated_order = df_ord[df_ord.duplicated(keep=False)]\n",
    "print(duplicated_order)"
   ]
  },
  {
   "cell_type": "markdown",
   "id": "08b35a9d",
   "metadata": {},
   "source": [
    "<span style=\"color:green;\">Não foram encontrados dados duplicados.</span>"
   ]
  },
  {
   "cell_type": "markdown",
   "id": "1e46de76",
   "metadata": {
    "id": "1e46de76"
   },
   "source": [
    "## Encontrando e removendo valores ausentes\n",
    "\n",
    "\n",
    "Precisaremos investigar valores ausentes seguintes colunas:\n",
    "\n",
    "*\tA coluna `'product_name'` da tabela products.\n",
    "*\tA coluna `'days_since_prior_order'` da tabela orders.\n",
    "*\tA coluna `'add_to_cart_order'` da tabela order_products.\n"
   ]
  },
  {
   "cell_type": "markdown",
   "id": "c0aebd78",
   "metadata": {
    "id": "c0aebd78"
   },
   "source": [
    "### DataFrame `products`"
   ]
  },
  {
   "cell_type": "markdown",
   "id": "29dea5cf",
   "metadata": {},
   "source": [
    "**Verificando dados ausente na coluna 'product name' no DataFrame:**"
   ]
  },
  {
   "cell_type": "code",
   "execution_count": 23,
   "id": "fe4a8b0f",
   "metadata": {
    "id": "fe4a8b0f"
   },
   "outputs": [
    {
     "name": "stdout",
     "output_type": "stream",
     "text": [
      "1258\n",
      "\n",
      "product_name\n",
      "NaN                                      1258\n",
      "Chocolate Sandwich Cookies                  1\n",
      "Krinkle Cut Carolina BBQ Potato Chips       1\n",
      "Fresh Ground Turkey- 85% Lean/15% Fat       1\n",
      "Organic Unsweetened Ketchup                 1\n",
      "                                         ... \n",
      "Organic Fresh Carrot Chips                  1\n",
      "Unbleached Jumbo Baking Cups                1\n",
      "Super Glue Gel Control                      1\n",
      "3 Cheese Ravioli                            1\n",
      "BURRITO- STEAK & CHEESE                     1\n",
      "Name: count, Length: 48437, dtype: int64\n"
     ]
    }
   ],
   "source": [
    "print(df_prod['product_name'].isna().sum())\n",
    "print()\n",
    "print(df_prod['product_name'].value_counts(dropna=False))"
   ]
  },
  {
   "cell_type": "markdown",
   "id": "-A6x1AbJhjkp",
   "metadata": {
    "id": "-A6x1AbJhjkp"
   },
   "source": [
    "<span style=\"color:green;\">Filtrando o DataFrame, vemos que temos 1258 valores ausentes na coluna 'product_name'.</span>"
   ]
  },
  {
   "cell_type": "markdown",
   "id": "629e5e69",
   "metadata": {},
   "source": [
    "**Verificando se os dados ausente na coluna 'aisle_id' são todos relacionados ao aisle 100 no DataFrame:**"
   ]
  },
  {
   "cell_type": "code",
   "execution_count": 24,
   "id": "e96167bc",
   "metadata": {
    "id": "e96167bc"
   },
   "outputs": [
    {
     "name": "stdout",
     "output_type": "stream",
     "text": [
      "     product_id product_name  aisle_id  department_id\n",
      "37           38          NaN       100             21\n",
      "71           72          NaN       100             21\n",
      "109         110          NaN       100             21\n",
      "296         297          NaN       100             21\n",
      "416         417          NaN       100             21\n",
      "436         437          NaN       100             21\n",
      "439         440          NaN       100             21\n",
      "471         472          NaN       100             21\n",
      "490         491          NaN       100             21\n",
      "555         556          NaN       100             21\n",
      "561         562          NaN       100             21\n",
      "613         614          NaN       100             21\n",
      "623         624          NaN       100             21\n",
      "689         690          NaN       100             21\n",
      "767         768          NaN       100             21\n",
      "\n",
      "       product_id product_name  aisle_id  department_id\n",
      "48886       48887          NaN       100             21\n",
      "49016       49017          NaN       100             21\n",
      "49135       49136          NaN       100             21\n",
      "49237       49238          NaN       100             21\n",
      "49356       49357          NaN       100             21\n",
      "49405       49406          NaN       100             21\n",
      "49422       49423          NaN       100             21\n",
      "49481       49482          NaN       100             21\n",
      "49483       49484          NaN       100             21\n",
      "49545       49546          NaN       100             21\n",
      "49552       49553          NaN       100             21\n",
      "49574       49575          NaN       100             21\n",
      "49640       49641          NaN       100             21\n",
      "49663       49664          NaN       100             21\n",
      "49668       49669          NaN       100             21\n",
      "\n",
      "       product_id product_name  aisle_id  department_id\n",
      "9250         9251          NaN       100             21\n",
      "25715       25716          NaN       100             21\n",
      "34957       34958          NaN       100             21\n",
      "13338       13339          NaN       100             21\n",
      "24584       24585          NaN       100             21\n",
      "18250       18251          NaN       100             21\n",
      "26384       26385          NaN       100             21\n",
      "11140       11141          NaN       100             21\n",
      "48827       48828          NaN       100             21\n",
      "38976       38977          NaN       100             21\n",
      "19469       19470          NaN       100             21\n",
      "46194       46195          NaN       100             21\n",
      "16785       16786          NaN       100             21\n",
      "25197       25198          NaN       100             21\n",
      "11355       11356          NaN       100             21\n"
     ]
    }
   ],
   "source": [
    "print(df_prod[df_prod['aisle_id'] == 100].head(15))\n",
    "print()\n",
    "print(df_prod[df_prod['aisle_id'] == 100].tail(15))\n",
    "print()\n",
    "print(df_prod[df_prod['aisle_id'] == 100].sample(15))"
   ]
  },
  {
   "cell_type": "markdown",
   "id": "ed8531ce",
   "metadata": {},
   "source": [
    "<span style=\"color:green;\">Como pode-se notar, todos os valores ausentes se encontrava no 'aisle_id' = 100.</span>"
   ]
  },
  {
   "cell_type": "markdown",
   "id": "30e593a2",
   "metadata": {},
   "source": [
    "**Verificando se os dados ausente na coluna 'department_id' são todos relacionados ao departamento 21 no DataFrame:**"
   ]
  },
  {
   "cell_type": "code",
   "execution_count": 25,
   "id": "8fd0a541",
   "metadata": {
    "id": "8fd0a541"
   },
   "outputs": [
    {
     "name": "stdout",
     "output_type": "stream",
     "text": [
      "     product_id product_name  aisle_id  department_id\n",
      "37           38          NaN       100             21\n",
      "71           72          NaN       100             21\n",
      "109         110          NaN       100             21\n",
      "296         297          NaN       100             21\n",
      "416         417          NaN       100             21\n",
      "436         437          NaN       100             21\n",
      "439         440          NaN       100             21\n",
      "471         472          NaN       100             21\n",
      "490         491          NaN       100             21\n",
      "555         556          NaN       100             21\n",
      "561         562          NaN       100             21\n",
      "613         614          NaN       100             21\n",
      "623         624          NaN       100             21\n",
      "689         690          NaN       100             21\n",
      "767         768          NaN       100             21\n",
      "\n",
      "       product_id product_name  aisle_id  department_id\n",
      "48886       48887          NaN       100             21\n",
      "49016       49017          NaN       100             21\n",
      "49135       49136          NaN       100             21\n",
      "49237       49238          NaN       100             21\n",
      "49356       49357          NaN       100             21\n",
      "49405       49406          NaN       100             21\n",
      "49422       49423          NaN       100             21\n",
      "49481       49482          NaN       100             21\n",
      "49483       49484          NaN       100             21\n",
      "49545       49546          NaN       100             21\n",
      "49552       49553          NaN       100             21\n",
      "49574       49575          NaN       100             21\n",
      "49640       49641          NaN       100             21\n",
      "49663       49664          NaN       100             21\n",
      "49668       49669          NaN       100             21\n",
      "\n",
      "       product_id product_name  aisle_id  department_id\n",
      "12690       12691          NaN       100             21\n",
      "14749       14750          NaN       100             21\n",
      "25061       25062          NaN       100             21\n",
      "15431       15432          NaN       100             21\n",
      "2081         2082          NaN       100             21\n",
      "28196       28197          NaN       100             21\n",
      "8042         8043          NaN       100             21\n",
      "1858         1859          NaN       100             21\n",
      "38509       38510          NaN       100             21\n",
      "23402       23403          NaN       100             21\n",
      "12528       12529          NaN       100             21\n",
      "43846       43847          NaN       100             21\n",
      "23496       23497          NaN       100             21\n",
      "37259       37260          NaN       100             21\n",
      "38854       38855          NaN       100             21\n"
     ]
    }
   ],
   "source": [
    "print(df_prod[df_prod['department_id'] == 21].head(15))\n",
    "print()\n",
    "print(df_prod[df_prod['department_id'] == 21].tail(15))\n",
    "print()\n",
    "print(df_prod[df_prod['department_id'] == 21].sample(15))"
   ]
  },
  {
   "cell_type": "markdown",
   "id": "20557e89",
   "metadata": {},
   "source": [
    "<span style=\"color:green;\">Como pode-se notar, todos os valores ausentes se encontrava no 'department_id' = 21.</span>"
   ]
  },
  {
   "cell_type": "markdown",
   "id": "030567ec",
   "metadata": {},
   "source": [
    "**Verificando as duas colunas em conjunto:**"
   ]
  },
  {
   "cell_type": "code",
   "execution_count": 27,
   "id": "325c3464",
   "metadata": {
    "id": "325c3464"
   },
   "outputs": [
    {
     "name": "stdout",
     "output_type": "stream",
     "text": [
      "    department_id department\n",
      "20             21    missing\n",
      "\n",
      "    aisle_id    aisle\n",
      "99       100  missing\n"
     ]
    }
   ],
   "source": [
    "print(df_depar[df_depar['department_id'] == 21].head())\n",
    "print()\n",
    "print(df_aisle[df_aisle['aisle_id'] == 100].head())"
   ]
  },
  {
   "cell_type": "markdown",
   "id": "c4220a94",
   "metadata": {},
   "source": [
    "<span style=\"color:green;\">Podemos notar com esse resultado que o valor correspondente a 21 no Dataframe 'df_depar' está ausente, assim como o valor correspondente a 100 no Dataframe 'df_aisle' está também ausente. Isso jusfica o porquê dos valores ausentes no Dataframe \"df_prod\".</span>"
   ]
  },
  {
   "cell_type": "markdown",
   "id": "9cafe11d",
   "metadata": {},
   "source": [
    "**Utilizando método `Fillna()` para substituir os valores ausentes pela palavra 'Unknown':**"
   ]
  },
  {
   "cell_type": "code",
   "execution_count": 32,
   "id": "a1089e06",
   "metadata": {},
   "outputs": [
    {
     "name": "stdout",
     "output_type": "stream",
     "text": [
      "      product_id product_name  aisle_id  department_id\n",
      "37            38      Unknown       100             21\n",
      "71            72      Unknown       100             21\n",
      "109          110      Unknown       100             21\n",
      "296          297      Unknown       100             21\n",
      "416          417      Unknown       100             21\n",
      "436          437      Unknown       100             21\n",
      "439          440      Unknown       100             21\n",
      "471          472      Unknown       100             21\n",
      "490          491      Unknown       100             21\n",
      "555          556      Unknown       100             21\n",
      "561          562      Unknown       100             21\n",
      "613          614      Unknown       100             21\n",
      "623          624      Unknown       100             21\n",
      "689          690      Unknown       100             21\n",
      "767          768      Unknown       100             21\n",
      "803          804      Unknown       100             21\n",
      "890          891      Unknown       100             21\n",
      "990          991      Unknown       100             21\n",
      "1018        1019      Unknown       100             21\n",
      "1054        1055      Unknown       100             21\n",
      "1217        1218      Unknown       100             21\n",
      "1282        1283      Unknown       100             21\n",
      "1301        1302      Unknown       100             21\n",
      "1386        1387      Unknown       100             21\n",
      "1547        1548      Unknown       100             21\n",
      "1561        1562      Unknown       100             21\n",
      "1714        1715      Unknown       100             21\n",
      "1717        1718      Unknown       100             21\n",
      "1741        1742      Unknown       100             21\n",
      "1797        1798      Unknown       100             21\n",
      "1858        1859      Unknown       100             21\n",
      "1960        1961      Unknown       100             21\n",
      "2031        2032      Unknown       100             21\n",
      "2081        2082      Unknown       100             21\n",
      "2133        2134      Unknown       100             21\n",
      "2161        2162      Unknown       100             21\n",
      "2197        2198      Unknown       100             21\n",
      "2264        2265      Unknown       100             21\n",
      "2334        2335      Unknown       100             21\n",
      "2370        2371      Unknown       100             21\n",
      "2374        2375      Unknown       100             21\n",
      "2383        2384      Unknown       100             21\n",
      "2506        2507      Unknown       100             21\n",
      "2553        2554      Unknown       100             21\n",
      "2556        2557      Unknown       100             21\n",
      "2576        2577      Unknown       100             21\n",
      "2591        2592      Unknown       100             21\n",
      "2607        2608      Unknown       100             21\n",
      "2672        2673      Unknown       100             21\n",
      "2686        2687      Unknown       100             21\n"
     ]
    }
   ],
   "source": [
    "df_prod['product_name'].fillna('Unknown', inplace=True)\n",
    "print(df_prod[df_prod['aisle_id'] == 100].head(50))"
   ]
  },
  {
   "cell_type": "markdown",
   "id": "7eb45c86",
   "metadata": {
    "id": "7eb45c86"
   },
   "source": [
    "### DataFrame `orders`"
   ]
  },
  {
   "cell_type": "markdown",
   "id": "8ffa7831",
   "metadata": {},
   "source": [
    "**Verificando as valores ausentes no Dataframe:**"
   ]
  },
  {
   "cell_type": "code",
   "execution_count": 29,
   "id": "93e41d96",
   "metadata": {
    "id": "93e41d96"
   },
   "outputs": [
    {
     "data": {
      "text/plain": [
       "order_id                      0\n",
       "user_id                       0\n",
       "order_number                  0\n",
       "order_dow                     0\n",
       "order_hour_of_day             0\n",
       "days_since_prior_order    28817\n",
       "dtype: int64"
      ]
     },
     "execution_count": 29,
     "metadata": {},
     "output_type": "execute_result"
    }
   ],
   "source": [
    "df_insta.isna().sum()"
   ]
  },
  {
   "cell_type": "markdown",
   "id": "fe42134c",
   "metadata": {},
   "source": [
    "**Verificando se há valores ausentes para clientes que já fizeram seu primeiro pedido na plataforma:**"
   ]
  },
  {
   "cell_type": "code",
   "execution_count": 31,
   "id": "166e5a86",
   "metadata": {
    "id": "166e5a86"
   },
   "outputs": [
    {
     "data": {
      "text/plain": [
       "order_id                  0\n",
       "user_id                   0\n",
       "order_number              0\n",
       "order_dow                 0\n",
       "order_hour_of_day         0\n",
       "days_since_prior_order    0\n",
       "dtype: int64"
      ]
     },
     "execution_count": 31,
     "metadata": {},
     "output_type": "execute_result"
    }
   ],
   "source": [
    "loyal_cli = df_insta[df_insta['days_since_prior_order'] > 0]\n",
    "loyal_cli.isna().sum()"
   ]
  },
  {
   "cell_type": "markdown",
   "id": "2e5b21fc",
   "metadata": {},
   "source": [
    "<span style=\"color:green;\">Notou-se que há 28817 valores ausentes na coluna 'days_since_prior_order', ou seja, pessoas provavelmente colocaram o pedido no carrinho e não finalizaram a compra. Notamos também que não há valores ausentes para clientes que já fizeram seu primeiro pedido pela plataforma.</span>"
   ]
  },
  {
   "cell_type": "markdown",
   "id": "69dc9ca4",
   "metadata": {
    "id": "69dc9ca4"
   },
   "source": [
    "### DataFrame `order_products`"
   ]
  },
  {
   "cell_type": "markdown",
   "id": "3dba14be",
   "metadata": {},
   "source": [
    "**Verificando valores ausentes no Dataframe:**"
   ]
  },
  {
   "cell_type": "code",
   "execution_count": 28,
   "id": "b8240253",
   "metadata": {
    "id": "b8240253"
   },
   "outputs": [
    {
     "data": {
      "text/plain": [
       "order_id               0\n",
       "product_id             0\n",
       "add_to_cart_order    836\n",
       "reordered              0\n",
       "dtype: int64"
      ]
     },
     "execution_count": 28,
     "metadata": {},
     "output_type": "execute_result"
    }
   ],
   "source": [
    "df_ord.isna().sum()"
   ]
  },
  {
   "cell_type": "markdown",
   "id": "3ac5a915",
   "metadata": {},
   "source": [
    "**Verificando valores mínimos e máximos na coluna 'add_to_cart_order':**"
   ]
  },
  {
   "cell_type": "code",
   "execution_count": 32,
   "id": "9a78e5ee",
   "metadata": {
    "id": "9a78e5ee"
   },
   "outputs": [
    {
     "name": "stdout",
     "output_type": "stream",
     "text": [
      "Os valores mínimo e máximo da coluna add_to_cart_order são respectivamente: 1.0 64.0\n"
     ]
    }
   ],
   "source": [
    "print(\"Os valores mínimo e máximo da coluna add_to_cart_order são respectivamente:\", \n",
    "      df_ord['add_to_cart_order'].min(), \n",
    "      df_ord['add_to_cart_order'].max())"
   ]
  },
  {
   "cell_type": "markdown",
   "id": "c98bb74c",
   "metadata": {},
   "source": [
    "<span style=\"color:green;\">Notou-se que há 836 valores ausentes na coluna 'add_to_cart_order' e que os valores máximos e míninos desta mesma coluna são respectivamente: 1 e 64.</span>"
   ]
  },
  {
   "cell_type": "markdown",
   "id": "9b3e3274",
   "metadata": {},
   "source": [
    "**Salvando todos os IDs dos pedidos com pelo menos um valor ausente em 'add_to_cart_order':**"
   ]
  },
  {
   "cell_type": "code",
   "execution_count": 36,
   "id": "ab9d0c2b",
   "metadata": {
    "id": "ab9d0c2b"
   },
   "outputs": [
    {
     "name": "stdout",
     "output_type": "stream",
     "text": [
      "[2449164 1968313 2926893 1717990 1959075  844733   61355  936852  264710\n",
      " 1564093  129627  293169 2849370 1386261 3308010  903110 2136777 3347453\n",
      " 1888628  165801 2094761 1038146 2997021  813364 2256933  171934 2409109\n",
      " 1730767 1169835  733526  404157 3125735  747668 1800005 1961723  871281\n",
      "  388234 1648217 1477139  102236 1021563 1832957 2721963  678116 1220886\n",
      " 1673227 2999801 1633337 2470674 2625444 1677118 2479011 3383594 1183255\n",
      " 1713430 2652650 1598369 1916118  854647 1302315  888470  180546 2621907\n",
      " 1308785 2729254    9310 2170451 2979697 1625713 1529171]\n"
     ]
    }
   ],
   "source": [
    "mis_value = df_ord['add_to_cart_order'].isna()\n",
    "id_mis = df_ord['order_id'][mis_value].unique()\n",
    "print(id_mis)"
   ]
  },
  {
   "cell_type": "markdown",
   "id": "56bf350b",
   "metadata": {},
   "source": [
    "**Verificando os pedidos com valores ausentes, agrupando os pedidos com dados ausentes por ID de pedido e contando o número de `product_id` em cada pedido:**"
   ]
  },
  {
   "cell_type": "code",
   "execution_count": 38,
   "id": "54c31695",
   "metadata": {
    "id": "54c31695"
   },
   "outputs": [
    {
     "name": "stdout",
     "output_type": "stream",
     "text": [
      "O valor mínino de produtos em um pedido com valores ausentes é:  10\n",
      "\n",
      "order_id\n",
      "9310        1\n",
      "61355      63\n",
      "102236     31\n",
      "129627      5\n",
      "165801      6\n",
      "           ..\n",
      "2999801     6\n",
      "3125735    22\n",
      "3308010    51\n",
      "3347453     7\n",
      "3383594     5\n",
      "Name: product_id, Length: 70, dtype: int64\n",
      "\n",
      "O valor mínino da contagem é:  1\n"
     ]
    }
   ],
   "source": [
    "df_nan = df_ord[mis_value].copy()\n",
    "print(\"O valor mínino de produtos em um pedido com valores ausentes é: \", df_nan['product_id'].min())\n",
    "print()\n",
    "group_nan = df_nan.groupby('product_id')\n",
    "group_prod = df_nan.groupby('order_id')['product_id'].count()\n",
    "print(group_prod)\n",
    "print()\n",
    "print(\"O valor mínino da contagem é: \", group_prod.min())"
   ]
  },
  {
   "cell_type": "markdown",
   "id": "bb74c35d",
   "metadata": {},
   "source": [
    "<span style=\"color:green;\">Conseguimos agora ver todos os ID dos pedidos com pelo menos um valor ausente de acordo com a coluna 'add_to_cart_order' e o valor mínino de produtos em um pedido com valores ausentes é 10.</span>"
   ]
  },
  {
   "cell_type": "markdown",
   "id": "eb524616",
   "metadata": {},
   "source": [
    "**Preenchendo os valores ausentes da coluna 'add_to_cart_order' com o valor '999' usando o método `Fillna()` e convertando os dados da coluna pra 'inteiro':**"
   ]
  },
  {
   "cell_type": "code",
   "execution_count": 39,
   "id": "7a987d08",
   "metadata": {
    "id": "7a987d08"
   },
   "outputs": [
    {
     "name": "stdout",
     "output_type": "stream",
     "text": [
      "         order_id  product_id add_to_cart_order  reordered\n",
      "737       2449164        5068               999          0\n",
      "9926      1968313       43867               999          0\n",
      "14394     2926893       11688               999          0\n",
      "16418     1717990        4142               999          0\n",
      "30114     1959075       42828               999          1\n",
      "...           ...         ...               ...        ...\n",
      "4505662   1800005        7411               999          0\n",
      "4511400   1633337         260               999          0\n",
      "4517562    404157        9517               999          0\n",
      "4534112   1673227       17835               999          0\n",
      "4535739   1832957       17949               999          1\n",
      "\n",
      "[836 rows x 4 columns]\n",
      "\n",
      "0          17\n",
      "1           1\n",
      "2           1\n",
      "3          35\n",
      "4           5\n",
      "           ..\n",
      "4545002    12\n",
      "4545003     9\n",
      "4545004     4\n",
      "4545005     8\n",
      "4545006     9\n",
      "Name: add_to_cart_order, Length: 4545007, dtype: int32\n"
     ]
    }
   ],
   "source": [
    "df_ord['add_to_cart_order'] = df_ord['add_to_cart_order'].fillna(\"999\")\n",
    "print(df_ord[df_ord['add_to_cart_order'] == \"999\"])\n",
    "print()\n",
    "print(df_ord['add_to_cart_order'].astype('int'))"
   ]
  },
  {
   "cell_type": "markdown",
   "id": "724ff459",
   "metadata": {},
   "source": [
    "<span style=\"color:green;\">Preenchemos os valores ausentes com o valor \"999\" usando o método fillna e trocamos o tipo de dados para inteiro.</span>"
   ]
  },
  {
   "cell_type": "markdown",
   "id": "RnplPFY1gSrb",
   "metadata": {
    "id": "RnplPFY1gSrb"
   },
   "source": [
    "## Conclusões\n",
    "\n",
    "Os dados foram manipulados com sucesso, onde retiramos dados duplicados e ausentes e preenchemos os mesmos com strings estratégicas."
   ]
  },
  {
   "cell_type": "markdown",
   "id": "UjrOIwTcz3ri",
   "metadata": {
    "id": "UjrOIwTcz3ri"
   },
   "source": [
    "# Etapa 3. Análise de dados"
   ]
  },
  {
   "cell_type": "markdown",
   "id": "78c1aca2",
   "metadata": {},
   "source": [
    "### [A1]Verificando se os valores fazem sentido:"
   ]
  },
  {
   "cell_type": "markdown",
   "id": "9597a365",
   "metadata": {},
   "source": [
    "**Verificando se os valores da coluna `'order_hour_of_day'` fazem sentido e variam de 0 a 23:**"
   ]
  },
  {
   "cell_type": "code",
   "execution_count": 36,
   "id": "d90c6d35",
   "metadata": {
    "id": "growing-fruit"
   },
   "outputs": [
    {
     "name": "stdout",
     "output_type": "stream",
     "text": [
      "[ 0  1  2  3  4  5  6  7  8  9 10 11 12 13 14 15 16 17 18 19 20 21 22 23]\n"
     ]
    }
   ],
   "source": [
    "print(df_insta['order_hour_of_day'].sort_values().unique())"
   ]
  },
  {
   "cell_type": "markdown",
   "id": "b1b22e78",
   "metadata": {},
   "source": [
    "**Verificando se os valores da coluna `'order_dow'` fazem sentido e variam de 0 a 6 (dias da semana):**"
   ]
  },
  {
   "cell_type": "code",
   "execution_count": 37,
   "id": "ba314689",
   "metadata": {
    "id": "accessory-malaysia"
   },
   "outputs": [
    {
     "name": "stdout",
     "output_type": "stream",
     "text": [
      "[0 1 2 3 4 5 6]\n"
     ]
    }
   ],
   "source": [
    "print(df_insta['order_dow'].sort_values().unique())"
   ]
  },
  {
   "cell_type": "markdown",
   "id": "98be37c4",
   "metadata": {},
   "source": [
    "<span style=\"color:green;\">Verificamos que os valores das colunas 'order_hour_of_day' e 'order_dow' fazem sentindo usando `unique()`.</span>"
   ]
  },
  {
   "cell_type": "markdown",
   "id": "a6743a70",
   "metadata": {
    "id": "a6743a70"
   },
   "source": [
    "### [A2] Pedidos x Hora do dia:"
   ]
  },
  {
   "cell_type": "code",
   "execution_count": 40,
   "id": "e79f01d5",
   "metadata": {},
   "outputs": [
    {
     "data": {
      "image/png": "[encoded data removed]",
      "text/plain": [
       "<Figure size 640x480 with 1 Axes>"
      ]
     },
     "metadata": {},
     "output_type": "display_data"
    }
   ],
   "source": [
    "group_ph = df_insta.groupby('order_hour_of_day')['user_id'].count()\n",
    "group_ph.plot(x='order_hour_of_day', y=group_ph, kind='bar', xlabel='Horário do dia', ylabel='Número de clientes', title='Clientes x Horário do dia');"
   ]
  },
  {
   "cell_type": "markdown",
   "id": "4bfdad65",
   "metadata": {},
   "source": [
    "<span style=\"color:green;\">Olhando o Gráfico, podemos notar que a maioria dos clientes fazem pedidos entre 7h da manhã até 20h da noite, que é o período onde a maioria dos pedidos estão concentrados. Notamos um pico entre 9h e 17h que é o horário comercial.</span>"
   ]
  },
  {
   "cell_type": "markdown",
   "id": "documented-command",
   "metadata": {
    "id": "documented-command"
   },
   "source": [
    "### [A3] Comparação dos dias da semana que os clientes fazem compras:"
   ]
  },
  {
   "cell_type": "code",
   "execution_count": 41,
   "id": "chief-digit",
   "metadata": {
    "id": "chief-digit"
   },
   "outputs": [
    {
     "data": {
      "image/png": "[encoded data removed]",
      "text/plain": [
       "<Figure size 640x480 with 1 Axes>"
      ]
     },
     "metadata": {},
     "output_type": "display_data"
    }
   ],
   "source": [
    "group_pc = df_insta.groupby('order_dow')['order_id'].count()\n",
    "group_pc.plot(x='order_dow', y=group_pc, kind='bar', xlabel='Dia da semana', ylabel='Contagem de Pedidos', title='Clientes x Dia da semana');"
   ]
  },
  {
   "cell_type": "markdown",
   "id": "1476e679",
   "metadata": {},
   "source": [
    "<span style=\"color:green;\">Os pedidos estão bem distribuidos durante a semana, porém com destaque maior para Sábado e Domingo, que é quando provavelmente as pessoas possuem mais tempo para usar a plataforma.</span>"
   ]
  },
  {
   "cell_type": "markdown",
   "id": "cutting-concert",
   "metadata": {
    "id": "cutting-concert"
   },
   "source": [
    "### [A4] Tempo em que as pessoas esperam até fazer outro pedido:"
   ]
  },
  {
   "cell_type": "code",
   "execution_count": 42,
   "id": "gMOIimGd5VNb",
   "metadata": {
    "id": "gMOIimGd5VNb"
   },
   "outputs": [
    {
     "data": {
      "image/png": "[encoded data removed]",
      "text/plain": [
       "<Figure size 640x480 with 1 Axes>"
      ]
     },
     "metadata": {},
     "output_type": "display_data"
    }
   ],
   "source": [
    "group_pop = df_insta.groupby('days_since_prior_order')['user_id'].count()\n",
    "group_pop.plot(x='days_since_prior_order', y=group_pop, kind='bar', xlabel='Número de dias entre pedidos', ylabel='Número de clientes', title='Clientes x Tempo entre pedidos');"
   ]
  },
  {
   "cell_type": "markdown",
   "id": "00730418",
   "metadata": {},
   "source": [
    "<span style=\"color:green;\">Olhando para o gráfico, notou-se que muitos clientes esperam entre 1 e 9 dias, porém podemos notar também que houve um pico em um período de 30 dias, onde cerca de 50000 clientes esperam para voltar a fazer um novo pedido.</span>"
   ]
  },
  {
   "cell_type": "markdown",
   "id": "tight-staff",
   "metadata": {
    "id": "tight-staff"
   },
   "source": [
    "# [B] Verificando os pedidos em horas do dia e dia da semana e também quais são os produtos mais vendidos:\n"
   ]
  },
  {
   "cell_type": "markdown",
   "id": "packed-classic",
   "metadata": {
    "id": "packed-classic"
   },
   "source": [
    "### [B1] Diferenças entre quartas-feiras e sábados em `'order_hour_of_day'` (hora do dia):"
   ]
  },
  {
   "cell_type": "code",
   "execution_count": 44,
   "id": "dbf8f42b",
   "metadata": {},
   "outputs": [
    {
     "data": {
      "text/html": [
       "<div>\n",
       "<style scoped>\n",
       "    .dataframe tbody tr th:only-of-type {\n",
       "        vertical-align: middle;\n",
       "    }\n",
       "\n",
       "    .dataframe tbody tr th {\n",
       "        vertical-align: top;\n",
       "    }\n",
       "\n",
       "    .dataframe thead th {\n",
       "        text-align: right;\n",
       "    }\n",
       "</style>\n",
       "<table border=\"1\" class=\"dataframe\">\n",
       "  <thead>\n",
       "    <tr style=\"text-align: right;\">\n",
       "      <th></th>\n",
       "      <th>order_dow</th>\n",
       "      <th>order_hour_of_day</th>\n",
       "      <th>contagem</th>\n",
       "    </tr>\n",
       "  </thead>\n",
       "  <tbody>\n",
       "    <tr>\n",
       "      <th>0</th>\n",
       "      <td>3</td>\n",
       "      <td>0</td>\n",
       "      <td>373</td>\n",
       "    </tr>\n",
       "    <tr>\n",
       "      <th>1</th>\n",
       "      <td>3</td>\n",
       "      <td>1</td>\n",
       "      <td>215</td>\n",
       "    </tr>\n",
       "    <tr>\n",
       "      <th>2</th>\n",
       "      <td>3</td>\n",
       "      <td>2</td>\n",
       "      <td>106</td>\n",
       "    </tr>\n",
       "    <tr>\n",
       "      <th>3</th>\n",
       "      <td>3</td>\n",
       "      <td>3</td>\n",
       "      <td>101</td>\n",
       "    </tr>\n",
       "    <tr>\n",
       "      <th>4</th>\n",
       "      <td>3</td>\n",
       "      <td>4</td>\n",
       "      <td>108</td>\n",
       "    </tr>\n",
       "  </tbody>\n",
       "</table>\n",
       "</div>"
      ],
      "text/plain": [
       "   order_dow  order_hour_of_day  contagem\n",
       "0          3                  0       373\n",
       "1          3                  1       215\n",
       "2          3                  2       106\n",
       "3          3                  3       101\n",
       "4          3                  4       108"
      ]
     },
     "execution_count": 44,
     "metadata": {},
     "output_type": "execute_result"
    }
   ],
   "source": [
    "df_filtered_wedsat = df_insta[(df_insta['order_dow'] == 3) | (df_insta['order_dow'] == 6)]\n",
    "group_df = df_filtered_wedsat.groupby(['order_dow', 'order_hour_of_day']).agg(contagem=('order_id', 'nunique')).reset_index()\n",
    "group_df.head()"
   ]
  },
  {
   "cell_type": "code",
   "execution_count": 45,
   "id": "d89b8403",
   "metadata": {
    "id": "d89b8403"
   },
   "outputs": [
    {
     "data": {
      "image/png": "[encoded data removed]",
      "text/plain": [
       "<Figure size 1100x700 with 1 Axes>"
      ]
     },
     "metadata": {},
     "output_type": "display_data"
    }
   ],
   "source": [
    "wednesday = group_df[group_df['order_dow'] == 3]\n",
    "saturday = group_df[group_df['order_dow'] == 6]\n",
    "\n",
    "plt.figure(figsize=(11, 7)) \n",
    "plt.bar(wednesday.order_hour_of_day - 0.2, wednesday.contagem, width=0.4, label='Quarta-feira') \n",
    "plt.bar(saturday.order_hour_of_day + 0.2, saturday.contagem, width=0.4, label='Sábado') \n",
    "plt.xlabel('Hora do Dia') \n",
    "plt.ylabel('Número de Pedidos') \n",
    "plt.title('Distribuição de pedidos Quarta-feira e Sábado') \n",
    "plt.xticks(range(24)) \n",
    "plt.legend() \n",
    "plt.show()"
   ]
  },
  {
   "cell_type": "markdown",
   "id": "7e3f8206",
   "metadata": {},
   "source": [
    "<span style=\"color:green;\">Olhando para o gráfico, conseguimos notar que não há uma diferença significativa entre sd Quartas-feiras e Sábados para os clientes fazerem os pedidos.</span>"
   ]
  },
  {
   "cell_type": "markdown",
   "id": "e3891143",
   "metadata": {
    "id": "e3891143"
   },
   "source": [
    "### [B2] Distribuição do número de pedidos por cliente:"
   ]
  },
  {
   "cell_type": "code",
   "execution_count": 47,
   "id": "d8c26c23",
   "metadata": {
    "id": "d8c26c23"
   },
   "outputs": [
    {
     "data": {
      "text/plain": [
       "user_id\n",
       "2     2\n",
       "4     2\n",
       "5     1\n",
       "6     2\n",
       "7     2\n",
       "10    1\n",
       "11    2\n",
       "12    1\n",
       "13    3\n",
       "14    4\n",
       "Name: order_id, dtype: int64"
      ]
     },
     "execution_count": 47,
     "metadata": {},
     "output_type": "execute_result"
    }
   ],
   "source": [
    "group_distribution = df_insta.groupby('user_id')['order_id'].count()\n",
    "group_distribution.head(10)"
   ]
  },
  {
   "cell_type": "code",
   "execution_count": 50,
   "id": "00e69a66",
   "metadata": {
    "id": "00e69a66"
   },
   "outputs": [
    {
     "data": {
      "image/png": "[encoded data removed]",
      "text/plain": [
       "<Figure size 640x480 with 1 Axes>"
      ]
     },
     "metadata": {},
     "output_type": "display_data"
    }
   ],
   "source": [
    "group_distribution.plot(x='user_id', y=group_distribution, kind='hist', title='Número de Clientes x Número de Pedidos', bins=25)\n",
    "plt.xlabel('Número de Clientes')\n",
    "plt.ylabel('Número de Pedidos');"
   ]
  },
  {
   "cell_type": "markdown",
   "id": "b8406615",
   "metadata": {},
   "source": [
    "<span style=\"color:green;\">Nota-se que a distribuição dos pedidos está mais concentrada em clientes que fazem os pedidos entre 0 e 5 produtos.</span>"
   ]
  },
  {
   "cell_type": "markdown",
   "id": "54a0319c",
   "metadata": {
    "id": "54a0319c"
   },
   "source": [
    "### [B3] Os 20 produtos mais populares entre os clientes:"
   ]
  },
  {
   "cell_type": "code",
   "execution_count": 47,
   "id": "14667bd8",
   "metadata": {},
   "outputs": [
    {
     "data": {
      "text/html": [
       "<div>\n",
       "<style scoped>\n",
       "    .dataframe tbody tr th:only-of-type {\n",
       "        vertical-align: middle;\n",
       "    }\n",
       "\n",
       "    .dataframe tbody tr th {\n",
       "        vertical-align: top;\n",
       "    }\n",
       "\n",
       "    .dataframe thead th {\n",
       "        text-align: right;\n",
       "    }\n",
       "</style>\n",
       "<table border=\"1\" class=\"dataframe\">\n",
       "  <thead>\n",
       "    <tr style=\"text-align: right;\">\n",
       "      <th></th>\n",
       "      <th>product_id</th>\n",
       "      <th>n_order</th>\n",
       "    </tr>\n",
       "  </thead>\n",
       "  <tbody>\n",
       "    <tr>\n",
       "      <th>0</th>\n",
       "      <td>24852</td>\n",
       "      <td>66050</td>\n",
       "    </tr>\n",
       "    <tr>\n",
       "      <th>1</th>\n",
       "      <td>13176</td>\n",
       "      <td>53297</td>\n",
       "    </tr>\n",
       "    <tr>\n",
       "      <th>2</th>\n",
       "      <td>21137</td>\n",
       "      <td>37039</td>\n",
       "    </tr>\n",
       "    <tr>\n",
       "      <th>3</th>\n",
       "      <td>21903</td>\n",
       "      <td>33971</td>\n",
       "    </tr>\n",
       "    <tr>\n",
       "      <th>4</th>\n",
       "      <td>47209</td>\n",
       "      <td>29773</td>\n",
       "    </tr>\n",
       "    <tr>\n",
       "      <th>5</th>\n",
       "      <td>47766</td>\n",
       "      <td>24689</td>\n",
       "    </tr>\n",
       "    <tr>\n",
       "      <th>6</th>\n",
       "      <td>47626</td>\n",
       "      <td>21495</td>\n",
       "    </tr>\n",
       "    <tr>\n",
       "      <th>7</th>\n",
       "      <td>16797</td>\n",
       "      <td>20018</td>\n",
       "    </tr>\n",
       "    <tr>\n",
       "      <th>8</th>\n",
       "      <td>26209</td>\n",
       "      <td>19690</td>\n",
       "    </tr>\n",
       "    <tr>\n",
       "      <th>9</th>\n",
       "      <td>27845</td>\n",
       "      <td>19600</td>\n",
       "    </tr>\n",
       "    <tr>\n",
       "      <th>10</th>\n",
       "      <td>27966</td>\n",
       "      <td>19197</td>\n",
       "    </tr>\n",
       "    <tr>\n",
       "      <th>11</th>\n",
       "      <td>22935</td>\n",
       "      <td>15898</td>\n",
       "    </tr>\n",
       "    <tr>\n",
       "      <th>12</th>\n",
       "      <td>24964</td>\n",
       "      <td>15292</td>\n",
       "    </tr>\n",
       "    <tr>\n",
       "      <th>13</th>\n",
       "      <td>45007</td>\n",
       "      <td>14584</td>\n",
       "    </tr>\n",
       "    <tr>\n",
       "      <th>14</th>\n",
       "      <td>39275</td>\n",
       "      <td>13879</td>\n",
       "    </tr>\n",
       "    <tr>\n",
       "      <th>15</th>\n",
       "      <td>49683</td>\n",
       "      <td>13675</td>\n",
       "    </tr>\n",
       "    <tr>\n",
       "      <th>16</th>\n",
       "      <td>28204</td>\n",
       "      <td>12544</td>\n",
       "    </tr>\n",
       "    <tr>\n",
       "      <th>17</th>\n",
       "      <td>5876</td>\n",
       "      <td>12232</td>\n",
       "    </tr>\n",
       "    <tr>\n",
       "      <th>18</th>\n",
       "      <td>8277</td>\n",
       "      <td>11993</td>\n",
       "    </tr>\n",
       "    <tr>\n",
       "      <th>19</th>\n",
       "      <td>40706</td>\n",
       "      <td>11781</td>\n",
       "    </tr>\n",
       "  </tbody>\n",
       "</table>\n",
       "</div>"
      ],
      "text/plain": [
       "    product_id  n_order\n",
       "0        24852    66050\n",
       "1        13176    53297\n",
       "2        21137    37039\n",
       "3        21903    33971\n",
       "4        47209    29773\n",
       "5        47766    24689\n",
       "6        47626    21495\n",
       "7        16797    20018\n",
       "8        26209    19690\n",
       "9        27845    19600\n",
       "10       27966    19197\n",
       "11       22935    15898\n",
       "12       24964    15292\n",
       "13       45007    14584\n",
       "14       39275    13879\n",
       "15       49683    13675\n",
       "16       28204    12544\n",
       "17        5876    12232\n",
       "18        8277    11993\n",
       "19       40706    11781"
      ]
     },
     "execution_count": 47,
     "metadata": {},
     "output_type": "execute_result"
    }
   ],
   "source": [
    "df_ord_by_prod = df_ord.groupby('product_id').agg(n_order=('order_id', 'nunique')).sort_values(by='n_order', ascending=False).reset_index().head(20)\n",
    "df_ord_by_prod"
   ]
  },
  {
   "cell_type": "markdown",
   "id": "81e5abd6",
   "metadata": {},
   "source": [
    "**Atribuindo as colunas `'product_id'` e `'product name'` do Dataframe de Produtos à uma nova variável:**"
   ]
  },
  {
   "cell_type": "code",
   "execution_count": 48,
   "id": "universal-facial",
   "metadata": {
    "id": "universal-facial"
   },
   "outputs": [
    {
     "data": {
      "text/html": [
       "<div>\n",
       "<style scoped>\n",
       "    .dataframe tbody tr th:only-of-type {\n",
       "        vertical-align: middle;\n",
       "    }\n",
       "\n",
       "    .dataframe tbody tr th {\n",
       "        vertical-align: top;\n",
       "    }\n",
       "\n",
       "    .dataframe thead th {\n",
       "        text-align: right;\n",
       "    }\n",
       "</style>\n",
       "<table border=\"1\" class=\"dataframe\">\n",
       "  <thead>\n",
       "    <tr style=\"text-align: right;\">\n",
       "      <th></th>\n",
       "      <th>product_id</th>\n",
       "      <th>product_name</th>\n",
       "    </tr>\n",
       "  </thead>\n",
       "  <tbody>\n",
       "    <tr>\n",
       "      <th>0</th>\n",
       "      <td>1</td>\n",
       "      <td>Chocolate Sandwich Cookies</td>\n",
       "    </tr>\n",
       "    <tr>\n",
       "      <th>1</th>\n",
       "      <td>2</td>\n",
       "      <td>All-Seasons Salt</td>\n",
       "    </tr>\n",
       "    <tr>\n",
       "      <th>2</th>\n",
       "      <td>3</td>\n",
       "      <td>Robust Golden Unsweetened Oolong Tea</td>\n",
       "    </tr>\n",
       "    <tr>\n",
       "      <th>3</th>\n",
       "      <td>4</td>\n",
       "      <td>Smart Ones Classic Favorites Mini Rigatoni Wit...</td>\n",
       "    </tr>\n",
       "    <tr>\n",
       "      <th>4</th>\n",
       "      <td>5</td>\n",
       "      <td>Green Chile Anytime Sauce</td>\n",
       "    </tr>\n",
       "    <tr>\n",
       "      <th>...</th>\n",
       "      <td>...</td>\n",
       "      <td>...</td>\n",
       "    </tr>\n",
       "    <tr>\n",
       "      <th>49689</th>\n",
       "      <td>49690</td>\n",
       "      <td>HIGH PERFORMANCE ENERGY DRINK</td>\n",
       "    </tr>\n",
       "    <tr>\n",
       "      <th>49690</th>\n",
       "      <td>49691</td>\n",
       "      <td>ORIGINAL PANCAKE &amp; WAFFLE MIX</td>\n",
       "    </tr>\n",
       "    <tr>\n",
       "      <th>49691</th>\n",
       "      <td>49692</td>\n",
       "      <td>ORGANIC INSTANT OATMEAL LIGHT MAPLE BROWN SUGAR</td>\n",
       "    </tr>\n",
       "    <tr>\n",
       "      <th>49692</th>\n",
       "      <td>49693</td>\n",
       "      <td>SPRING WATER BODY WASH</td>\n",
       "    </tr>\n",
       "    <tr>\n",
       "      <th>49693</th>\n",
       "      <td>49694</td>\n",
       "      <td>BURRITO- STEAK &amp; CHEESE</td>\n",
       "    </tr>\n",
       "  </tbody>\n",
       "</table>\n",
       "<p>49694 rows × 2 columns</p>\n",
       "</div>"
      ],
      "text/plain": [
       "       product_id                                       product_name\n",
       "0               1                         Chocolate Sandwich Cookies\n",
       "1               2                                   All-Seasons Salt\n",
       "2               3               Robust Golden Unsweetened Oolong Tea\n",
       "3               4  Smart Ones Classic Favorites Mini Rigatoni Wit...\n",
       "4               5                          Green Chile Anytime Sauce\n",
       "...           ...                                                ...\n",
       "49689       49690                      HIGH PERFORMANCE ENERGY DRINK\n",
       "49690       49691                      ORIGINAL PANCAKE & WAFFLE MIX\n",
       "49691       49692    ORGANIC INSTANT OATMEAL LIGHT MAPLE BROWN SUGAR\n",
       "49692       49693                             SPRING WATER BODY WASH\n",
       "49693       49694                            BURRITO- STEAK & CHEESE\n",
       "\n",
       "[49694 rows x 2 columns]"
      ]
     },
     "execution_count": 48,
     "metadata": {},
     "output_type": "execute_result"
    }
   ],
   "source": [
    "df_dict_prod_id_name = df_prod[['product_id', 'product_name']].copy().drop_duplicates()\n",
    "df_dict_prod_id_name"
   ]
  },
  {
   "cell_type": "markdown",
   "id": "af0058c9",
   "metadata": {},
   "source": [
    "**Utilizando o `merge()` entre as duas variáveis criadas acima para chegar nos 20 produtos mais vendidos:**"
   ]
  },
  {
   "cell_type": "code",
   "execution_count": 49,
   "id": "bbcdd20b",
   "metadata": {
    "id": "bbcdd20b"
   },
   "outputs": [
    {
     "data": {
      "text/html": [
       "<div>\n",
       "<style scoped>\n",
       "    .dataframe tbody tr th:only-of-type {\n",
       "        vertical-align: middle;\n",
       "    }\n",
       "\n",
       "    .dataframe tbody tr th {\n",
       "        vertical-align: top;\n",
       "    }\n",
       "\n",
       "    .dataframe thead th {\n",
       "        text-align: right;\n",
       "    }\n",
       "</style>\n",
       "<table border=\"1\" class=\"dataframe\">\n",
       "  <thead>\n",
       "    <tr style=\"text-align: right;\">\n",
       "      <th></th>\n",
       "      <th>product_id</th>\n",
       "      <th>product_name</th>\n",
       "      <th>n_order</th>\n",
       "    </tr>\n",
       "  </thead>\n",
       "  <tbody>\n",
       "    <tr>\n",
       "      <th>0</th>\n",
       "      <td>24852</td>\n",
       "      <td>Banana</td>\n",
       "      <td>66050</td>\n",
       "    </tr>\n",
       "    <tr>\n",
       "      <th>1</th>\n",
       "      <td>13176</td>\n",
       "      <td>Bag of Organic Bananas</td>\n",
       "      <td>53297</td>\n",
       "    </tr>\n",
       "    <tr>\n",
       "      <th>2</th>\n",
       "      <td>21137</td>\n",
       "      <td>Organic Strawberries</td>\n",
       "      <td>37039</td>\n",
       "    </tr>\n",
       "    <tr>\n",
       "      <th>3</th>\n",
       "      <td>21903</td>\n",
       "      <td>Organic Baby Spinach</td>\n",
       "      <td>33971</td>\n",
       "    </tr>\n",
       "    <tr>\n",
       "      <th>4</th>\n",
       "      <td>47209</td>\n",
       "      <td>Organic Hass Avocado</td>\n",
       "      <td>29773</td>\n",
       "    </tr>\n",
       "    <tr>\n",
       "      <th>5</th>\n",
       "      <td>47766</td>\n",
       "      <td>Organic Avocado</td>\n",
       "      <td>24689</td>\n",
       "    </tr>\n",
       "    <tr>\n",
       "      <th>6</th>\n",
       "      <td>47626</td>\n",
       "      <td>Large Lemon</td>\n",
       "      <td>21495</td>\n",
       "    </tr>\n",
       "    <tr>\n",
       "      <th>7</th>\n",
       "      <td>16797</td>\n",
       "      <td>Strawberries</td>\n",
       "      <td>20018</td>\n",
       "    </tr>\n",
       "    <tr>\n",
       "      <th>8</th>\n",
       "      <td>26209</td>\n",
       "      <td>Limes</td>\n",
       "      <td>19690</td>\n",
       "    </tr>\n",
       "    <tr>\n",
       "      <th>9</th>\n",
       "      <td>27845</td>\n",
       "      <td>Organic Whole Milk</td>\n",
       "      <td>19600</td>\n",
       "    </tr>\n",
       "    <tr>\n",
       "      <th>10</th>\n",
       "      <td>27966</td>\n",
       "      <td>Organic Raspberries</td>\n",
       "      <td>19197</td>\n",
       "    </tr>\n",
       "    <tr>\n",
       "      <th>11</th>\n",
       "      <td>22935</td>\n",
       "      <td>Organic Yellow Onion</td>\n",
       "      <td>15898</td>\n",
       "    </tr>\n",
       "    <tr>\n",
       "      <th>12</th>\n",
       "      <td>24964</td>\n",
       "      <td>Organic Garlic</td>\n",
       "      <td>15292</td>\n",
       "    </tr>\n",
       "    <tr>\n",
       "      <th>13</th>\n",
       "      <td>45007</td>\n",
       "      <td>Organic Zucchini</td>\n",
       "      <td>14584</td>\n",
       "    </tr>\n",
       "    <tr>\n",
       "      <th>14</th>\n",
       "      <td>39275</td>\n",
       "      <td>Organic Blueberries</td>\n",
       "      <td>13879</td>\n",
       "    </tr>\n",
       "    <tr>\n",
       "      <th>15</th>\n",
       "      <td>49683</td>\n",
       "      <td>Cucumber Kirby</td>\n",
       "      <td>13675</td>\n",
       "    </tr>\n",
       "    <tr>\n",
       "      <th>16</th>\n",
       "      <td>28204</td>\n",
       "      <td>Organic Fuji Apple</td>\n",
       "      <td>12544</td>\n",
       "    </tr>\n",
       "    <tr>\n",
       "      <th>17</th>\n",
       "      <td>5876</td>\n",
       "      <td>Organic Lemon</td>\n",
       "      <td>12232</td>\n",
       "    </tr>\n",
       "    <tr>\n",
       "      <th>18</th>\n",
       "      <td>8277</td>\n",
       "      <td>Apple Honeycrisp Organic</td>\n",
       "      <td>11993</td>\n",
       "    </tr>\n",
       "    <tr>\n",
       "      <th>19</th>\n",
       "      <td>40706</td>\n",
       "      <td>Organic Grape Tomatoes</td>\n",
       "      <td>11781</td>\n",
       "    </tr>\n",
       "  </tbody>\n",
       "</table>\n",
       "</div>"
      ],
      "text/plain": [
       "    product_id              product_name  n_order\n",
       "0        24852                    Banana    66050\n",
       "1        13176    Bag of Organic Bananas    53297\n",
       "2        21137      Organic Strawberries    37039\n",
       "3        21903      Organic Baby Spinach    33971\n",
       "4        47209      Organic Hass Avocado    29773\n",
       "5        47766           Organic Avocado    24689\n",
       "6        47626               Large Lemon    21495\n",
       "7        16797              Strawberries    20018\n",
       "8        26209                     Limes    19690\n",
       "9        27845        Organic Whole Milk    19600\n",
       "10       27966       Organic Raspberries    19197\n",
       "11       22935      Organic Yellow Onion    15898\n",
       "12       24964            Organic Garlic    15292\n",
       "13       45007          Organic Zucchini    14584\n",
       "14       39275       Organic Blueberries    13879\n",
       "15       49683            Cucumber Kirby    13675\n",
       "16       28204        Organic Fuji Apple    12544\n",
       "17        5876             Organic Lemon    12232\n",
       "18        8277  Apple Honeycrisp Organic    11993\n",
       "19       40706    Organic Grape Tomatoes    11781"
      ]
     },
     "execution_count": 49,
     "metadata": {},
     "output_type": "execute_result"
    }
   ],
   "source": [
    "df_prod_top_20 = df_dict_prod_id_name.merge(df_ord_by_prod, on='product_id')\n",
    "df_prod_top_20.sort_values(by='n_order', ascending=False).reset_index(drop=True)"
   ]
  },
  {
   "cell_type": "markdown",
   "id": "a838bb0a",
   "metadata": {},
   "source": [
    "<span style=\"color:green;\">Os 20 produtos mais vendidos são esses acima.</span>"
   ]
  },
  {
   "cell_type": "markdown",
   "id": "gross-theme",
   "metadata": {
    "id": "gross-theme"
   },
   "source": [
    "# [C] Itens que normalmente os clientes compram em um pedido e os 20 produtos mais frequentes em pedido repetidos:\n"
   ]
  },
  {
   "cell_type": "markdown",
   "id": "romantic-deposit",
   "metadata": {
    "id": "romantic-deposit"
   },
   "source": [
    "### [C1] Número de itens que normalmente os clientes compram em um pedido:"
   ]
  },
  {
   "cell_type": "code",
   "execution_count": 54,
   "id": "virtual-punch",
   "metadata": {
    "id": "virtual-punch"
   },
   "outputs": [
    {
     "data": {
      "text/html": [
       "<div>\n",
       "<style scoped>\n",
       "    .dataframe tbody tr th:only-of-type {\n",
       "        vertical-align: middle;\n",
       "    }\n",
       "\n",
       "    .dataframe tbody tr th {\n",
       "        vertical-align: top;\n",
       "    }\n",
       "\n",
       "    .dataframe thead th {\n",
       "        text-align: right;\n",
       "    }\n",
       "</style>\n",
       "<table border=\"1\" class=\"dataframe\">\n",
       "  <thead>\n",
       "    <tr style=\"text-align: right;\">\n",
       "      <th></th>\n",
       "      <th>order_id</th>\n",
       "      <th>n_product</th>\n",
       "    </tr>\n",
       "  </thead>\n",
       "  <tbody>\n",
       "    <tr>\n",
       "      <th>0</th>\n",
       "      <td>61355</td>\n",
       "      <td>127</td>\n",
       "    </tr>\n",
       "    <tr>\n",
       "      <th>1</th>\n",
       "      <td>3308010</td>\n",
       "      <td>115</td>\n",
       "    </tr>\n",
       "    <tr>\n",
       "      <th>2</th>\n",
       "      <td>2136777</td>\n",
       "      <td>108</td>\n",
       "    </tr>\n",
       "    <tr>\n",
       "      <th>3</th>\n",
       "      <td>171934</td>\n",
       "      <td>104</td>\n",
       "    </tr>\n",
       "    <tr>\n",
       "      <th>4</th>\n",
       "      <td>1959075</td>\n",
       "      <td>98</td>\n",
       "    </tr>\n",
       "    <tr>\n",
       "      <th>5</th>\n",
       "      <td>102236</td>\n",
       "      <td>95</td>\n",
       "    </tr>\n",
       "    <tr>\n",
       "      <th>6</th>\n",
       "      <td>1730767</td>\n",
       "      <td>95</td>\n",
       "    </tr>\n",
       "    <tr>\n",
       "      <th>7</th>\n",
       "      <td>1800005</td>\n",
       "      <td>92</td>\n",
       "    </tr>\n",
       "    <tr>\n",
       "      <th>8</th>\n",
       "      <td>2926893</td>\n",
       "      <td>92</td>\n",
       "    </tr>\n",
       "    <tr>\n",
       "      <th>9</th>\n",
       "      <td>1386261</td>\n",
       "      <td>91</td>\n",
       "    </tr>\n",
       "  </tbody>\n",
       "</table>\n",
       "</div>"
      ],
      "text/plain": [
       "   order_id  n_product\n",
       "0     61355        127\n",
       "1   3308010        115\n",
       "2   2136777        108\n",
       "3    171934        104\n",
       "4   1959075         98\n",
       "5    102236         95\n",
       "6   1730767         95\n",
       "7   1800005         92\n",
       "8   2926893         92\n",
       "9   1386261         91"
      ]
     },
     "execution_count": 54,
     "metadata": {},
     "output_type": "execute_result"
    }
   ],
   "source": [
    "df_ord_by_qtde = df_ord.groupby('order_id').agg(n_product=('product_id', 'count')).sort_values(by='n_product', ascending=False).reset_index()\n",
    "df_ord_by_qtde.head(10)"
   ]
  },
  {
   "cell_type": "code",
   "execution_count": 56,
   "id": "sensitive-breathing",
   "metadata": {
    "id": "sensitive-breathing"
   },
   "outputs": [
    {
     "data": {
      "image/png": "[encoded data removed]",
      "text/plain": [
       "<Figure size 640x480 with 1 Axes>"
      ]
     },
     "metadata": {},
     "output_type": "display_data"
    }
   ],
   "source": [
    "df_ord_by_qtde.plot(x='order_id', y='n_product', kind='hist', title='Número de pedidos x Número de Produtos', bins=25)\n",
    "plt.xlabel('Número de pedidos')\n",
    "plt.ylabel('Número de Produtos');"
   ]
  },
  {
   "cell_type": "markdown",
   "id": "ed00dbce",
   "metadata": {},
   "source": [
    "**Calculando a `média` e a `mediana`:**"
   ]
  },
  {
   "cell_type": "code",
   "execution_count": 58,
   "id": "completed-frank",
   "metadata": {
    "id": "completed-frank"
   },
   "outputs": [
    {
     "name": "stdout",
     "output_type": "stream",
     "text": [
      "A média de produtos que os clientes compram em um pedido é:  10.098983215049127\n",
      "\n",
      "A mediana é:  8.0\n"
     ]
    }
   ],
   "source": [
    "print(\"A média de produtos que os clientes compram em um pedido é: \", df_ord_by_qtde['n_product'].mean())\n",
    "print()\n",
    "print(\"A mediana é: \", df_ord_by_qtde['n_product'].median())"
   ]
  },
  {
   "cell_type": "markdown",
   "id": "09232201",
   "metadata": {},
   "source": [
    "<span style=\"color:green;\">O que podemos notar é que a maioria das ordens de pedidos está com concentrada entre 0 e 20 produtos dentro da ordem. E sua média e mediana representam bem os dados do gráfico..</span>"
   ]
  },
  {
   "cell_type": "markdown",
   "id": "5e6b5537",
   "metadata": {
    "id": "5e6b5537"
   },
   "source": [
    "### [C2] 20 principais itens nos pedidos repetidos:"
   ]
  },
  {
   "cell_type": "markdown",
   "id": "e3fa7217",
   "metadata": {},
   "source": [
    "**Identificando os pedidos repetidos:**"
   ]
  },
  {
   "cell_type": "code",
   "execution_count": 57,
   "id": "1f7fe3a8",
   "metadata": {},
   "outputs": [
    {
     "data": {
      "text/html": [
       "<div>\n",
       "<style scoped>\n",
       "    .dataframe tbody tr th:only-of-type {\n",
       "        vertical-align: middle;\n",
       "    }\n",
       "\n",
       "    .dataframe tbody tr th {\n",
       "        vertical-align: top;\n",
       "    }\n",
       "\n",
       "    .dataframe thead th {\n",
       "        text-align: right;\n",
       "    }\n",
       "</style>\n",
       "<table border=\"1\" class=\"dataframe\">\n",
       "  <thead>\n",
       "    <tr style=\"text-align: right;\">\n",
       "      <th></th>\n",
       "      <th>order_id</th>\n",
       "      <th>product_id</th>\n",
       "      <th>add_to_cart_order</th>\n",
       "      <th>reordered</th>\n",
       "      <th>reordered_new</th>\n",
       "    </tr>\n",
       "  </thead>\n",
       "  <tbody>\n",
       "    <tr>\n",
       "      <th>0</th>\n",
       "      <td>2141543</td>\n",
       "      <td>11440</td>\n",
       "      <td>17.0</td>\n",
       "      <td>0</td>\n",
       "      <td>NaN</td>\n",
       "    </tr>\n",
       "    <tr>\n",
       "      <th>1</th>\n",
       "      <td>567889</td>\n",
       "      <td>1560</td>\n",
       "      <td>1.0</td>\n",
       "      <td>1</td>\n",
       "      <td>1.0</td>\n",
       "    </tr>\n",
       "    <tr>\n",
       "      <th>2</th>\n",
       "      <td>2261212</td>\n",
       "      <td>26683</td>\n",
       "      <td>1.0</td>\n",
       "      <td>1</td>\n",
       "      <td>1.0</td>\n",
       "    </tr>\n",
       "    <tr>\n",
       "      <th>3</th>\n",
       "      <td>491251</td>\n",
       "      <td>8670</td>\n",
       "      <td>35.0</td>\n",
       "      <td>1</td>\n",
       "      <td>1.0</td>\n",
       "    </tr>\n",
       "    <tr>\n",
       "      <th>4</th>\n",
       "      <td>2571142</td>\n",
       "      <td>1940</td>\n",
       "      <td>5.0</td>\n",
       "      <td>1</td>\n",
       "      <td>1.0</td>\n",
       "    </tr>\n",
       "    <tr>\n",
       "      <th>5</th>\n",
       "      <td>2456893</td>\n",
       "      <td>21616</td>\n",
       "      <td>4.0</td>\n",
       "      <td>1</td>\n",
       "      <td>1.0</td>\n",
       "    </tr>\n",
       "    <tr>\n",
       "      <th>6</th>\n",
       "      <td>644579</td>\n",
       "      <td>12341</td>\n",
       "      <td>5.0</td>\n",
       "      <td>1</td>\n",
       "      <td>1.0</td>\n",
       "    </tr>\n",
       "    <tr>\n",
       "      <th>7</th>\n",
       "      <td>2231852</td>\n",
       "      <td>44925</td>\n",
       "      <td>10.0</td>\n",
       "      <td>1</td>\n",
       "      <td>1.0</td>\n",
       "    </tr>\n",
       "    <tr>\n",
       "      <th>8</th>\n",
       "      <td>3185766</td>\n",
       "      <td>36259</td>\n",
       "      <td>14.0</td>\n",
       "      <td>1</td>\n",
       "      <td>1.0</td>\n",
       "    </tr>\n",
       "    <tr>\n",
       "      <th>9</th>\n",
       "      <td>420019</td>\n",
       "      <td>23315</td>\n",
       "      <td>4.0</td>\n",
       "      <td>1</td>\n",
       "      <td>1.0</td>\n",
       "    </tr>\n",
       "    <tr>\n",
       "      <th>10</th>\n",
       "      <td>925051</td>\n",
       "      <td>9421</td>\n",
       "      <td>2.0</td>\n",
       "      <td>1</td>\n",
       "      <td>1.0</td>\n",
       "    </tr>\n",
       "    <tr>\n",
       "      <th>11</th>\n",
       "      <td>44064</td>\n",
       "      <td>22963</td>\n",
       "      <td>28.0</td>\n",
       "      <td>0</td>\n",
       "      <td>NaN</td>\n",
       "    </tr>\n",
       "    <tr>\n",
       "      <th>12</th>\n",
       "      <td>522547</td>\n",
       "      <td>40571</td>\n",
       "      <td>10.0</td>\n",
       "      <td>1</td>\n",
       "      <td>1.0</td>\n",
       "    </tr>\n",
       "    <tr>\n",
       "      <th>13</th>\n",
       "      <td>2475670</td>\n",
       "      <td>48520</td>\n",
       "      <td>3.0</td>\n",
       "      <td>0</td>\n",
       "      <td>NaN</td>\n",
       "    </tr>\n",
       "    <tr>\n",
       "      <th>14</th>\n",
       "      <td>1961225</td>\n",
       "      <td>37553</td>\n",
       "      <td>1.0</td>\n",
       "      <td>1</td>\n",
       "      <td>1.0</td>\n",
       "    </tr>\n",
       "    <tr>\n",
       "      <th>15</th>\n",
       "      <td>2397389</td>\n",
       "      <td>4321</td>\n",
       "      <td>16.0</td>\n",
       "      <td>1</td>\n",
       "      <td>1.0</td>\n",
       "    </tr>\n",
       "    <tr>\n",
       "      <th>16</th>\n",
       "      <td>639939</td>\n",
       "      <td>10017</td>\n",
       "      <td>1.0</td>\n",
       "      <td>1</td>\n",
       "      <td>1.0</td>\n",
       "    </tr>\n",
       "    <tr>\n",
       "      <th>17</th>\n",
       "      <td>1721072</td>\n",
       "      <td>24561</td>\n",
       "      <td>8.0</td>\n",
       "      <td>1</td>\n",
       "      <td>1.0</td>\n",
       "    </tr>\n",
       "    <tr>\n",
       "      <th>18</th>\n",
       "      <td>89640</td>\n",
       "      <td>46692</td>\n",
       "      <td>7.0</td>\n",
       "      <td>0</td>\n",
       "      <td>NaN</td>\n",
       "    </tr>\n",
       "    <tr>\n",
       "      <th>19</th>\n",
       "      <td>2500729</td>\n",
       "      <td>21616</td>\n",
       "      <td>5.0</td>\n",
       "      <td>1</td>\n",
       "      <td>1.0</td>\n",
       "    </tr>\n",
       "  </tbody>\n",
       "</table>\n",
       "</div>"
      ],
      "text/plain": [
       "    order_id  product_id add_to_cart_order  reordered  reordered_new\n",
       "0    2141543       11440              17.0          0            NaN\n",
       "1     567889        1560               1.0          1            1.0\n",
       "2    2261212       26683               1.0          1            1.0\n",
       "3     491251        8670              35.0          1            1.0\n",
       "4    2571142        1940               5.0          1            1.0\n",
       "5    2456893       21616               4.0          1            1.0\n",
       "6     644579       12341               5.0          1            1.0\n",
       "7    2231852       44925              10.0          1            1.0\n",
       "8    3185766       36259              14.0          1            1.0\n",
       "9     420019       23315               4.0          1            1.0\n",
       "10    925051        9421               2.0          1            1.0\n",
       "11     44064       22963              28.0          0            NaN\n",
       "12    522547       40571              10.0          1            1.0\n",
       "13   2475670       48520               3.0          0            NaN\n",
       "14   1961225       37553               1.0          1            1.0\n",
       "15   2397389        4321              16.0          1            1.0\n",
       "16    639939       10017               1.0          1            1.0\n",
       "17   1721072       24561               8.0          1            1.0\n",
       "18     89640       46692               7.0          0            NaN\n",
       "19   2500729       21616               5.0          1            1.0"
      ]
     },
     "execution_count": 57,
     "metadata": {},
     "output_type": "execute_result"
    }
   ],
   "source": [
    "df_ord['reordered_new'] = df_ord[df_ord['reordered'] == 1]['reordered']\n",
    "df_ord.head(20)"
   ]
  },
  {
   "cell_type": "markdown",
   "id": "84ef383f",
   "metadata": {},
   "source": [
    "**Criando uma tabela para mostrar os pedidos que foram repetidos e o número do pedido:**"
   ]
  },
  {
   "cell_type": "code",
   "execution_count": 54,
   "id": "possible-change",
   "metadata": {
    "id": "possible-change",
    "scrolled": false
   },
   "outputs": [
    {
     "data": {
      "text/html": [
       "<div>\n",
       "<style scoped>\n",
       "    .dataframe tbody tr th:only-of-type {\n",
       "        vertical-align: middle;\n",
       "    }\n",
       "\n",
       "    .dataframe tbody tr th {\n",
       "        vertical-align: top;\n",
       "    }\n",
       "\n",
       "    .dataframe thead th {\n",
       "        text-align: right;\n",
       "    }\n",
       "</style>\n",
       "<table border=\"1\" class=\"dataframe\">\n",
       "  <thead>\n",
       "    <tr style=\"text-align: right;\">\n",
       "      <th></th>\n",
       "      <th>product_id</th>\n",
       "      <th>reordered_new</th>\n",
       "      <th>n_order</th>\n",
       "    </tr>\n",
       "  </thead>\n",
       "  <tbody>\n",
       "    <tr>\n",
       "      <th>0</th>\n",
       "      <td>24852</td>\n",
       "      <td>1.0</td>\n",
       "      <td>55763</td>\n",
       "    </tr>\n",
       "    <tr>\n",
       "      <th>1</th>\n",
       "      <td>13176</td>\n",
       "      <td>1.0</td>\n",
       "      <td>44450</td>\n",
       "    </tr>\n",
       "    <tr>\n",
       "      <th>2</th>\n",
       "      <td>21137</td>\n",
       "      <td>1.0</td>\n",
       "      <td>28639</td>\n",
       "    </tr>\n",
       "    <tr>\n",
       "      <th>3</th>\n",
       "      <td>21903</td>\n",
       "      <td>1.0</td>\n",
       "      <td>26233</td>\n",
       "    </tr>\n",
       "    <tr>\n",
       "      <th>4</th>\n",
       "      <td>47209</td>\n",
       "      <td>1.0</td>\n",
       "      <td>23629</td>\n",
       "    </tr>\n",
       "    <tr>\n",
       "      <th>5</th>\n",
       "      <td>47766</td>\n",
       "      <td>1.0</td>\n",
       "      <td>18743</td>\n",
       "    </tr>\n",
       "    <tr>\n",
       "      <th>6</th>\n",
       "      <td>27845</td>\n",
       "      <td>1.0</td>\n",
       "      <td>16251</td>\n",
       "    </tr>\n",
       "    <tr>\n",
       "      <th>7</th>\n",
       "      <td>47626</td>\n",
       "      <td>1.0</td>\n",
       "      <td>15044</td>\n",
       "    </tr>\n",
       "    <tr>\n",
       "      <th>8</th>\n",
       "      <td>27966</td>\n",
       "      <td>1.0</td>\n",
       "      <td>14748</td>\n",
       "    </tr>\n",
       "    <tr>\n",
       "      <th>9</th>\n",
       "      <td>16797</td>\n",
       "      <td>1.0</td>\n",
       "      <td>13945</td>\n",
       "    </tr>\n",
       "    <tr>\n",
       "      <th>10</th>\n",
       "      <td>26209</td>\n",
       "      <td>1.0</td>\n",
       "      <td>13327</td>\n",
       "    </tr>\n",
       "    <tr>\n",
       "      <th>11</th>\n",
       "      <td>22935</td>\n",
       "      <td>1.0</td>\n",
       "      <td>11145</td>\n",
       "    </tr>\n",
       "    <tr>\n",
       "      <th>12</th>\n",
       "      <td>24964</td>\n",
       "      <td>1.0</td>\n",
       "      <td>10411</td>\n",
       "    </tr>\n",
       "    <tr>\n",
       "      <th>13</th>\n",
       "      <td>45007</td>\n",
       "      <td>1.0</td>\n",
       "      <td>10076</td>\n",
       "    </tr>\n",
       "    <tr>\n",
       "      <th>14</th>\n",
       "      <td>49683</td>\n",
       "      <td>1.0</td>\n",
       "      <td>9538</td>\n",
       "    </tr>\n",
       "    <tr>\n",
       "      <th>15</th>\n",
       "      <td>28204</td>\n",
       "      <td>1.0</td>\n",
       "      <td>8989</td>\n",
       "    </tr>\n",
       "    <tr>\n",
       "      <th>16</th>\n",
       "      <td>8277</td>\n",
       "      <td>1.0</td>\n",
       "      <td>8836</td>\n",
       "    </tr>\n",
       "    <tr>\n",
       "      <th>17</th>\n",
       "      <td>39275</td>\n",
       "      <td>1.0</td>\n",
       "      <td>8799</td>\n",
       "    </tr>\n",
       "    <tr>\n",
       "      <th>18</th>\n",
       "      <td>5876</td>\n",
       "      <td>1.0</td>\n",
       "      <td>8412</td>\n",
       "    </tr>\n",
       "    <tr>\n",
       "      <th>19</th>\n",
       "      <td>49235</td>\n",
       "      <td>1.0</td>\n",
       "      <td>8389</td>\n",
       "    </tr>\n",
       "  </tbody>\n",
       "</table>\n",
       "</div>"
      ],
      "text/plain": [
       "    product_id  reordered_new  n_order\n",
       "0        24852            1.0    55763\n",
       "1        13176            1.0    44450\n",
       "2        21137            1.0    28639\n",
       "3        21903            1.0    26233\n",
       "4        47209            1.0    23629\n",
       "5        47766            1.0    18743\n",
       "6        27845            1.0    16251\n",
       "7        47626            1.0    15044\n",
       "8        27966            1.0    14748\n",
       "9        16797            1.0    13945\n",
       "10       26209            1.0    13327\n",
       "11       22935            1.0    11145\n",
       "12       24964            1.0    10411\n",
       "13       45007            1.0    10076\n",
       "14       49683            1.0     9538\n",
       "15       28204            1.0     8989\n",
       "16        8277            1.0     8836\n",
       "17       39275            1.0     8799\n",
       "18        5876            1.0     8412\n",
       "19       49235            1.0     8389"
      ]
     },
     "execution_count": 54,
     "metadata": {},
     "output_type": "execute_result"
    }
   ],
   "source": [
    "df_ord_by_rep = df_ord.groupby(['product_id', 'reordered_new']).agg(n_order=('order_id', 'nunique')).sort_values(by='n_order', ascending=False).reset_index().head(20)\n",
    "df_ord_by_rep"
   ]
  },
  {
   "cell_type": "markdown",
   "id": "17abb80b",
   "metadata": {},
   "source": [
    "**Atribuindo as colunas `'product_id'` e `'product name'` do Dataframe de Produtos à uma nova variável:**"
   ]
  },
  {
   "cell_type": "code",
   "execution_count": 55,
   "id": "8d6229ef",
   "metadata": {},
   "outputs": [
    {
     "data": {
      "text/html": [
       "<div>\n",
       "<style scoped>\n",
       "    .dataframe tbody tr th:only-of-type {\n",
       "        vertical-align: middle;\n",
       "    }\n",
       "\n",
       "    .dataframe tbody tr th {\n",
       "        vertical-align: top;\n",
       "    }\n",
       "\n",
       "    .dataframe thead th {\n",
       "        text-align: right;\n",
       "    }\n",
       "</style>\n",
       "<table border=\"1\" class=\"dataframe\">\n",
       "  <thead>\n",
       "    <tr style=\"text-align: right;\">\n",
       "      <th></th>\n",
       "      <th>product_id</th>\n",
       "      <th>product_name</th>\n",
       "    </tr>\n",
       "  </thead>\n",
       "  <tbody>\n",
       "    <tr>\n",
       "      <th>0</th>\n",
       "      <td>1</td>\n",
       "      <td>Chocolate Sandwich Cookies</td>\n",
       "    </tr>\n",
       "    <tr>\n",
       "      <th>1</th>\n",
       "      <td>2</td>\n",
       "      <td>All-Seasons Salt</td>\n",
       "    </tr>\n",
       "    <tr>\n",
       "      <th>2</th>\n",
       "      <td>3</td>\n",
       "      <td>Robust Golden Unsweetened Oolong Tea</td>\n",
       "    </tr>\n",
       "    <tr>\n",
       "      <th>3</th>\n",
       "      <td>4</td>\n",
       "      <td>Smart Ones Classic Favorites Mini Rigatoni Wit...</td>\n",
       "    </tr>\n",
       "    <tr>\n",
       "      <th>4</th>\n",
       "      <td>5</td>\n",
       "      <td>Green Chile Anytime Sauce</td>\n",
       "    </tr>\n",
       "    <tr>\n",
       "      <th>...</th>\n",
       "      <td>...</td>\n",
       "      <td>...</td>\n",
       "    </tr>\n",
       "    <tr>\n",
       "      <th>49689</th>\n",
       "      <td>49690</td>\n",
       "      <td>HIGH PERFORMANCE ENERGY DRINK</td>\n",
       "    </tr>\n",
       "    <tr>\n",
       "      <th>49690</th>\n",
       "      <td>49691</td>\n",
       "      <td>ORIGINAL PANCAKE &amp; WAFFLE MIX</td>\n",
       "    </tr>\n",
       "    <tr>\n",
       "      <th>49691</th>\n",
       "      <td>49692</td>\n",
       "      <td>ORGANIC INSTANT OATMEAL LIGHT MAPLE BROWN SUGAR</td>\n",
       "    </tr>\n",
       "    <tr>\n",
       "      <th>49692</th>\n",
       "      <td>49693</td>\n",
       "      <td>SPRING WATER BODY WASH</td>\n",
       "    </tr>\n",
       "    <tr>\n",
       "      <th>49693</th>\n",
       "      <td>49694</td>\n",
       "      <td>BURRITO- STEAK &amp; CHEESE</td>\n",
       "    </tr>\n",
       "  </tbody>\n",
       "</table>\n",
       "<p>49694 rows × 2 columns</p>\n",
       "</div>"
      ],
      "text/plain": [
       "       product_id                                       product_name\n",
       "0               1                         Chocolate Sandwich Cookies\n",
       "1               2                                   All-Seasons Salt\n",
       "2               3               Robust Golden Unsweetened Oolong Tea\n",
       "3               4  Smart Ones Classic Favorites Mini Rigatoni Wit...\n",
       "4               5                          Green Chile Anytime Sauce\n",
       "...           ...                                                ...\n",
       "49689       49690                      HIGH PERFORMANCE ENERGY DRINK\n",
       "49690       49691                      ORIGINAL PANCAKE & WAFFLE MIX\n",
       "49691       49692    ORGANIC INSTANT OATMEAL LIGHT MAPLE BROWN SUGAR\n",
       "49692       49693                             SPRING WATER BODY WASH\n",
       "49693       49694                            BURRITO- STEAK & CHEESE\n",
       "\n",
       "[49694 rows x 2 columns]"
      ]
     },
     "execution_count": 55,
     "metadata": {},
     "output_type": "execute_result"
    }
   ],
   "source": [
    "df_dict_prod_id_name = df_prod[['product_id', 'product_name']].copy().drop_duplicates()\n",
    "df_dict_prod_id_name"
   ]
  },
  {
   "cell_type": "markdown",
   "id": "9f59697d",
   "metadata": {},
   "source": [
    "**Utilizando o `merge()` entre as duas variáveis criadas acima para chegar nos 20 produtos mais populares entre os pedidos repetidos:**"
   ]
  },
  {
   "cell_type": "code",
   "execution_count": 56,
   "id": "professional-surfing",
   "metadata": {
    "id": "professional-surfing",
    "scrolled": false
   },
   "outputs": [
    {
     "data": {
      "text/html": [
       "<div>\n",
       "<style scoped>\n",
       "    .dataframe tbody tr th:only-of-type {\n",
       "        vertical-align: middle;\n",
       "    }\n",
       "\n",
       "    .dataframe tbody tr th {\n",
       "        vertical-align: top;\n",
       "    }\n",
       "\n",
       "    .dataframe thead th {\n",
       "        text-align: right;\n",
       "    }\n",
       "</style>\n",
       "<table border=\"1\" class=\"dataframe\">\n",
       "  <thead>\n",
       "    <tr style=\"text-align: right;\">\n",
       "      <th></th>\n",
       "      <th>product_id</th>\n",
       "      <th>product_name</th>\n",
       "      <th>reordered_new</th>\n",
       "      <th>n_order</th>\n",
       "    </tr>\n",
       "  </thead>\n",
       "  <tbody>\n",
       "    <tr>\n",
       "      <th>0</th>\n",
       "      <td>24852</td>\n",
       "      <td>Banana</td>\n",
       "      <td>1.0</td>\n",
       "      <td>55763</td>\n",
       "    </tr>\n",
       "    <tr>\n",
       "      <th>1</th>\n",
       "      <td>13176</td>\n",
       "      <td>Bag of Organic Bananas</td>\n",
       "      <td>1.0</td>\n",
       "      <td>44450</td>\n",
       "    </tr>\n",
       "    <tr>\n",
       "      <th>2</th>\n",
       "      <td>21137</td>\n",
       "      <td>Organic Strawberries</td>\n",
       "      <td>1.0</td>\n",
       "      <td>28639</td>\n",
       "    </tr>\n",
       "    <tr>\n",
       "      <th>3</th>\n",
       "      <td>21903</td>\n",
       "      <td>Organic Baby Spinach</td>\n",
       "      <td>1.0</td>\n",
       "      <td>26233</td>\n",
       "    </tr>\n",
       "    <tr>\n",
       "      <th>4</th>\n",
       "      <td>47209</td>\n",
       "      <td>Organic Hass Avocado</td>\n",
       "      <td>1.0</td>\n",
       "      <td>23629</td>\n",
       "    </tr>\n",
       "    <tr>\n",
       "      <th>5</th>\n",
       "      <td>47766</td>\n",
       "      <td>Organic Avocado</td>\n",
       "      <td>1.0</td>\n",
       "      <td>18743</td>\n",
       "    </tr>\n",
       "    <tr>\n",
       "      <th>6</th>\n",
       "      <td>27845</td>\n",
       "      <td>Organic Whole Milk</td>\n",
       "      <td>1.0</td>\n",
       "      <td>16251</td>\n",
       "    </tr>\n",
       "    <tr>\n",
       "      <th>7</th>\n",
       "      <td>47626</td>\n",
       "      <td>Large Lemon</td>\n",
       "      <td>1.0</td>\n",
       "      <td>15044</td>\n",
       "    </tr>\n",
       "    <tr>\n",
       "      <th>8</th>\n",
       "      <td>27966</td>\n",
       "      <td>Organic Raspberries</td>\n",
       "      <td>1.0</td>\n",
       "      <td>14748</td>\n",
       "    </tr>\n",
       "    <tr>\n",
       "      <th>9</th>\n",
       "      <td>16797</td>\n",
       "      <td>Strawberries</td>\n",
       "      <td>1.0</td>\n",
       "      <td>13945</td>\n",
       "    </tr>\n",
       "    <tr>\n",
       "      <th>10</th>\n",
       "      <td>26209</td>\n",
       "      <td>Limes</td>\n",
       "      <td>1.0</td>\n",
       "      <td>13327</td>\n",
       "    </tr>\n",
       "    <tr>\n",
       "      <th>11</th>\n",
       "      <td>22935</td>\n",
       "      <td>Organic Yellow Onion</td>\n",
       "      <td>1.0</td>\n",
       "      <td>11145</td>\n",
       "    </tr>\n",
       "    <tr>\n",
       "      <th>12</th>\n",
       "      <td>24964</td>\n",
       "      <td>Organic Garlic</td>\n",
       "      <td>1.0</td>\n",
       "      <td>10411</td>\n",
       "    </tr>\n",
       "    <tr>\n",
       "      <th>13</th>\n",
       "      <td>45007</td>\n",
       "      <td>Organic Zucchini</td>\n",
       "      <td>1.0</td>\n",
       "      <td>10076</td>\n",
       "    </tr>\n",
       "    <tr>\n",
       "      <th>14</th>\n",
       "      <td>49683</td>\n",
       "      <td>Cucumber Kirby</td>\n",
       "      <td>1.0</td>\n",
       "      <td>9538</td>\n",
       "    </tr>\n",
       "    <tr>\n",
       "      <th>15</th>\n",
       "      <td>28204</td>\n",
       "      <td>Organic Fuji Apple</td>\n",
       "      <td>1.0</td>\n",
       "      <td>8989</td>\n",
       "    </tr>\n",
       "    <tr>\n",
       "      <th>16</th>\n",
       "      <td>8277</td>\n",
       "      <td>Apple Honeycrisp Organic</td>\n",
       "      <td>1.0</td>\n",
       "      <td>8836</td>\n",
       "    </tr>\n",
       "    <tr>\n",
       "      <th>17</th>\n",
       "      <td>39275</td>\n",
       "      <td>Organic Blueberries</td>\n",
       "      <td>1.0</td>\n",
       "      <td>8799</td>\n",
       "    </tr>\n",
       "    <tr>\n",
       "      <th>18</th>\n",
       "      <td>5876</td>\n",
       "      <td>Organic Lemon</td>\n",
       "      <td>1.0</td>\n",
       "      <td>8412</td>\n",
       "    </tr>\n",
       "    <tr>\n",
       "      <th>19</th>\n",
       "      <td>49235</td>\n",
       "      <td>Organic Half &amp; Half</td>\n",
       "      <td>1.0</td>\n",
       "      <td>8389</td>\n",
       "    </tr>\n",
       "  </tbody>\n",
       "</table>\n",
       "</div>"
      ],
      "text/plain": [
       "    product_id              product_name  reordered_new  n_order\n",
       "0        24852                    Banana            1.0    55763\n",
       "1        13176    Bag of Organic Bananas            1.0    44450\n",
       "2        21137      Organic Strawberries            1.0    28639\n",
       "3        21903      Organic Baby Spinach            1.0    26233\n",
       "4        47209      Organic Hass Avocado            1.0    23629\n",
       "5        47766           Organic Avocado            1.0    18743\n",
       "6        27845        Organic Whole Milk            1.0    16251\n",
       "7        47626               Large Lemon            1.0    15044\n",
       "8        27966       Organic Raspberries            1.0    14748\n",
       "9        16797              Strawberries            1.0    13945\n",
       "10       26209                     Limes            1.0    13327\n",
       "11       22935      Organic Yellow Onion            1.0    11145\n",
       "12       24964            Organic Garlic            1.0    10411\n",
       "13       45007          Organic Zucchini            1.0    10076\n",
       "14       49683            Cucumber Kirby            1.0     9538\n",
       "15       28204        Organic Fuji Apple            1.0     8989\n",
       "16        8277  Apple Honeycrisp Organic            1.0     8836\n",
       "17       39275       Organic Blueberries            1.0     8799\n",
       "18        5876             Organic Lemon            1.0     8412\n",
       "19       49235       Organic Half & Half            1.0     8389"
      ]
     },
     "execution_count": 56,
     "metadata": {},
     "output_type": "execute_result"
    }
   ],
   "source": [
    "df_prod_top_20_reord = df_dict_prod_id_name.merge(df_ord_by_rep, on='product_id')\n",
    "df_prod_top_20_reord.sort_values(by='n_order', ascending=False).reset_index(drop=True)"
   ]
  },
  {
   "cell_type": "markdown",
   "id": "738f089b",
   "metadata": {},
   "source": [
    "<span style=\"color:green;\">Esses 20 acima são os produtos mais populares nos pedidos repetidos e nota-se uma semelhança com a tabela dos 20 produtos mais vendidos pela plataforma também.</span>"
   ]
  },
  {
   "cell_type": "markdown",
   "id": "TisH_5Cp3wAi",
   "metadata": {
    "id": "TisH_5Cp3wAi"
   },
   "source": [
    "# Conclusão geral do projeto:"
   ]
  },
  {
   "cell_type": "markdown",
   "id": "b93e2d30",
   "metadata": {
    "id": "Nk-4GS7mDwqY"
   },
   "source": [
    "Conclusões com esse projeto:\n",
    "- A plataforma recebe muitos pedidos durante toda a semana e está muito bem distribuídos os dias, porém um pequeno destaque para o final de semana que é quando eu acredito que as pessoas possuem mais tempo para acessar a plataforma e fazer o pedido.\n",
    "- Os pedidos são mais concentramos em horário comercial, entre 9h e 17h, porém podemos notar que os clientes fazem pedidos até de madrugada.\n",
    "- Notamos também que a maioria dos valores ausentes na coluna 'days_since_prior_order' foram pessoas que provavelmente colocaram o pedido no carrinho e não finalizaram a compra, um total de 28817 que é um bom número para trabalhar na análise.\n",
    "- Outra análise interessante é que muitos clientes esperam entre 1 e 9 dias para fazer um novo pedido, porém tivemos um pico em um período de 30 dias, onde cerca de 50000 clientes esperam para voltar a fazer um novo pedido.\n",
    "- Outra dado importante de se notar é que os 20 produtos mais populares se assemelham aos 20 produtos mais comuns nos pedidos repetidos.\n",
    "- Outro ponto importante é que a maioria das ordens de pedidos está concentrada entre 0 e 20 produtos com uma média de 10,09 produtos por ordem e uma mediana de 8 produtos, ilustrando bem a concentração dos pedidos.\n",
    "- Por fim, pode-se notar que a maioria dos clientes fazem um pedido entre 0 e 5 produtos na ordem do pedido."
   ]
  }
 ],
 "metadata": {
  "colab": {
   "provenance": []
  },
  "kernelspec": {
   "display_name": "Python 3 (ipykernel)",
   "language": "python",
   "name": "python3"
  },
  "language_info": {
   "codemirror_mode": {
    "name": "ipython",
    "version": 3
   },
   "file_extension": ".py",
   "mimetype": "text/x-python",
   "name": "python",
   "nbconvert_exporter": "python",
   "pygments_lexer": "ipython3",
   "version": "3.11.7"
  },
  "toc": {
   "base_numbering": 1,
   "nav_menu": {},
   "number_sections": true,
   "sideBar": true,
   "skip_h1_title": true,
   "title_cell": "Table of Contents",
   "title_sidebar": "Contents",
   "toc_cell": false,
   "toc_position": {},
   "toc_section_display": true,
   "toc_window_display": false
  },
  "vscode": {
   "interpreter": {
    "hash": "01a7be9ec63e704a62cefc5fe7a4756944464ee731be31632bdf42a4cb4688cf"
   }
  }
 },
 "nbformat": 4,
 "nbformat_minor": 5
}
