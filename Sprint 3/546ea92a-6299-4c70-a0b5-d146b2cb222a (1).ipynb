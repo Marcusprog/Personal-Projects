{
 "cells": [
  {
   "cell_type": "markdown",
   "id": "3Xg_RQfnafXz",
   "metadata": {
    "id": "3Xg_RQfnafXz"
   },
   "source": [
    "\n",
    "\n",
    "\n",
    "# Vamos encher o carrinho!"
   ]
  },
  {
   "cell_type": "markdown",
   "id": "mhIvmmkW414q",
   "metadata": {
    "id": "mhIvmmkW414q"
   },
   "source": [
    "# Introdução\n",
    "\n",
    "A Instacart é uma plataforma de entrega de supermercado onde os clientes podem fazer um pedido de supermercado e receber a compra em casa, semelhante ao funcionamento do Uber Eats e do iFood. O conjunto de dados foi modificado do original.\n",
    "\n",
    "Conforme eu vá avançando na aplicação das técnicas de python, eu irei explicando o que será feito.\n",
    "\n"
   ]
  },
  {
   "cell_type": "markdown",
   "id": "3MbyzpOQZ5Or",
   "metadata": {
    "id": "3MbyzpOQZ5Or"
   },
   "source": [
    "## Dicionário de dados\n",
    "\n",
    "Há cinco tabelas no conjunto de dados, abaixo está um dicionário que lista as colunas de cada tabela e descreve os dados contidos nelas.\n",
    "\n",
    "- `instacart_orders.csv`: cada linha corresponde a um pedido no aplicativo da Instacart\n",
    "    - `'order_id'`: é o número de identificação unívoco de cada pedido\n",
    "    - `'user_id'`: é o número de identificação unívoco da conta de cada cliente\n",
    "    - `'order_number'`: é o número de vezes que o cliente fez um pedido\n",
    "    - `'order_dow'`: é o dia da semana em que o pedido foi feito (0 é domingo)\n",
    "    - `'order_hour_of_day'`: é a hora do dia em que o pedido foi feito\n",
    "    - `'days_since_prior_order'`: é o número de dias desde que o cliente fez seu pedido anterior\n",
    "\n",
    "\n",
    "\n",
    "\n",
    "- `products.csv`: cada linha corresponde a um produto unívoco que os clientes podem comprar\n",
    "    - `'product_id'`: é o número de identificação unívoco de cada produto\n",
    "    - `'product_name'`: é o nome do produto\n",
    "    - `'aisle_id'`: é o número de identificação unívoco de cada categoria de seção do supermercado\n",
    "    - `'department_id'`: é o número de identificação unívoco de cada categoria de departamento do supermercado\n",
    "\n",
    "\n",
    "\n",
    "\n",
    "-\t`order_products.csv`: cada linha corresponde a um item incluído em um pedido\n",
    "    -\t`'order_id'`: é o número de identificação unívoco de cada pedido\n",
    "    -\t`'product_id'`: é o número de identificação unívoco de cada produto\n",
    "    -\t`'add_to_cart_order'`: é a ordem sequencial em que cada item foi colocado no carrinho\n",
    "    -\t`'reordered'`: 0 se o cliente nunca comprou o produto antes, 1 se já o comprou\n",
    "\n",
    "\n",
    "\n",
    "\n",
    "-\t`aisles.csv`\n",
    "    -\t`'aisle_id'`: é o número de identificação unívoco de cada categoria de seção do supermercado\n",
    "    -\t`'aisle'`: é o nome da seção\n",
    "\n",
    "\n",
    "\n",
    "-\t`departments.csv`\n",
    "    -\t`'department_id'`: é o número de identificação unívoco de cada categoria de departamento do supermercado\n",
    "    -\t`'department'`: é o nome do departamento\n"
   ]
  },
  {
   "cell_type": "markdown",
   "id": "n3Ha_cNSZ8lK",
   "metadata": {
    "id": "n3Ha_cNSZ8lK"
   },
   "source": [
    "# Etapa 1. Visão geral dos dados\n",
    "\n",
    "Etapa de importação das bibliotecas Python, importação dos dados das tabelas e também mostrar preliminarmente os dados.\n"
   ]
  },
  {
   "cell_type": "code",
   "execution_count": 4,
   "id": "fbf1adab",
   "metadata": {
    "id": "fbf1adab"
   },
   "outputs": [],
   "source": [
    "import pandas as pd\n",
    "from matplotlib import pyplot as plt"
   ]
  },
  {
   "cell_type": "code",
   "execution_count": 6,
   "id": "ad36396d",
   "metadata": {
    "id": "ad36396d"
   },
   "outputs": [],
   "source": [
    "df_insta = pd.read_csv('instacart_orders.csv', sep=';')\n",
    "df_prod = pd.read_csv('products.csv', sep=';')\n",
    "df_aisle = pd.read_csv('aisles.csv', sep=';')\n",
    "df_depar = pd.read_csv('departments.csv', sep=';')\n",
    "df_ord = pd.read_csv('order_products.csv', sep=';')"
   ]
  },
  {
   "cell_type": "code",
   "execution_count": 7,
   "id": "417eb569",
   "metadata": {},
   "outputs": [
    {
     "data": {
      "text/html": [
       "<div>\n",
       "<style scoped>\n",
       "    .dataframe tbody tr th:only-of-type {\n",
       "        vertical-align: middle;\n",
       "    }\n",
       "\n",
       "    .dataframe tbody tr th {\n",
       "        vertical-align: top;\n",
       "    }\n",
       "\n",
       "    .dataframe thead th {\n",
       "        text-align: right;\n",
       "    }\n",
       "</style>\n",
       "<table border=\"1\" class=\"dataframe\">\n",
       "  <thead>\n",
       "    <tr style=\"text-align: right;\">\n",
       "      <th></th>\n",
       "      <th>order_id</th>\n",
       "      <th>user_id</th>\n",
       "      <th>order_number</th>\n",
       "      <th>order_dow</th>\n",
       "      <th>order_hour_of_day</th>\n",
       "      <th>days_since_prior_order</th>\n",
       "    </tr>\n",
       "  </thead>\n",
       "  <tbody>\n",
       "    <tr>\n",
       "      <th>0</th>\n",
       "      <td>1515936</td>\n",
       "      <td>183418</td>\n",
       "      <td>11</td>\n",
       "      <td>6</td>\n",
       "      <td>13</td>\n",
       "      <td>30.0</td>\n",
       "    </tr>\n",
       "    <tr>\n",
       "      <th>1</th>\n",
       "      <td>1690866</td>\n",
       "      <td>163593</td>\n",
       "      <td>5</td>\n",
       "      <td>5</td>\n",
       "      <td>12</td>\n",
       "      <td>9.0</td>\n",
       "    </tr>\n",
       "    <tr>\n",
       "      <th>2</th>\n",
       "      <td>1454967</td>\n",
       "      <td>39980</td>\n",
       "      <td>4</td>\n",
       "      <td>5</td>\n",
       "      <td>19</td>\n",
       "      <td>2.0</td>\n",
       "    </tr>\n",
       "    <tr>\n",
       "      <th>3</th>\n",
       "      <td>1768857</td>\n",
       "      <td>82516</td>\n",
       "      <td>56</td>\n",
       "      <td>0</td>\n",
       "      <td>20</td>\n",
       "      <td>10.0</td>\n",
       "    </tr>\n",
       "    <tr>\n",
       "      <th>4</th>\n",
       "      <td>3007858</td>\n",
       "      <td>196724</td>\n",
       "      <td>2</td>\n",
       "      <td>4</td>\n",
       "      <td>12</td>\n",
       "      <td>17.0</td>\n",
       "    </tr>\n",
       "  </tbody>\n",
       "</table>\n",
       "</div>"
      ],
      "text/plain": [
       "   order_id  user_id  order_number  order_dow  order_hour_of_day  \\\n",
       "0   1515936   183418            11          6                 13   \n",
       "1   1690866   163593             5          5                 12   \n",
       "2   1454967    39980             4          5                 19   \n",
       "3   1768857    82516            56          0                 20   \n",
       "4   3007858   196724             2          4                 12   \n",
       "\n",
       "   days_since_prior_order  \n",
       "0                    30.0  \n",
       "1                     9.0  \n",
       "2                     2.0  \n",
       "3                    10.0  \n",
       "4                    17.0  "
      ]
     },
     "execution_count": 7,
     "metadata": {},
     "output_type": "execute_result"
    }
   ],
   "source": [
    "df_insta.head()"
   ]
  },
  {
   "cell_type": "code",
   "execution_count": 8,
   "id": "ad6a1efa",
   "metadata": {
    "id": "ad6a1efa"
   },
   "outputs": [
    {
     "data": {
      "text/html": [
       "<div>\n",
       "<style scoped>\n",
       "    .dataframe tbody tr th:only-of-type {\n",
       "        vertical-align: middle;\n",
       "    }\n",
       "\n",
       "    .dataframe tbody tr th {\n",
       "        vertical-align: top;\n",
       "    }\n",
       "\n",
       "    .dataframe thead th {\n",
       "        text-align: right;\n",
       "    }\n",
       "</style>\n",
       "<table border=\"1\" class=\"dataframe\">\n",
       "  <thead>\n",
       "    <tr style=\"text-align: right;\">\n",
       "      <th></th>\n",
       "      <th>product_id</th>\n",
       "      <th>product_name</th>\n",
       "      <th>aisle_id</th>\n",
       "      <th>department_id</th>\n",
       "    </tr>\n",
       "  </thead>\n",
       "  <tbody>\n",
       "    <tr>\n",
       "      <th>0</th>\n",
       "      <td>1</td>\n",
       "      <td>Chocolate Sandwich Cookies</td>\n",
       "      <td>61</td>\n",
       "      <td>19</td>\n",
       "    </tr>\n",
       "    <tr>\n",
       "      <th>1</th>\n",
       "      <td>2</td>\n",
       "      <td>All-Seasons Salt</td>\n",
       "      <td>104</td>\n",
       "      <td>13</td>\n",
       "    </tr>\n",
       "    <tr>\n",
       "      <th>2</th>\n",
       "      <td>3</td>\n",
       "      <td>Robust Golden Unsweetened Oolong Tea</td>\n",
       "      <td>94</td>\n",
       "      <td>7</td>\n",
       "    </tr>\n",
       "    <tr>\n",
       "      <th>3</th>\n",
       "      <td>4</td>\n",
       "      <td>Smart Ones Classic Favorites Mini Rigatoni Wit...</td>\n",
       "      <td>38</td>\n",
       "      <td>1</td>\n",
       "    </tr>\n",
       "    <tr>\n",
       "      <th>4</th>\n",
       "      <td>5</td>\n",
       "      <td>Green Chile Anytime Sauce</td>\n",
       "      <td>5</td>\n",
       "      <td>13</td>\n",
       "    </tr>\n",
       "  </tbody>\n",
       "</table>\n",
       "</div>"
      ],
      "text/plain": [
       "   product_id                                       product_name  aisle_id  \\\n",
       "0           1                         Chocolate Sandwich Cookies        61   \n",
       "1           2                                   All-Seasons Salt       104   \n",
       "2           3               Robust Golden Unsweetened Oolong Tea        94   \n",
       "3           4  Smart Ones Classic Favorites Mini Rigatoni Wit...        38   \n",
       "4           5                          Green Chile Anytime Sauce         5   \n",
       "\n",
       "   department_id  \n",
       "0             19  \n",
       "1             13  \n",
       "2              7  \n",
       "3              1  \n",
       "4             13  "
      ]
     },
     "execution_count": 8,
     "metadata": {},
     "output_type": "execute_result"
    }
   ],
   "source": [
    "df_prod.head()"
   ]
  },
  {
   "cell_type": "code",
   "execution_count": 9,
   "id": "5130e05e",
   "metadata": {
    "id": "5130e05e"
   },
   "outputs": [
    {
     "data": {
      "text/html": [
       "<div>\n",
       "<style scoped>\n",
       "    .dataframe tbody tr th:only-of-type {\n",
       "        vertical-align: middle;\n",
       "    }\n",
       "\n",
       "    .dataframe tbody tr th {\n",
       "        vertical-align: top;\n",
       "    }\n",
       "\n",
       "    .dataframe thead th {\n",
       "        text-align: right;\n",
       "    }\n",
       "</style>\n",
       "<table border=\"1\" class=\"dataframe\">\n",
       "  <thead>\n",
       "    <tr style=\"text-align: right;\">\n",
       "      <th></th>\n",
       "      <th>aisle_id</th>\n",
       "      <th>aisle</th>\n",
       "    </tr>\n",
       "  </thead>\n",
       "  <tbody>\n",
       "    <tr>\n",
       "      <th>0</th>\n",
       "      <td>1</td>\n",
       "      <td>prepared soups salads</td>\n",
       "    </tr>\n",
       "    <tr>\n",
       "      <th>1</th>\n",
       "      <td>2</td>\n",
       "      <td>specialty cheeses</td>\n",
       "    </tr>\n",
       "    <tr>\n",
       "      <th>2</th>\n",
       "      <td>3</td>\n",
       "      <td>energy granola bars</td>\n",
       "    </tr>\n",
       "    <tr>\n",
       "      <th>3</th>\n",
       "      <td>4</td>\n",
       "      <td>instant foods</td>\n",
       "    </tr>\n",
       "    <tr>\n",
       "      <th>4</th>\n",
       "      <td>5</td>\n",
       "      <td>marinades meat preparation</td>\n",
       "    </tr>\n",
       "  </tbody>\n",
       "</table>\n",
       "</div>"
      ],
      "text/plain": [
       "   aisle_id                       aisle\n",
       "0         1       prepared soups salads\n",
       "1         2           specialty cheeses\n",
       "2         3         energy granola bars\n",
       "3         4               instant foods\n",
       "4         5  marinades meat preparation"
      ]
     },
     "execution_count": 9,
     "metadata": {},
     "output_type": "execute_result"
    }
   ],
   "source": [
    "df_aisle.head()"
   ]
  },
  {
   "cell_type": "code",
   "execution_count": 10,
   "id": "d8370c05",
   "metadata": {
    "id": "d8370c05"
   },
   "outputs": [
    {
     "data": {
      "text/html": [
       "<div>\n",
       "<style scoped>\n",
       "    .dataframe tbody tr th:only-of-type {\n",
       "        vertical-align: middle;\n",
       "    }\n",
       "\n",
       "    .dataframe tbody tr th {\n",
       "        vertical-align: top;\n",
       "    }\n",
       "\n",
       "    .dataframe thead th {\n",
       "        text-align: right;\n",
       "    }\n",
       "</style>\n",
       "<table border=\"1\" class=\"dataframe\">\n",
       "  <thead>\n",
       "    <tr style=\"text-align: right;\">\n",
       "      <th></th>\n",
       "      <th>department_id</th>\n",
       "      <th>department</th>\n",
       "    </tr>\n",
       "  </thead>\n",
       "  <tbody>\n",
       "    <tr>\n",
       "      <th>0</th>\n",
       "      <td>1</td>\n",
       "      <td>frozen</td>\n",
       "    </tr>\n",
       "    <tr>\n",
       "      <th>1</th>\n",
       "      <td>2</td>\n",
       "      <td>other</td>\n",
       "    </tr>\n",
       "    <tr>\n",
       "      <th>2</th>\n",
       "      <td>3</td>\n",
       "      <td>bakery</td>\n",
       "    </tr>\n",
       "    <tr>\n",
       "      <th>3</th>\n",
       "      <td>4</td>\n",
       "      <td>produce</td>\n",
       "    </tr>\n",
       "    <tr>\n",
       "      <th>4</th>\n",
       "      <td>5</td>\n",
       "      <td>alcohol</td>\n",
       "    </tr>\n",
       "  </tbody>\n",
       "</table>\n",
       "</div>"
      ],
      "text/plain": [
       "   department_id department\n",
       "0              1     frozen\n",
       "1              2      other\n",
       "2              3     bakery\n",
       "3              4    produce\n",
       "4              5    alcohol"
      ]
     },
     "execution_count": 10,
     "metadata": {},
     "output_type": "execute_result"
    }
   ],
   "source": [
    "df_depar.head()"
   ]
  },
  {
   "cell_type": "code",
   "execution_count": 11,
   "id": "59e2090f",
   "metadata": {
    "id": "59e2090f",
    "scrolled": true
   },
   "outputs": [
    {
     "data": {
      "text/html": [
       "<div>\n",
       "<style scoped>\n",
       "    .dataframe tbody tr th:only-of-type {\n",
       "        vertical-align: middle;\n",
       "    }\n",
       "\n",
       "    .dataframe tbody tr th {\n",
       "        vertical-align: top;\n",
       "    }\n",
       "\n",
       "    .dataframe thead th {\n",
       "        text-align: right;\n",
       "    }\n",
       "</style>\n",
       "<table border=\"1\" class=\"dataframe\">\n",
       "  <thead>\n",
       "    <tr style=\"text-align: right;\">\n",
       "      <th></th>\n",
       "      <th>order_id</th>\n",
       "      <th>product_id</th>\n",
       "      <th>add_to_cart_order</th>\n",
       "      <th>reordered</th>\n",
       "    </tr>\n",
       "  </thead>\n",
       "  <tbody>\n",
       "    <tr>\n",
       "      <th>0</th>\n",
       "      <td>2141543</td>\n",
       "      <td>11440</td>\n",
       "      <td>17.0</td>\n",
       "      <td>0</td>\n",
       "    </tr>\n",
       "    <tr>\n",
       "      <th>1</th>\n",
       "      <td>567889</td>\n",
       "      <td>1560</td>\n",
       "      <td>1.0</td>\n",
       "      <td>1</td>\n",
       "    </tr>\n",
       "    <tr>\n",
       "      <th>2</th>\n",
       "      <td>2261212</td>\n",
       "      <td>26683</td>\n",
       "      <td>1.0</td>\n",
       "      <td>1</td>\n",
       "    </tr>\n",
       "    <tr>\n",
       "      <th>3</th>\n",
       "      <td>491251</td>\n",
       "      <td>8670</td>\n",
       "      <td>35.0</td>\n",
       "      <td>1</td>\n",
       "    </tr>\n",
       "    <tr>\n",
       "      <th>4</th>\n",
       "      <td>2571142</td>\n",
       "      <td>1940</td>\n",
       "      <td>5.0</td>\n",
       "      <td>1</td>\n",
       "    </tr>\n",
       "  </tbody>\n",
       "</table>\n",
       "</div>"
      ],
      "text/plain": [
       "   order_id  product_id  add_to_cart_order  reordered\n",
       "0   2141543       11440               17.0          0\n",
       "1    567889        1560                1.0          1\n",
       "2   2261212       26683                1.0          1\n",
       "3    491251        8670               35.0          1\n",
       "4   2571142        1940                5.0          1"
      ]
     },
     "execution_count": 11,
     "metadata": {},
     "output_type": "execute_result"
    }
   ],
   "source": [
    "df_ord.head()"
   ]
  },
  {
   "cell_type": "markdown",
   "id": "t75BD19oaR5f",
   "metadata": {
    "id": "t75BD19oaR5f"
   },
   "source": [
    "## Conclusões\n",
    "\n",
    "Os dados estão consistentes e bem organizados, porém é preciso verificar valores duplicados e ausentes e também limpar os dados para que tenhamos uma análise mais segura."
   ]
  },
  {
   "cell_type": "markdown",
   "id": "8RJHqxVmaVsF",
   "metadata": {
    "id": "8RJHqxVmaVsF"
   },
   "source": [
    "# Etapa 2. Preparação de dados\n",
    "\n",
    "-\tVerificação e correção os tipos de dados\n",
    "-\tIdentificação e preenchimento de valores ausentes\n",
    "-\tIdentificação e remoção de valores duplicados\n"
   ]
  },
  {
   "cell_type": "markdown",
   "id": "p6poABZQaZYb",
   "metadata": {
    "id": "p6poABZQaZYb"
   },
   "source": [
    "## Plano de solução\n",
    "\n",
    "Meu plano para essa seção são os códigos de correção do tipo de dados, como por exemplo: str, int, float, etc.. e também procurar por valores ausentes usando a fórmula ISNA e podemos preencher estes valores com a método FILLNA e também o replace e, por fim, podemos verificar os dados duplicados com o método DUPLICATED e removê-los com o método DROP.DUPLICATES."
   ]
  },
  {
   "cell_type": "markdown",
   "id": "f179f0a9",
   "metadata": {
    "id": "f179f0a9"
   },
   "source": [
    "### DataFrame `orders`"
   ]
  },
  {
   "cell_type": "code",
   "execution_count": 8,
   "id": "b99297a5-405a-463d-8535-9adc3da4ad74",
   "metadata": {
    "id": "b99297a5-405a-463d-8535-9adc3da4ad74"
   },
   "outputs": [
    {
     "name": "stdout",
     "output_type": "stream",
     "text": [
      "        order_id  user_id  order_number  order_dow  order_hour_of_day  \\\n",
      "30371    1918001   188546            14          3                  2   \n",
      "99462     794638    50898            24          3                  2   \n",
      "119251    408114    68324             4          3                  2   \n",
      "142258   2845099    31189            11          3                  2   \n",
      "145574    794638    50898            24          3                  2   \n",
      "164581   1112182   202304            84          3                  2   \n",
      "200059   1782114   106752             1          3                  2   \n",
      "204042   2125197    14050            48          3                  2   \n",
      "215294   2160484   107525            16          3                  2   \n",
      "223105   2160484   107525            16          3                  2   \n",
      "230807   1918001   188546            14          3                  2   \n",
      "242618   1021560    53767             3          3                  2   \n",
      "250626    467134    63189            21          3                  2   \n",
      "257934   1919531   191501            32          3                  2   \n",
      "259636   2282673    86751            49          3                  2   \n",
      "266232   1782114   106752             1          3                  2   \n",
      "273805   1112182   202304            84          3                  2   \n",
      "284038   2845099    31189            11          3                  2   \n",
      "311713   1021560    53767             3          3                  2   \n",
      "314427   1286742   183220            48          3                  2   \n",
      "321100    408114    68324             4          3                  2   \n",
      "323900   1919531   191501            32          3                  2   \n",
      "324868   2232988    82565             1          3                  2   \n",
      "345917   2232988    82565             1          3                  2   \n",
      "354993    391768    57671            19          3                  2   \n",
      "371905    391768    57671            19          3                  2   \n",
      "394347    467134    63189            21          3                  2   \n",
      "411408   1286742   183220            48          3                  2   \n",
      "415163   2282673    86751            49          3                  2   \n",
      "441599   2125197    14050            48          3                  2   \n",
      "\n",
      "        days_since_prior_order  \n",
      "30371                     16.0  \n",
      "99462                      2.0  \n",
      "119251                    18.0  \n",
      "142258                     7.0  \n",
      "145574                     2.0  \n",
      "164581                     6.0  \n",
      "200059                     NaN  \n",
      "204042                     3.0  \n",
      "215294                    30.0  \n",
      "223105                    30.0  \n",
      "230807                    16.0  \n",
      "242618                     9.0  \n",
      "250626                     2.0  \n",
      "257934                     7.0  \n",
      "259636                     2.0  \n",
      "266232                     NaN  \n",
      "273805                     6.0  \n",
      "284038                     7.0  \n",
      "311713                     9.0  \n",
      "314427                     4.0  \n",
      "321100                    18.0  \n",
      "323900                     7.0  \n",
      "324868                     NaN  \n",
      "345917                     NaN  \n",
      "354993                    10.0  \n",
      "371905                    10.0  \n",
      "394347                     2.0  \n",
      "411408                     4.0  \n",
      "415163                     2.0  \n",
      "441599                     3.0  \n",
      "\n",
      "A soma do número de linhas duplicados no Dataframe é:  15\n"
     ]
    }
   ],
   "source": [
    "duplicated_rows = df_insta[df_insta.duplicated(keep=False)]\n",
    "print(duplicated_rows)\n",
    "print()\n",
    "print(\"A soma do número de linhas duplicados no Dataframe é: \", df_insta.duplicated().sum())# Verificar se há pedidos duplicados"
   ]
  },
  {
   "cell_type": "markdown",
   "id": "PEkwUX_gvt5A",
   "metadata": {
    "id": "PEkwUX_gvt5A"
   },
   "source": [
    "O que podemos notar no DF é que todos pedidos duplicados tem em comum o dia da semana: dia 3 (quarta-feira) e a hora da semana: 2 (2 da manhã)."
   ]
  },
  {
   "cell_type": "code",
   "execution_count": 9,
   "id": "0d44de5d",
   "metadata": {
    "id": "0d44de5d"
   },
   "outputs": [
    {
     "name": "stdout",
     "output_type": "stream",
     "text": [
      "0      2766110\n",
      "1      2190225\n",
      "2       553049\n",
      "3       382357\n",
      "4       690242\n",
      "        ...   \n",
      "116    3384021\n",
      "117     910166\n",
      "118    1680532\n",
      "119     222962\n",
      "120    2592344\n",
      "Name: order_id, Length: 121, dtype: int64\n"
     ]
    }
   ],
   "source": [
    "# Com base nas suas conclusões,\n",
    "def orders_day_hour(df_insta, order_dow, order_hour_of_day):\n",
    "    df_filtered_day = df_insta[df_insta['order_dow'] == 3]\n",
    "    df_filtered_day_hour = df_filtered_day[df_filtered_day['order_hour_of_day'] == 2]\n",
    "    \n",
    "    order_day_hour = df_filtered_day_hour['order_id']\n",
    "    \n",
    "    return order_day_hour\n",
    "    \n",
    "result = orders_day_hour(df_insta, 3, 2)\n",
    "print(result.reset_index(drop=True))\n",
    "\n",
    "# verifique todos os pedidos feitos às 2h da manhã nas quartas-feiras"
   ]
  },
  {
   "cell_type": "markdown",
   "id": "vu2OWyoqwOx5",
   "metadata": {
    "id": "vu2OWyoqwOx5"
   },
   "source": [
    "O que esse resultado quer dizer?\n",
    "\n",
    "Esse resultado quer dizer que nós temos 106 pedidos feitos às 2 horas da manhã na quarta-feira."
   ]
  },
  {
   "cell_type": "code",
   "execution_count": 10,
   "id": "480563c7",
   "metadata": {
    "id": "480563c7",
    "scrolled": true
   },
   "outputs": [],
   "source": [
    "df_insta.drop_duplicates(inplace=True)# Remova pedidos duplicados"
   ]
  },
  {
   "cell_type": "code",
   "execution_count": 11,
   "id": "0b2396a2",
   "metadata": {
    "id": "0b2396a2"
   },
   "outputs": [
    {
     "name": "stdout",
     "output_type": "stream",
     "text": [
      "0\n"
     ]
    }
   ],
   "source": [
    "print(df_insta.duplicated().sum())# Verifique as linhas duplicadas mais uma vez"
   ]
  },
  {
   "cell_type": "code",
   "execution_count": 12,
   "id": "f6113ef1",
   "metadata": {
    "id": "f6113ef1"
   },
   "outputs": [
    {
     "name": "stdout",
     "output_type": "stream",
     "text": [
      "Empty DataFrame\n",
      "Columns: [order_id, user_id, order_number, order_dow, order_hour_of_day, days_since_prior_order]\n",
      "Index: []\n"
     ]
    }
   ],
   "source": [
    "df_filtered_1 = df_insta[df_insta.duplicated(keep=False)]\n",
    "print(df_filtered_1)# Verifique novamente apenas os IDs de pedidos duplicados"
   ]
  },
  {
   "cell_type": "markdown",
   "id": "5e8905ae",
   "metadata": {
    "id": "5e8905ae"
   },
   "source": [
    "Olhando para o Dataframe, notamos que haviam 15 linhas duplicadas que identificamos pelo dia \"3\" (quarta-feira) e pela hora \"2\" (2 horas da manhã). A partir disso, conseguimos limpar os dados usando os métodos de pandas certos para removê-los para deixar nossa análise mais clara.\n",
    "\n",
    "Descreva brevemente suas conclusões e o que você fez com elas."
   ]
  },
  {
   "cell_type": "markdown",
   "id": "47b40b95",
   "metadata": {},
   "source": [
    "<div class=\"alert alert-block alert-success\">\n",
    "<b> Comentário do revisor: </b> <a class=\"tocSkip\"></a>\n",
    "\n",
    "- O estudante verificou corretamente que pedidos duplicados ocorreram às 2:00 da manhã de Quarta-feira, o que pode sugerir um erro na geração dos dados.\n",
    "</div>\n"
   ]
  },
  {
   "cell_type": "markdown",
   "id": "45e6bc46",
   "metadata": {
    "id": "45e6bc46"
   },
   "source": [
    "### DataFrame `products`"
   ]
  },
  {
   "cell_type": "code",
   "execution_count": 13,
   "id": "b1fca3d3",
   "metadata": {},
   "outputs": [
    {
     "data": {
      "text/plain": [
       "0"
      ]
     },
     "execution_count": 13,
     "metadata": {},
     "output_type": "execute_result"
    }
   ],
   "source": [
    "df_prod.duplicated().sum()"
   ]
  },
  {
   "cell_type": "code",
   "execution_count": 14,
   "id": "88daa4f4",
   "metadata": {
    "id": "88daa4f4",
    "scrolled": true
   },
   "outputs": [
    {
     "name": "stdout",
     "output_type": "stream",
     "text": [
      "0\n"
     ]
    }
   ],
   "source": [
    "df_filtered_3 = df_prod['product_id'].duplicated().sum()\n",
    "print(df_filtered_3) # Verifique apenas se há IDs de departamentos duplicados"
   ]
  },
  {
   "cell_type": "code",
   "execution_count": 15,
   "id": "c773f0bf",
   "metadata": {
    "id": "c773f0bf",
    "scrolled": true
   },
   "outputs": [
    {
     "name": "stdout",
     "output_type": "stream",
     "text": [
      "0                           chocolate sandwich cookies\n",
      "1                                     all-seasons salt\n",
      "2                 robust golden unsweetened oolong tea\n",
      "3    smart ones classic favorites mini rigatoni wit...\n",
      "4                            green chile anytime sauce\n",
      "Name: product_name, dtype: object\n",
      "\n",
      "A soma de produtos duplicados no Dataframe é de:  1361\n",
      "\n",
      "71                                                   NaN\n",
      "109                                                  NaN\n",
      "296                                                  NaN\n",
      "416                                                  NaN\n",
      "436                                                  NaN\n",
      "                              ...                       \n",
      "49689                      high performance energy drink\n",
      "49690                      original pancake & waffle mix\n",
      "49691    organic instant oatmeal light maple brown sugar\n",
      "49692                             spring water body wash\n",
      "49693                            burrito- steak & cheese\n",
      "Name: product_name, Length: 1361, dtype: object\n"
     ]
    }
   ],
   "source": [
    "df_lower = df_prod['product_name'].str.lower()\n",
    "print(df_lower.head())\n",
    "print()\n",
    "duplicated_prod = df_lower.duplicated().sum()\n",
    "print(\"A soma de produtos duplicados no Dataframe é de: \", duplicated_prod)# Verifique apenas se há nomes de produtos duplicados (converta os nomes para minúsculas para uma comparação melhor)\n",
    "print()\n",
    "print(df_lower[df_lower.duplicated()])"
   ]
  },
  {
   "cell_type": "code",
   "execution_count": 16,
   "id": "01efd02e",
   "metadata": {
    "id": "01efd02e"
   },
   "outputs": [
    {
     "name": "stdout",
     "output_type": "stream",
     "text": [
      "green tea with ginseng and honey                    3\n",
      "cream of celery condensed soup                      2\n",
      "chicken in a biskit baked snack crackers            2\n",
      "pineapple slices in heavy syrup                     2\n",
      "tomato juice from concentrate                       2\n",
      "                                                   ..\n",
      "orange decorating icing                             1\n",
      "hearty garlic deli style sandwich slices pickles    1\n",
      "berry chewable tablets                              1\n",
      "mild diced green chiles fire roasted                1\n",
      "all natural free range chicken cat treats           1\n",
      "Name: product_name, Length: 48332, dtype: int64\n",
      "\n",
      "A soma de produtos duplicados no Dataframe é de:  104\n"
     ]
    }
   ],
   "source": [
    "df_lower.dropna(inplace=True)\n",
    "print(df_lower.value_counts().sort_values(ascending=False))\n",
    "print()\n",
    "duplicated_prod = df_lower.duplicated().sum()\n",
    "print(\"A soma de produtos duplicados no Dataframe é de: \", duplicated_prod)\n",
    "# Verifique os nomes de produtos duplicados que não estão faltando"
   ]
  },
  {
   "cell_type": "markdown",
   "id": "9da8d293",
   "metadata": {
    "id": "9da8d293"
   },
   "source": [
    "Descreva brevemente suas conclusões e o que você fez com elas.\n",
    "\n",
    "Verificamos nessa questão que haviam 1361 produtos duplicados e muitos deles eram \"NaNs\" e logo depois eu retirei os mesmos com o método \"dropna\" e achei o novo número de produtos duplicados que é 104."
   ]
  },
  {
   "cell_type": "markdown",
   "id": "f354733e",
   "metadata": {},
   "source": [
    "<div class=\"alert alert-block alert-danger\">\n",
    "<b> Comentário do revisor: </b> <a class=\"tocSkip\"></a>\n",
    "\n",
    "<s>\n",
    "- Os nomes dos produtos foram convertidos para `lowercase` para padronização\n",
    "- As conclusões intermediárias foram apresentadas. Nesta seção, você conclui que não há produtos duplicados, entretanto, você faz a remoção dos itens duplicados previamente, ou seja, você deve checar essa hipótese **antes** de remover as linhas duplicadas. Peço que atualize a sua conclusão desta seção.\n",
    "</s>\n",
    "</div>\n"
   ]
  },
  {
   "cell_type": "markdown",
   "id": "60f30db1",
   "metadata": {
    "id": "60f30db1"
   },
   "source": [
    "### DataFrame `departments`"
   ]
  },
  {
   "cell_type": "code",
   "execution_count": 17,
   "id": "fb410ad4-0fbf-4b80-bb09-23fdea79afe3",
   "metadata": {
    "id": "fb410ad4-0fbf-4b80-bb09-23fdea79afe3"
   },
   "outputs": [
    {
     "data": {
      "text/plain": [
       "0"
      ]
     },
     "execution_count": 17,
     "metadata": {},
     "output_type": "execute_result"
    }
   ],
   "source": [
    "df_depar.duplicated().sum()# Verifique se há linhas completamente duplicadas"
   ]
  },
  {
   "cell_type": "code",
   "execution_count": 18,
   "id": "332b12bb",
   "metadata": {
    "id": "332b12bb"
   },
   "outputs": [
    {
     "name": "stdout",
     "output_type": "stream",
     "text": [
      "0\n"
     ]
    }
   ],
   "source": [
    "df_filtered_3 = df_depar['department_id'].duplicated().sum()\n",
    "print(df_filtered_3)# Verifique apenas se há IDs dos produtos duplicados"
   ]
  },
  {
   "cell_type": "markdown",
   "id": "bd30d78e",
   "metadata": {
    "id": "bd30d78e"
   },
   "source": [
    "Descreva brevemente suas conclusões e o que você fez com elas.\n",
    "\n",
    "Nesta seção foi verificado se haviam linhas e itens duplicados no dataframe e notamos que não haviam."
   ]
  },
  {
   "cell_type": "markdown",
   "id": "9b9af4de",
   "metadata": {},
   "source": [
    "<div class=\"alert alert-block alert-success\">\n",
    "<b> Comentário do revisor: </b> <a class=\"tocSkip\"></a>\n",
    "\n",
    "- Os valores duplicados foram verificados\n",
    "- As conclusões intermediárias foram apresentadas\n",
    "</div>\n"
   ]
  },
  {
   "cell_type": "markdown",
   "id": "889349c1",
   "metadata": {
    "id": "889349c1"
   },
   "source": [
    "### DataFrame `aisles`"
   ]
  },
  {
   "cell_type": "code",
   "execution_count": 19,
   "id": "9da89fb9-4679-40f5-ad0d-c34df753a3f8",
   "metadata": {
    "id": "9da89fb9-4679-40f5-ad0d-c34df753a3f8"
   },
   "outputs": [
    {
     "data": {
      "text/plain": [
       "0"
      ]
     },
     "execution_count": 19,
     "metadata": {},
     "output_type": "execute_result"
    }
   ],
   "source": [
    "df_aisle.duplicated().sum()# Verifique se há linhas completamente duplicadas"
   ]
  },
  {
   "cell_type": "code",
   "execution_count": 20,
   "id": "da7c2822",
   "metadata": {
    "id": "da7c2822"
   },
   "outputs": [
    {
     "name": "stdout",
     "output_type": "stream",
     "text": [
      "0\n"
     ]
    }
   ],
   "source": [
    "df_filtered_4 = df_aisle['aisle_id'].duplicated().sum()\n",
    "print(df_filtered_4)# Verifique apenas se há IDs dos produtos duplicados"
   ]
  },
  {
   "cell_type": "markdown",
   "id": "ac63826f",
   "metadata": {
    "id": "ac63826f"
   },
   "source": [
    "Descreva brevemente suas conclusões e o que você fez com elas.\n",
    "\n",
    "Nesta seção foi verificado se haviam linhas e itens duplicados no dataframe e notamos que não haviam."
   ]
  },
  {
   "cell_type": "markdown",
   "id": "e78afb4c",
   "metadata": {},
   "source": [
    "<div class=\"alert alert-block alert-success\">\n",
    "<b> Comentário do revisor: </b> <a class=\"tocSkip\"></a>\n",
    "\n",
    "- Os valores duplicados foram verificados\n",
    "- As conclusões intermediárias foram apresentadas\n",
    "</div>\n"
   ]
  },
  {
   "cell_type": "markdown",
   "id": "274cd06a",
   "metadata": {
    "id": "274cd06a"
   },
   "source": [
    "### DataFrame `order_products`"
   ]
  },
  {
   "cell_type": "code",
   "execution_count": 21,
   "id": "52326689-84a8-4b8f-a881-7c68780f62c9",
   "metadata": {
    "id": "52326689-84a8-4b8f-a881-7c68780f62c9"
   },
   "outputs": [
    {
     "data": {
      "text/plain": [
       "0"
      ]
     },
     "execution_count": 21,
     "metadata": {},
     "output_type": "execute_result"
    }
   ],
   "source": [
    "df_ord.duplicated().sum()# Verifique se há linhas completamente duplicadas"
   ]
  },
  {
   "cell_type": "code",
   "execution_count": 22,
   "id": "7b861391",
   "metadata": {
    "id": "7b861391"
   },
   "outputs": [
    {
     "name": "stdout",
     "output_type": "stream",
     "text": [
      "Empty DataFrame\n",
      "Columns: [order_id, product_id, add_to_cart_order, reordered]\n",
      "Index: []\n"
     ]
    }
   ],
   "source": [
    "duplicated_order = df_ord[df_ord.duplicated(keep=False)]\n",
    "print(duplicated_order)# Verifique mais uma vez se há outros casos complicados de duplicados"
   ]
  },
  {
   "cell_type": "markdown",
   "id": "0b890492",
   "metadata": {
    "id": "0b890492"
   },
   "source": [
    "Descreva brevemente suas conclusões e o que você fez com elas.\n",
    "\n",
    "Nesta seção foi verificado se haviam linhas e itens duplicados no dataframe e notamos que não haviam."
   ]
  },
  {
   "cell_type": "markdown",
   "id": "f68afcae",
   "metadata": {},
   "source": [
    "<div class=\"alert alert-block alert-success\">\n",
    "<b> Comentário do revisor: </b> <a class=\"tocSkip\"></a>\n",
    "\n",
    "- Os valores duplicados foram verificados\n",
    "- As conclusões intermediárias foram apresentadas\n",
    "</div>\n"
   ]
  },
  {
   "cell_type": "markdown",
   "id": "1e46de76",
   "metadata": {
    "id": "1e46de76"
   },
   "source": [
    "## Encontre e remova valores ausentes\n",
    "\n",
    "\n",
    "Ao processarmos valores duplicados, observamos que também temos valores ausentes que precisamos investigar nas seguintes colunas:\n",
    "\n",
    "*\tA coluna `'product_name'` da tabela products.\n",
    "*\tA coluna `'days_since_prior_order'` da tabela orders.\n",
    "*\tA coluna `'add_to_cart_order'` da tabela order_products.\n"
   ]
  },
  {
   "cell_type": "markdown",
   "id": "c0aebd78",
   "metadata": {
    "id": "c0aebd78"
   },
   "source": [
    "### DataFrame `products`"
   ]
  },
  {
   "cell_type": "code",
   "execution_count": 23,
   "id": "fe4a8b0f",
   "metadata": {
    "id": "fe4a8b0f"
   },
   "outputs": [
    {
     "name": "stdout",
     "output_type": "stream",
     "text": [
      "1258\n",
      "\n",
      "NaN                                               1258\n",
      "Greek Corner Caramelized Almonds Lowfat Yogurt       1\n",
      "Bean & Rice Chips- Ranch                             1\n",
      "Silicone Baby 3-12 Months Toothbrush                 1\n",
      "Popped Rice Snacks Butter Popcorn Flavor             1\n",
      "                                                  ... \n",
      "All Natural Vanilla Extract                          1\n",
      "Organic Milled Flax Seeds                            1\n",
      "Naturally Rising Crust Classic Supreme Pizza         1\n",
      "Morning Fog Chardonnay                               1\n",
      "Natural Coconut Water                                1\n",
      "Name: product_name, Length: 48437, dtype: int64\n"
     ]
    }
   ],
   "source": [
    "print(df_prod['product_name'].isna().sum())\n",
    "print()\n",
    "print(df_prod['product_name'].value_counts(dropna=False))# Encontre valores ausentes na coluna 'product_name'"
   ]
  },
  {
   "cell_type": "markdown",
   "id": "-A6x1AbJhjkp",
   "metadata": {
    "id": "-A6x1AbJhjkp"
   },
   "source": [
    "Descreva brevemente suas conclusões.\n",
    "\n",
    "Filtrando o DataFrame, vemos que temos 1258 valores ausentes na coluna 'product_name'."
   ]
  },
  {
   "cell_type": "code",
   "execution_count": 24,
   "id": "e96167bc",
   "metadata": {
    "id": "e96167bc"
   },
   "outputs": [
    {
     "name": "stdout",
     "output_type": "stream",
     "text": [
      "     product_id product_name  aisle_id  department_id\n",
      "37           38          NaN       100             21\n",
      "71           72          NaN       100             21\n",
      "109         110          NaN       100             21\n",
      "296         297          NaN       100             21\n",
      "416         417          NaN       100             21\n",
      "436         437          NaN       100             21\n",
      "439         440          NaN       100             21\n",
      "471         472          NaN       100             21\n",
      "490         491          NaN       100             21\n",
      "555         556          NaN       100             21\n",
      "561         562          NaN       100             21\n",
      "613         614          NaN       100             21\n",
      "623         624          NaN       100             21\n",
      "689         690          NaN       100             21\n",
      "767         768          NaN       100             21\n",
      "\n",
      "       product_id product_name  aisle_id  department_id\n",
      "48886       48887          NaN       100             21\n",
      "49016       49017          NaN       100             21\n",
      "49135       49136          NaN       100             21\n",
      "49237       49238          NaN       100             21\n",
      "49356       49357          NaN       100             21\n",
      "49405       49406          NaN       100             21\n",
      "49422       49423          NaN       100             21\n",
      "49481       49482          NaN       100             21\n",
      "49483       49484          NaN       100             21\n",
      "49545       49546          NaN       100             21\n",
      "49552       49553          NaN       100             21\n",
      "49574       49575          NaN       100             21\n",
      "49640       49641          NaN       100             21\n",
      "49663       49664          NaN       100             21\n",
      "49668       49669          NaN       100             21\n",
      "\n",
      "       product_id product_name  aisle_id  department_id\n",
      "11444       11445          NaN       100             21\n",
      "18166       18167          NaN       100             21\n",
      "28009       28010          NaN       100             21\n",
      "31459       31460          NaN       100             21\n",
      "16991       16992          NaN       100             21\n",
      "9976         9977          NaN       100             21\n",
      "22927       22928          NaN       100             21\n",
      "46948       46949          NaN       100             21\n",
      "7024         7025          NaN       100             21\n",
      "20656       20657          NaN       100             21\n",
      "11060       11061          NaN       100             21\n",
      "39479       39480          NaN       100             21\n",
      "9377         9378          NaN       100             21\n",
      "33182       33183          NaN       100             21\n",
      "38869       38870          NaN       100             21\n"
     ]
    }
   ],
   "source": [
    "print(df_prod[df_prod['aisle_id'] == 100].head(15))\n",
    "print()\n",
    "print(df_prod[df_prod['aisle_id'] == 100].tail(15))\n",
    "print()\n",
    "print(df_prod[df_prod['aisle_id'] == 100].sample(15))\n",
    "# Todos os nomes de produtos ausentes estão associados com a seção de ID 100?"
   ]
  },
  {
   "cell_type": "markdown",
   "id": "WRpIfXRphpSL",
   "metadata": {
    "id": "WRpIfXRphpSL"
   },
   "source": [
    "Descreva brevemente suas conclusões.\n",
    "\n",
    "O que podemos notar é que todos os valores ausentes estão relacionados com o resultado da coluna 'aisle_id' = 100.\n",
    "\n"
   ]
  },
  {
   "cell_type": "code",
   "execution_count": 25,
   "id": "8fd0a541",
   "metadata": {
    "id": "8fd0a541"
   },
   "outputs": [
    {
     "name": "stdout",
     "output_type": "stream",
     "text": [
      "     product_id product_name  aisle_id  department_id\n",
      "37           38          NaN       100             21\n",
      "71           72          NaN       100             21\n",
      "109         110          NaN       100             21\n",
      "296         297          NaN       100             21\n",
      "416         417          NaN       100             21\n",
      "436         437          NaN       100             21\n",
      "439         440          NaN       100             21\n",
      "471         472          NaN       100             21\n",
      "490         491          NaN       100             21\n",
      "555         556          NaN       100             21\n",
      "561         562          NaN       100             21\n",
      "613         614          NaN       100             21\n",
      "623         624          NaN       100             21\n",
      "689         690          NaN       100             21\n",
      "767         768          NaN       100             21\n",
      "\n",
      "       product_id product_name  aisle_id  department_id\n",
      "48886       48887          NaN       100             21\n",
      "49016       49017          NaN       100             21\n",
      "49135       49136          NaN       100             21\n",
      "49237       49238          NaN       100             21\n",
      "49356       49357          NaN       100             21\n",
      "49405       49406          NaN       100             21\n",
      "49422       49423          NaN       100             21\n",
      "49481       49482          NaN       100             21\n",
      "49483       49484          NaN       100             21\n",
      "49545       49546          NaN       100             21\n",
      "49552       49553          NaN       100             21\n",
      "49574       49575          NaN       100             21\n",
      "49640       49641          NaN       100             21\n",
      "49663       49664          NaN       100             21\n",
      "49668       49669          NaN       100             21\n",
      "\n",
      "       product_id product_name  aisle_id  department_id\n",
      "8151         8152          NaN       100             21\n",
      "43061       43062          NaN       100             21\n",
      "2556         2557          NaN       100             21\n",
      "12057       12058          NaN       100             21\n",
      "24721       24722          NaN       100             21\n",
      "25038       25039          NaN       100             21\n",
      "11245       11246          NaN       100             21\n",
      "71             72          NaN       100             21\n",
      "3193         3194          NaN       100             21\n",
      "14243       14244          NaN       100             21\n",
      "15956       15957          NaN       100             21\n",
      "39514       39515          NaN       100             21\n",
      "6199         6200          NaN       100             21\n",
      "33270       33271          NaN       100             21\n",
      "44278       44279          NaN       100             21\n"
     ]
    }
   ],
   "source": [
    "print(df_prod[df_prod['department_id'] == 21].head(15))\n",
    "print()\n",
    "print(df_prod[df_prod['department_id'] == 21].tail(15))\n",
    "print()\n",
    "print(df_prod[df_prod['department_id'] == 21].sample(15))\n",
    "# Todos os nomes de produtos ausentes estão associados com o departamento de ID 21?"
   ]
  },
  {
   "cell_type": "markdown",
   "id": "qDpdYn1Fht_I",
   "metadata": {
    "id": "qDpdYn1Fht_I"
   },
   "source": [
    "Descreva brevemente suas conclusões.\n",
    "\n",
    "O que podemos notar é que todos os valores ausentes estão relacionados com o resultado \"department_id\" = 21."
   ]
  },
  {
   "cell_type": "code",
   "execution_count": 26,
   "id": "325c3464",
   "metadata": {
    "id": "325c3464"
   },
   "outputs": [
    {
     "name": "stdout",
     "output_type": "stream",
     "text": [
      "    department_id department\n",
      "20             21    missing\n",
      "\n",
      "    aisle_id    aisle\n",
      "99       100  missing\n"
     ]
    }
   ],
   "source": [
    "print(df_depar[df_depar['department_id'] == 21].head())\n",
    "print()\n",
    "print(df_aisle[df_aisle['aisle_id'] == 100].head())# Use as tabelas de departamentos e seções para verificar os dados da seção ID 100 e do departamento ID 21."
   ]
  },
  {
   "cell_type": "markdown",
   "id": "nqhSTUPhhvEJ",
   "metadata": {
    "id": "nqhSTUPhhvEJ"
   },
   "source": [
    "Descreva brevemente suas conclusões.\n",
    "\n",
    "Podemos notar com esse resultado que o valor correspondente a 21 no Dataframe 'df_depar' está ausentes, assim como o valor correspondente a 100 no Dataframe 'df_aisle' está também ausente. Isso jusfica o porquê dos valores ausentes no Dataframe \"df_prod\".\n",
    "\n"
   ]
  },
  {
   "cell_type": "markdown",
   "id": "053a1bab",
   "metadata": {},
   "source": [
    "<div class=\"alert alert-block alert-success\">\n",
    "<b> Comentário do revisor: </b> <a class=\"tocSkip\"></a>\n",
    "\n",
    "- A verificação de que os produtos com nomes vazios estão associados com o `departamento==21` e `aisle==100` foi realizada.\n",
    "</div>\n"
   ]
  },
  {
   "cell_type": "code",
   "execution_count": 27,
   "id": "6b295120",
   "metadata": {
    "id": "6b295120"
   },
   "outputs": [
    {
     "name": "stdout",
     "output_type": "stream",
     "text": [
      "      product_id product_name  aisle_id  department_id\n",
      "37            38      Unknown       100             21\n",
      "71            72      Unknown       100             21\n",
      "109          110      Unknown       100             21\n",
      "296          297      Unknown       100             21\n",
      "416          417      Unknown       100             21\n",
      "436          437      Unknown       100             21\n",
      "439          440      Unknown       100             21\n",
      "471          472      Unknown       100             21\n",
      "490          491      Unknown       100             21\n",
      "555          556      Unknown       100             21\n",
      "561          562      Unknown       100             21\n",
      "613          614      Unknown       100             21\n",
      "623          624      Unknown       100             21\n",
      "689          690      Unknown       100             21\n",
      "767          768      Unknown       100             21\n",
      "803          804      Unknown       100             21\n",
      "890          891      Unknown       100             21\n",
      "990          991      Unknown       100             21\n",
      "1018        1019      Unknown       100             21\n",
      "1054        1055      Unknown       100             21\n",
      "1217        1218      Unknown       100             21\n",
      "1282        1283      Unknown       100             21\n",
      "1301        1302      Unknown       100             21\n",
      "1386        1387      Unknown       100             21\n",
      "1547        1548      Unknown       100             21\n",
      "1561        1562      Unknown       100             21\n",
      "1714        1715      Unknown       100             21\n",
      "1717        1718      Unknown       100             21\n",
      "1741        1742      Unknown       100             21\n",
      "1797        1798      Unknown       100             21\n",
      "1858        1859      Unknown       100             21\n",
      "1960        1961      Unknown       100             21\n",
      "2031        2032      Unknown       100             21\n",
      "2081        2082      Unknown       100             21\n",
      "2133        2134      Unknown       100             21\n",
      "2161        2162      Unknown       100             21\n",
      "2197        2198      Unknown       100             21\n",
      "2264        2265      Unknown       100             21\n",
      "2334        2335      Unknown       100             21\n",
      "2370        2371      Unknown       100             21\n",
      "2374        2375      Unknown       100             21\n",
      "2383        2384      Unknown       100             21\n",
      "2506        2507      Unknown       100             21\n",
      "2553        2554      Unknown       100             21\n",
      "2556        2557      Unknown       100             21\n",
      "2576        2577      Unknown       100             21\n",
      "2591        2592      Unknown       100             21\n",
      "2607        2608      Unknown       100             21\n",
      "2672        2673      Unknown       100             21\n",
      "2686        2687      Unknown       100             21\n"
     ]
    }
   ],
   "source": [
    "df_prod['product_name'].fillna('Unknown', inplace=True)\n",
    "print(df_prod[df_prod['aisle_id'] == 100].head(50))# Preencha nomes de produtos ausentes com 'Unknown'"
   ]
  },
  {
   "cell_type": "markdown",
   "id": "fc70e5ad",
   "metadata": {
    "id": "fc70e5ad"
   },
   "source": [
    "Descreva brevemente suas conclusões e o que você fez com elas.\n",
    "\n",
    "Utilizando o método Fillna, substituímos os valores ausentes pela string 'Unknown'."
   ]
  },
  {
   "cell_type": "markdown",
   "id": "64570b9b",
   "metadata": {},
   "source": [
    "<div class=\"alert alert-block alert-success\">\n",
    "<b> Comentário do revisor: </b> <a class=\"tocSkip\"></a>\n",
    "\n",
    "- Os produtos com nomes ausentes foram preenchidos com `Unknown`.\n",
    "</div>\n"
   ]
  },
  {
   "cell_type": "markdown",
   "id": "7eb45c86",
   "metadata": {
    "id": "7eb45c86"
   },
   "source": [
    "### DataFrame `orders`"
   ]
  },
  {
   "cell_type": "code",
   "execution_count": 28,
   "id": "93e41d96",
   "metadata": {
    "id": "93e41d96"
   },
   "outputs": [
    {
     "name": "stdout",
     "output_type": "stream",
     "text": [
      "order_id                      0\n",
      "user_id                       0\n",
      "order_number                  0\n",
      "order_dow                     0\n",
      "order_hour_of_day             0\n",
      "days_since_prior_order    28817\n",
      "dtype: int64\n"
     ]
    }
   ],
   "source": [
    "print(df_insta.isna().sum())# Encontre os valores ausentes"
   ]
  },
  {
   "cell_type": "code",
   "execution_count": 29,
   "id": "166e5a86",
   "metadata": {
    "id": "166e5a86"
   },
   "outputs": [
    {
     "name": "stdout",
     "output_type": "stream",
     "text": [
      "order_id                  0\n",
      "user_id                   0\n",
      "order_number              0\n",
      "order_dow                 0\n",
      "order_hour_of_day         0\n",
      "days_since_prior_order    0\n",
      "dtype: int64\n"
     ]
    }
   ],
   "source": [
    "loyal_cli = df_insta[df_insta['days_since_prior_order'] > 0]\n",
    "print(loyal_cli.isna().sum())# Há valores ausentes para os clientes que não estão fazendo o primeiro pedido?"
   ]
  },
  {
   "cell_type": "markdown",
   "id": "4e23d089",
   "metadata": {
    "id": "4e23d089"
   },
   "source": [
    "Descreva brevemente suas conclusões e o que você fez com elas.\n",
    "\n",
    "Notou-se que há 28817 valores ausentes na coluna 'days_since_prior_order', ou seja, pessoas provavelmente colocaram o pedido no carrinho e não finalizaram a compra. Notamos também que não há valores ausentes para clientes que já fizeram seu primeiro pedido pela plataforma."
   ]
  },
  {
   "cell_type": "markdown",
   "id": "2e5fa187",
   "metadata": {},
   "source": [
    "<div class=\"alert alert-block alert-success\">\n",
    "<b> Comentário do revisor: </b> <a class=\"tocSkip\"></a>\n",
    "\n",
    "- O estudante apresentou as observações sobre o atributo `days_since_prior_order`.\n",
    "</div>\n"
   ]
  },
  {
   "cell_type": "markdown",
   "id": "69dc9ca4",
   "metadata": {
    "id": "69dc9ca4"
   },
   "source": [
    "### DataFrame `order_products`"
   ]
  },
  {
   "cell_type": "code",
   "execution_count": 30,
   "id": "b8240253",
   "metadata": {
    "id": "b8240253"
   },
   "outputs": [
    {
     "name": "stdout",
     "output_type": "stream",
     "text": [
      "order_id               0\n",
      "product_id             0\n",
      "add_to_cart_order    836\n",
      "reordered              0\n",
      "dtype: int64\n"
     ]
    }
   ],
   "source": [
    "print(df_ord.isna().sum())# Encontre os valores ausentes"
   ]
  },
  {
   "cell_type": "code",
   "execution_count": 31,
   "id": "9a78e5ee",
   "metadata": {
    "id": "9a78e5ee"
   },
   "outputs": [
    {
     "name": "stdout",
     "output_type": "stream",
     "text": [
      "Os valores mínimo e máximo da coluna add_to_cart_order são respectivamente: 1.0 64.0\n"
     ]
    }
   ],
   "source": [
    "print(\"Os valores mínimo e máximo da coluna add_to_cart_order são respectivamente:\", \n",
    "      df_ord['add_to_cart_order'].min(), \n",
    "      df_ord['add_to_cart_order'].max())"
   ]
  },
  {
   "cell_type": "markdown",
   "id": "-Z2Ja215jW78",
   "metadata": {
    "id": "-Z2Ja215jW78"
   },
   "source": [
    "Descreva brevemente suas conclusões.\n",
    "\n",
    "Notou-se que há 836 valores ausentes na coluna 'add_to_cart_order' e que os valores máximos e míninos desta mesma coluna são respectivamente: 1 e 64."
   ]
  },
  {
   "cell_type": "code",
   "execution_count": 32,
   "id": "ab9d0c2b",
   "metadata": {
    "id": "ab9d0c2b"
   },
   "outputs": [
    {
     "name": "stdout",
     "output_type": "stream",
     "text": [
      "[2449164 1968313 2926893 1717990 1959075  844733   61355  936852  264710\n",
      " 1564093  129627  293169 2849370 1386261 3308010  903110 2136777 3347453\n",
      " 1888628  165801 2094761 1038146 2997021  813364 2256933  171934 2409109\n",
      " 1730767 1169835  733526  404157 3125735  747668 1800005 1961723  871281\n",
      "  388234 1648217 1477139  102236 1021563 1832957 2721963  678116 1220886\n",
      " 1673227 2999801 1633337 2470674 2625444 1677118 2479011 3383594 1183255\n",
      " 1713430 2652650 1598369 1916118  854647 1302315  888470  180546 2621907\n",
      " 1308785 2729254    9310 2170451 2979697 1625713 1529171]\n"
     ]
    }
   ],
   "source": [
    "mis_value = df_ord['add_to_cart_order'].isna()\n",
    "id_mis = df_ord['order_id'][mis_value].unique()\n",
    "print(id_mis)\n",
    "# Salve todos os IDs dos pedidos com pelo menos um valor ausente em 'add_to_cart_order'"
   ]
  },
  {
   "cell_type": "code",
   "execution_count": 33,
   "id": "54c31695",
   "metadata": {
    "id": "54c31695"
   },
   "outputs": [
    {
     "name": "stdout",
     "output_type": "stream",
     "text": [
      "O valor mínino de produtos em um pedido com valores ausentes é:  10\n",
      "\n",
      "order_id\n",
      "9310        1\n",
      "61355      63\n",
      "102236     31\n",
      "129627      5\n",
      "165801      6\n",
      "           ..\n",
      "2999801     6\n",
      "3125735    22\n",
      "3308010    51\n",
      "3347453     7\n",
      "3383594     5\n",
      "Name: product_id, Length: 70, dtype: int64\n",
      "\n",
      "O valor mínino da contagem é:  1\n"
     ]
    }
   ],
   "source": [
    "df_nan = df_ord[mis_value].copy()\n",
    "print(\"O valor mínino de produtos em um pedido com valores ausentes é: \", df_nan['product_id'].min())# Todos os pedidos com valores ausentes contêm mais de 64 produtos?\n",
    "print()\n",
    "group_nan = df_nan.groupby('product_id')# Agrupe os pedidos com dados ausentes por ID de pedido\n",
    "group_prod = df_nan.groupby('order_id')['product_id'].count()# Conte o número de 'product_id' em cada pedido e verifique o valor mínimo da contagem\n",
    "print(group_prod)\n",
    "print()\n",
    "print(\"O valor mínino da contagem é: \", group_prod.min())\n",
    "\n",
    "\n",
    "\n"
   ]
  },
  {
   "cell_type": "markdown",
   "id": "p9V6pddtjglj",
   "metadata": {
    "id": "p9V6pddtjglj"
   },
   "source": [
    "Descreva brevemente suas conclusões.\n",
    "\n",
    "Conseguimos agora ver todos os ID dos pedidos com pelo menos um valor ausente de acordo com a coluna 'add_to_cart_order' e o valor mínino de produtos em um pedido com valores ausentes é 10."
   ]
  },
  {
   "cell_type": "code",
   "execution_count": 34,
   "id": "7a987d08",
   "metadata": {
    "id": "7a987d08"
   },
   "outputs": [
    {
     "name": "stdout",
     "output_type": "stream",
     "text": [
      "         order_id  product_id add_to_cart_order  reordered\n",
      "737       2449164        5068               999          0\n",
      "9926      1968313       43867               999          0\n",
      "14394     2926893       11688               999          0\n",
      "16418     1717990        4142               999          0\n",
      "30114     1959075       42828               999          1\n",
      "...           ...         ...               ...        ...\n",
      "4505662   1800005        7411               999          0\n",
      "4511400   1633337         260               999          0\n",
      "4517562    404157        9517               999          0\n",
      "4534112   1673227       17835               999          0\n",
      "4535739   1832957       17949               999          1\n",
      "\n",
      "[836 rows x 4 columns]\n",
      "\n",
      "0          17\n",
      "1           1\n",
      "2           1\n",
      "3          35\n",
      "4           5\n",
      "           ..\n",
      "4545002    12\n",
      "4545003     9\n",
      "4545004     4\n",
      "4545005     8\n",
      "4545006     9\n",
      "Name: add_to_cart_order, Length: 4545007, dtype: int64\n"
     ]
    }
   ],
   "source": [
    "df_ord['add_to_cart_order'] = df_ord['add_to_cart_order'].fillna(\"999\")\n",
    "print(df_ord[df_ord['add_to_cart_order'] == \"999\"])\n",
    "print()\n",
    "print(df_ord['add_to_cart_order'].astype('int'))\n",
    "# Substitua valores ausentes na coluna 'add_to_cart_order' por 999 e converta a coluna para o tipo integer"
   ]
  },
  {
   "cell_type": "markdown",
   "id": "fea4bcc7",
   "metadata": {
    "id": "fea4bcc7"
   },
   "source": [
    "Descreva brevemente suas conclusões e o que você fez com elas.\n",
    "\n",
    "Preenchemos os valores ausentes com o valor \"999\" usando o método fillna e trocamos o tipo de dados para inteiro."
   ]
  },
  {
   "cell_type": "markdown",
   "id": "b8a5d645",
   "metadata": {},
   "source": [
    "<div class=\"alert alert-block alert-success\">\n",
    "<b> Comentário do revisor: </b> <a class=\"tocSkip\"></a>\n",
    "\n",
    "- Os métodos `min()` e `max()` foram utilizados para contar a quantidade mínima e máxima de produtos adicionados ao carrinho\n",
    "- Os valores ausentes do atributo `add_to_cart_order` foram preenchidos. Dica: preencha os valores diretamente como `int`\n",
    "- As conclusões intermediárias foram apresentadas\n",
    "</div>\n"
   ]
  },
  {
   "cell_type": "markdown",
   "id": "RnplPFY1gSrb",
   "metadata": {
    "id": "RnplPFY1gSrb"
   },
   "source": [
    "## Conclusões\n",
    "\n",
    "Escreva aqui suas conclusões intermediárias da Etapa 2. Preparação de dados"
   ]
  },
  {
   "cell_type": "markdown",
   "id": "UjrOIwTcz3ri",
   "metadata": {
    "id": "UjrOIwTcz3ri"
   },
   "source": [
    "# Etapa 3. Análise de dados\n",
    "\n",
    "Quando os dados estiverem processados ​​e prontos, execute a seguinte análise:"
   ]
  },
  {
   "cell_type": "markdown",
   "id": "turkish-kidney",
   "metadata": {
    "id": "turkish-kidney"
   },
   "source": [
    "# [A] Fácil (é necessário concluir tudo para passar)\n",
    "\n",
    "1.\tVerifique se os valores nas colunas `'order_hour_of_day'` e `'order_dow'` na tabela `orders` fazem sentido (ou seja, os valores da coluna  `'order_hour_of_day'` variam de 0 a 23 e os da `'order_dow'` variam de 0 a 6).\n",
    "2.\tCrie um gráfico que mostre quantas pessoas fazem pedidos por cada hora do dia.\n",
    "3.\tCrie um gráfico que mostre em que dia da semana as pessoas fazem compras.\n",
    "4.\tCrie um gráfico que mostre quanto tempo as pessoas esperam até fazer seu próximo pedido e comente sobre os valores mínimo e máximo.\n"
   ]
  },
  {
   "cell_type": "raw",
   "id": "66bdea02",
   "metadata": {
    "id": "short-capability"
   },
   "source": [
    "# [A1] Verifique se os valores fazem sentido"
   ]
  },
  {
   "cell_type": "code",
   "execution_count": 35,
   "id": "d90c6d35",
   "metadata": {
    "id": "growing-fruit"
   },
   "outputs": [
    {
     "name": "stdout",
     "output_type": "stream",
     "text": [
      "[ 0  1  2  3  4  5  6  7  8  9 10 11 12 13 14 15 16 17 18 19 20 21 22 23]\n"
     ]
    }
   ],
   "source": [
    "print(df_insta['order_hour_of_day'].sort_values().unique())"
   ]
  },
  {
   "cell_type": "code",
   "execution_count": 36,
   "id": "ba314689",
   "metadata": {
    "id": "accessory-malaysia"
   },
   "outputs": [
    {
     "name": "stdout",
     "output_type": "stream",
     "text": [
      "[0 1 2 3 4 5 6]\n"
     ]
    }
   ],
   "source": [
    "print(df_insta['order_dow'].sort_values().unique())"
   ]
  },
  {
   "cell_type": "markdown",
   "id": "34093188",
   "metadata": {
    "id": "hmR2GNQ6lCsX"
   },
   "source": [
    "Escreva suas conclusões aqui\n",
    "\n",
    "Verificamos que os valores das colunas 'order_hour_of_day' e 'order_dow' fazem sentindo usando unique."
   ]
  },
  {
   "cell_type": "markdown",
   "id": "15d1d727",
   "metadata": {},
   "source": [
    "<div class=\"alert alert-block alert-success\">\n",
    "<b> Comentário do revisor: </b> <a class=\"tocSkip\"></a>\n",
    "\n",
    "Correto. Outras sugestões: \n",
    "- verificar o intervalo das horas do dia\n",
    "- usar o método `.value_counts()`\n",
    "- plotar a distribuição dessa variável\n",
    "</div>\n"
   ]
  },
  {
   "cell_type": "markdown",
   "id": "a6743a70",
   "metadata": {
    "id": "a6743a70"
   },
   "source": [
    "### [A2] Quantas pessoas fazem pedidos a cada hora do dia?"
   ]
  },
  {
   "cell_type": "code",
   "execution_count": 37,
   "id": "e79f01d5",
   "metadata": {},
   "outputs": [
    {
     "data": {
      "text/plain": [
       "<AxesSubplot:title={'center':'Clientes x Horário do dia'}, xlabel='Horário do dia', ylabel='Número de clientes'>"
      ]
     },
     "execution_count": 37,
     "metadata": {},
     "output_type": "execute_result"
    },
    {
     "data": {
      "image/png": "[encoded data removed]",
      "text/plain": [
       "<Figure size 432x288 with 1 Axes>"
      ]
     },
     "metadata": {
      "needs_background": "light"
     },
     "output_type": "display_data"
    }
   ],
   "source": [
    "group_ph = df_insta.groupby('order_hour_of_day')['user_id'].count()\n",
    "group_ph.plot(x='order_hour_of_day', y=group_ph, kind='bar', xlabel='Horário do dia', ylabel='Número de clientes', title='Clientes x Horário do dia')"
   ]
  },
  {
   "cell_type": "markdown",
   "id": "11270eed",
   "metadata": {
    "id": "11270eed"
   },
   "source": [
    "Escreva suas conclusões aqui\n",
    "\n",
    "Olhando o Gráfico, podemos notar que a maioria dos clientes fazem pedidos entre 7h da manhã até 20h da noite, que é o período onde a maioria dos pedidos estão concentrados. Notamos um pico entre 9h e 17h que é o horário comercial."
   ]
  },
  {
   "cell_type": "markdown",
   "id": "1c8afe30",
   "metadata": {},
   "source": [
    "<div class=\"alert alert-block alert-success\">\n",
    "<b> Comentário do revisor: </b> <a class=\"tocSkip\"></a>\n",
    "\n",
    "- O estudante analisou a distribuição de compras por hora do dia\n",
    "- As conclusões foram apresentadas\n",
    "</div>\n"
   ]
  },
  {
   "cell_type": "markdown",
   "id": "documented-command",
   "metadata": {
    "id": "documented-command"
   },
   "source": [
    "### [A3] Em que dia da semana as pessoas fazem compras?"
   ]
  },
  {
   "cell_type": "code",
   "execution_count": 38,
   "id": "chief-digit",
   "metadata": {
    "id": "chief-digit"
   },
   "outputs": [
    {
     "data": {
      "text/plain": [
       "<AxesSubplot:title={'center':'Clientes x Dia da semana'}, xlabel='Dia da semana', ylabel='Contagem de Pedidos'>"
      ]
     },
     "execution_count": 38,
     "metadata": {},
     "output_type": "execute_result"
    },
    {
     "data": {
      "image/png": "[encoded data removed]",
      "text/plain": [
       "<Figure size 432x288 with 1 Axes>"
      ]
     },
     "metadata": {
      "needs_background": "light"
     },
     "output_type": "display_data"
    }
   ],
   "source": [
    "group_pc = df_insta.groupby('order_dow')['order_id'].count()\n",
    "group_pc.plot(x='order_dow', y=group_pc, kind='bar', xlabel='Dia da semana', ylabel='Contagem de Pedidos', title='Clientes x Dia da semana')"
   ]
  },
  {
   "cell_type": "markdown",
   "id": "dominant-lightning",
   "metadata": {
    "id": "dominant-lightning"
   },
   "source": [
    "Escreva suas conclusões aqui\n",
    "\n",
    "Os pedidos estão bem distribuidos durante a semana, porém com destaque maior para Sábado e Domingo, que é onde provavelmente as pessoas possui mais tempo para usar a plataforma."
   ]
  },
  {
   "cell_type": "markdown",
   "id": "eb514291",
   "metadata": {},
   "source": [
    "<div class=\"alert alert-block alert-success\">\n",
    "<b> Comentário do revisor: </b> <a class=\"tocSkip\"></a>\n",
    "\n",
    "- O estudante analisou a distribuição de compras por dia da semana\n",
    "- As conclusões foram apresentadas\n",
    "</div>\n"
   ]
  },
  {
   "cell_type": "markdown",
   "id": "cutting-concert",
   "metadata": {
    "id": "cutting-concert"
   },
   "source": [
    "### [A4] Quanto tempo as pessoas esperam até fazer outro pedido?"
   ]
  },
  {
   "cell_type": "markdown",
   "id": "discrete-vertex",
   "metadata": {
    "id": "discrete-vertex"
   },
   "source": [
    "Escreva suas conclusões aqui\n",
    "\n",
    "Olhando para o gráfico, notou-se que muitos clientes esperam entre 1 e 9 dias, porém podemos notar também que ouve um pico em um período de 30 dias, onde cerca de 50000 clientes esperam para voltar a fazer um novo pedido."
   ]
  },
  {
   "cell_type": "code",
   "execution_count": 39,
   "id": "gMOIimGd5VNb",
   "metadata": {
    "id": "gMOIimGd5VNb"
   },
   "outputs": [
    {
     "data": {
      "text/plain": [
       "<AxesSubplot:title={'center':'Clientes x Tempo entre pedidos'}, xlabel='Número de dias entre pedidos', ylabel='Número de clientes'>"
      ]
     },
     "execution_count": 39,
     "metadata": {},
     "output_type": "execute_result"
    },
    {
     "data": {
      "image/png": "[encoded data removed]",
      "text/plain": [
       "<Figure size 432x288 with 1 Axes>"
      ]
     },
     "metadata": {
      "needs_background": "light"
     },
     "output_type": "display_data"
    }
   ],
   "source": [
    "group_pop = df_insta.groupby('days_since_prior_order')['user_id'].count()\n",
    "group_pop.plot(x='days_since_prior_order', y=group_pop, kind='bar', xlabel='Número de dias entre pedidos', ylabel='Número de clientes', title='Clientes x Tempo entre pedidos')"
   ]
  },
  {
   "cell_type": "markdown",
   "id": "2eb865b1",
   "metadata": {},
   "source": [
    "<div class=\"alert alert-block alert-success\">\n",
    "<b> Comentário do revisor: </b> <a class=\"tocSkip\"></a>\n",
    "\n",
    "- O estudante analisou a distribuição do intervalo entre compras dos clientes\n",
    "- As conclusões foram apresentadas\n",
    "</div>\n"
   ]
  },
  {
   "cell_type": "markdown",
   "id": "tight-staff",
   "metadata": {
    "id": "tight-staff"
   },
   "source": [
    "# [B] Médio (é necessário concluir tudo para passar)\n",
    "\n",
    "1.\tHá alguma diferença nas distribuições de `'order_hour_of_day'` nas quartas e sábados? Construa gráficos de barras para ambos os dias no mesmo gráfico e descreva as diferenças que você notou.\n",
    "2.\tConstrua um gráfico de distribuição para o número de pedidos que os clientes fazem (ou seja, quantos clientes fizeram apenas 1 pedido, quantos fizeram apenas 2, quantos apenas 3, etc.)\n",
    "3.\tQuais são os 20 produtos comprados com mais frequência? Exiba os IDs e nomes.\n"
   ]
  },
  {
   "cell_type": "markdown",
   "id": "packed-classic",
   "metadata": {
    "id": "packed-classic"
   },
   "source": [
    "### [B1] Diferenças nas quartas e sábados em `'order_hour_of_day'`. Crie gráficos de barras para ambos os dias e descreva as diferenças."
   ]
  },
  {
   "cell_type": "code",
   "execution_count": 40,
   "id": "dbf8f42b",
   "metadata": {},
   "outputs": [
    {
     "name": "stdout",
     "output_type": "stream",
     "text": [
      "   order_dow  order_hour_of_day  contagem\n",
      "0          3                  0       373\n",
      "1          3                  1       215\n",
      "2          3                  2       106\n",
      "3          3                  3       101\n",
      "4          3                  4       108\n"
     ]
    }
   ],
   "source": [
    "df_filtered_wedsat = df_insta[(df_insta['order_dow'] == 3) | (df_insta['order_dow'] == 6)]\n",
    "group_df = df_filtered_wedsat.groupby(['order_dow', 'order_hour_of_day']).agg(contagem=('order_id', 'nunique')).reset_index()\n",
    "print(group_df.head())\n",
    "\n",
    "\n"
   ]
  },
  {
   "cell_type": "code",
   "execution_count": 41,
   "id": "d89b8403",
   "metadata": {
    "id": "d89b8403"
   },
   "outputs": [
    {
     "data": {
      "image/png": "[encoded data removed]",
      "text/plain": [
       "<Figure size 792x504 with 1 Axes>"
      ]
     },
     "metadata": {
      "needs_background": "light"
     },
     "output_type": "display_data"
    }
   ],
   "source": [
    "wednesday = group_df[group_df['order_dow'] == 3]\n",
    "saturday = group_df[group_df['order_dow'] == 6]\n",
    "\n",
    "plt.figure(figsize=(11, 7)) \n",
    "plt.bar(wednesday.order_hour_of_day - 0.2, wednesday.contagem, width=0.4, label='Quarta-feira') \n",
    "plt.bar(saturday.order_hour_of_day + 0.2, saturday.contagem, width=0.4, label='Sábado') \n",
    "plt.xlabel('Hora do Dia') \n",
    "plt.ylabel('Número de Pedidos') \n",
    "plt.title('Distribuição de ') \n",
    "plt.xticks(range(24)) \n",
    "plt.legend() \n",
    "plt.show()"
   ]
  },
  {
   "cell_type": "markdown",
   "id": "charitable-congo",
   "metadata": {
    "id": "charitable-congo"
   },
   "source": [
    "Escreva suas conclusões aqui\n",
    "\n",
    "Olhando para o gráfico, conseguimos notar que não há uma diferença significativa entre Quarta-feira e Sábado para os clientes fazerem os pedidos. "
   ]
  },
  {
   "cell_type": "markdown",
   "id": "ad7d4f98",
   "metadata": {},
   "source": [
    "<div class=\"alert alert-block alert-success\">\n",
    "<b> Comentário do revisor: </b> <a class=\"tocSkip\"></a>\n",
    "\n",
    "- O estudante analisou a distribuição de pedidos na Quarta-feira e aos Sábados\n",
    "- As conclusões foram apresentadas\n",
    "</div>\n"
   ]
  },
  {
   "cell_type": "markdown",
   "id": "e3891143",
   "metadata": {
    "id": "e3891143"
   },
   "source": [
    "### [B2] Qual é a distribuição do número de pedidos por cliente?"
   ]
  },
  {
   "cell_type": "code",
   "execution_count": 42,
   "id": "d8c26c23",
   "metadata": {
    "id": "d8c26c23"
   },
   "outputs": [
    {
     "name": "stdout",
     "output_type": "stream",
     "text": [
      "user_id\n",
      "2      2\n",
      "4      2\n",
      "5      1\n",
      "6      2\n",
      "7      2\n",
      "10     1\n",
      "11     2\n",
      "12     1\n",
      "13     3\n",
      "14     4\n",
      "15     5\n",
      "16     3\n",
      "17     7\n",
      "19     2\n",
      "20     1\n",
      "21     3\n",
      "22     2\n",
      "23     1\n",
      "24     1\n",
      "25     1\n",
      "26     2\n",
      "27    10\n",
      "28     5\n",
      "29     1\n",
      "30     2\n",
      "31     3\n",
      "32     1\n",
      "33     1\n",
      "34     1\n",
      "35     2\n",
      "36     7\n",
      "37     2\n",
      "38     1\n",
      "40     3\n",
      "42     1\n",
      "43     2\n",
      "46     1\n",
      "47     1\n",
      "50    10\n",
      "51     1\n",
      "52     2\n",
      "54    11\n",
      "55     1\n",
      "56     2\n",
      "57     1\n",
      "58     2\n",
      "59     3\n",
      "60     2\n",
      "61     1\n",
      "62     1\n",
      "Name: order_id, dtype: int64\n"
     ]
    }
   ],
   "source": [
    "group_distribution = df_insta.groupby('user_id')['order_id'].count()\n",
    "print(group_distribution.head(50))"
   ]
  },
  {
   "cell_type": "code",
   "execution_count": 43,
   "id": "00e69a66",
   "metadata": {
    "id": "00e69a66"
   },
   "outputs": [
    {
     "data": {
      "text/plain": [
       "Text(0, 0.5, 'Número de Pedidos')"
      ]
     },
     "execution_count": 43,
     "metadata": {},
     "output_type": "execute_result"
    },
    {
     "data": {
      "image/png": "[encoded data removed]",
      "text/plain": [
       "<Figure size 432x288 with 1 Axes>"
      ]
     },
     "metadata": {
      "needs_background": "light"
     },
     "output_type": "display_data"
    }
   ],
   "source": [
    "group_distribution.plot(x='user_id', y=group_distribution, kind='hist', title='Número de Clientes x Número de Pedidos', bins=25)\n",
    "plt.xlabel('Número de Clientes')\n",
    "plt.ylabel('Número de Pedidos')"
   ]
  },
  {
   "cell_type": "markdown",
   "id": "d2eff7d5",
   "metadata": {
    "id": "d2eff7d5"
   },
   "source": [
    "Escreva suas conclusões aqui\n",
    "\n",
    "Nota-se que a distribuição dos pedidos está mais concentrada em clientes que fazem os pedidos entre 0 e 5 produtos.\n"
   ]
  },
  {
   "cell_type": "markdown",
   "id": "edc7cb5f",
   "metadata": {},
   "source": [
    "<div class=\"alert alert-block alert-success\">\n",
    "<b> Comentário do revisor: </b> <a class=\"tocSkip\"></a>\n",
    "\n",
    "- O estudante analisou a distribuição de pedidos por cliente\n",
    "- As conclusões foram apresentadas\n",
    "</div>\n"
   ]
  },
  {
   "cell_type": "markdown",
   "id": "54a0319c",
   "metadata": {
    "id": "54a0319c"
   },
   "source": [
    "### [B3] Quais são os 20 produtos mais populares? Exiba os IDs e nomes."
   ]
  },
  {
   "cell_type": "code",
   "execution_count": 44,
   "id": "ccfd5783",
   "metadata": {},
   "outputs": [
    {
     "name": "stdout",
     "output_type": "stream",
     "text": [
      "   order_id  product_id add_to_cart_order  reordered  \\\n",
      "0   2141543       11440              17.0          0   \n",
      "1    147172       11440               7.0          1   \n",
      "2   3341719       11440               4.0          1   \n",
      "3   1938779       11440               8.0          1   \n",
      "4   1728338       11440              23.0          0   \n",
      "\n",
      "                     product_name  aisle_id  department_id  \n",
      "0  Chicken Breast Tenders Breaded       129              1  \n",
      "1  Chicken Breast Tenders Breaded       129              1  \n",
      "2  Chicken Breast Tenders Breaded       129              1  \n",
      "3  Chicken Breast Tenders Breaded       129              1  \n",
      "4  Chicken Breast Tenders Breaded       129              1  \n"
     ]
    }
   ],
   "source": [
    "merge_ord_prod = df_ord.merge(df_prod, on='product_id')\n",
    "print(merge_ord_prod.head())"
   ]
  },
  {
   "cell_type": "code",
   "execution_count": 45,
   "id": "b77718de",
   "metadata": {},
   "outputs": [
    {
     "name": "stdout",
     "output_type": "stream",
     "text": [
      "                                     order_id  add_to_cart_order  reordered  \\\n",
      "product_id product_name                                                       \n",
      "24852      Banana                       66050              66050      66050   \n",
      "13176      Bag of Organic Bananas       53297              53297      53297   \n",
      "21137      Organic Strawberries         37039              37039      37039   \n",
      "21903      Organic Baby Spinach         33971              33971      33971   \n",
      "47209      Organic Hass Avocado         29773              29773      29773   \n",
      "47766      Organic Avocado              24689              24689      24689   \n",
      "47626      Large Lemon                  21495              21495      21495   \n",
      "16797      Strawberries                 20018              20018      20018   \n",
      "26209      Limes                        19690              19690      19690   \n",
      "27845      Organic Whole Milk           19600              19600      19600   \n",
      "27966      Organic Raspberries          19197              19197      19197   \n",
      "22935      Organic Yellow Onion         15898              15898      15898   \n",
      "24964      Organic Garlic               15292              15292      15292   \n",
      "45007      Organic Zucchini             14584              14584      14584   \n",
      "39275      Organic Blueberries          13879              13879      13879   \n",
      "49683      Cucumber Kirby               13675              13675      13675   \n",
      "28204      Organic Fuji Apple           12544              12544      12544   \n",
      "5876       Organic Lemon                12232              12232      12232   \n",
      "8277       Apple Honeycrisp Organic     11993              11993      11993   \n",
      "40706      Organic Grape Tomatoes       11781              11781      11781   \n",
      "\n",
      "                                     aisle_id  department_id  \n",
      "product_id product_name                                       \n",
      "24852      Banana                       66050          66050  \n",
      "13176      Bag of Organic Bananas       53297          53297  \n",
      "21137      Organic Strawberries         37039          37039  \n",
      "21903      Organic Baby Spinach         33971          33971  \n",
      "47209      Organic Hass Avocado         29773          29773  \n",
      "47766      Organic Avocado              24689          24689  \n",
      "47626      Large Lemon                  21495          21495  \n",
      "16797      Strawberries                 20018          20018  \n",
      "26209      Limes                        19690          19690  \n",
      "27845      Organic Whole Milk           19600          19600  \n",
      "27966      Organic Raspberries          19197          19197  \n",
      "22935      Organic Yellow Onion         15898          15898  \n",
      "24964      Organic Garlic               15292          15292  \n",
      "45007      Organic Zucchini             14584          14584  \n",
      "39275      Organic Blueberries          13879          13879  \n",
      "49683      Cucumber Kirby               13675          13675  \n",
      "28204      Organic Fuji Apple           12544          12544  \n",
      "5876       Organic Lemon                12232          12232  \n",
      "8277       Apple Honeycrisp Organic     11993          11993  \n",
      "40706      Organic Grape Tomatoes       11781          11781  \n"
     ]
    }
   ],
   "source": [
    "df_prod_top_20 = merge_ord_prod.groupby(['product_id', 'product_name']).count().sort_values(['order_id'], ascending=False)\n",
    "print(df_prod_top_20.head(20))"
   ]
  },
  {
   "cell_type": "code",
   "execution_count": 46,
   "id": "14667bd8",
   "metadata": {},
   "outputs": [
    {
     "data": {
      "text/html": [
       "<div>\n",
       "<style scoped>\n",
       "    .dataframe tbody tr th:only-of-type {\n",
       "        vertical-align: middle;\n",
       "    }\n",
       "\n",
       "    .dataframe tbody tr th {\n",
       "        vertical-align: top;\n",
       "    }\n",
       "\n",
       "    .dataframe thead th {\n",
       "        text-align: right;\n",
       "    }\n",
       "</style>\n",
       "<table border=\"1\" class=\"dataframe\">\n",
       "  <thead>\n",
       "    <tr style=\"text-align: right;\">\n",
       "      <th></th>\n",
       "      <th>product_id</th>\n",
       "      <th>n_order</th>\n",
       "    </tr>\n",
       "  </thead>\n",
       "  <tbody>\n",
       "    <tr>\n",
       "      <th>0</th>\n",
       "      <td>24852</td>\n",
       "      <td>66050</td>\n",
       "    </tr>\n",
       "    <tr>\n",
       "      <th>1</th>\n",
       "      <td>13176</td>\n",
       "      <td>53297</td>\n",
       "    </tr>\n",
       "    <tr>\n",
       "      <th>2</th>\n",
       "      <td>21137</td>\n",
       "      <td>37039</td>\n",
       "    </tr>\n",
       "    <tr>\n",
       "      <th>3</th>\n",
       "      <td>21903</td>\n",
       "      <td>33971</td>\n",
       "    </tr>\n",
       "    <tr>\n",
       "      <th>4</th>\n",
       "      <td>47209</td>\n",
       "      <td>29773</td>\n",
       "    </tr>\n",
       "    <tr>\n",
       "      <th>5</th>\n",
       "      <td>47766</td>\n",
       "      <td>24689</td>\n",
       "    </tr>\n",
       "    <tr>\n",
       "      <th>6</th>\n",
       "      <td>47626</td>\n",
       "      <td>21495</td>\n",
       "    </tr>\n",
       "    <tr>\n",
       "      <th>7</th>\n",
       "      <td>16797</td>\n",
       "      <td>20018</td>\n",
       "    </tr>\n",
       "    <tr>\n",
       "      <th>8</th>\n",
       "      <td>26209</td>\n",
       "      <td>19690</td>\n",
       "    </tr>\n",
       "    <tr>\n",
       "      <th>9</th>\n",
       "      <td>27845</td>\n",
       "      <td>19600</td>\n",
       "    </tr>\n",
       "    <tr>\n",
       "      <th>10</th>\n",
       "      <td>27966</td>\n",
       "      <td>19197</td>\n",
       "    </tr>\n",
       "    <tr>\n",
       "      <th>11</th>\n",
       "      <td>22935</td>\n",
       "      <td>15898</td>\n",
       "    </tr>\n",
       "    <tr>\n",
       "      <th>12</th>\n",
       "      <td>24964</td>\n",
       "      <td>15292</td>\n",
       "    </tr>\n",
       "    <tr>\n",
       "      <th>13</th>\n",
       "      <td>45007</td>\n",
       "      <td>14584</td>\n",
       "    </tr>\n",
       "    <tr>\n",
       "      <th>14</th>\n",
       "      <td>39275</td>\n",
       "      <td>13879</td>\n",
       "    </tr>\n",
       "    <tr>\n",
       "      <th>15</th>\n",
       "      <td>49683</td>\n",
       "      <td>13675</td>\n",
       "    </tr>\n",
       "    <tr>\n",
       "      <th>16</th>\n",
       "      <td>28204</td>\n",
       "      <td>12544</td>\n",
       "    </tr>\n",
       "    <tr>\n",
       "      <th>17</th>\n",
       "      <td>5876</td>\n",
       "      <td>12232</td>\n",
       "    </tr>\n",
       "    <tr>\n",
       "      <th>18</th>\n",
       "      <td>8277</td>\n",
       "      <td>11993</td>\n",
       "    </tr>\n",
       "    <tr>\n",
       "      <th>19</th>\n",
       "      <td>40706</td>\n",
       "      <td>11781</td>\n",
       "    </tr>\n",
       "  </tbody>\n",
       "</table>\n",
       "</div>"
      ],
      "text/plain": [
       "    product_id  n_order\n",
       "0        24852    66050\n",
       "1        13176    53297\n",
       "2        21137    37039\n",
       "3        21903    33971\n",
       "4        47209    29773\n",
       "5        47766    24689\n",
       "6        47626    21495\n",
       "7        16797    20018\n",
       "8        26209    19690\n",
       "9        27845    19600\n",
       "10       27966    19197\n",
       "11       22935    15898\n",
       "12       24964    15292\n",
       "13       45007    14584\n",
       "14       39275    13879\n",
       "15       49683    13675\n",
       "16       28204    12544\n",
       "17        5876    12232\n",
       "18        8277    11993\n",
       "19       40706    11781"
      ]
     },
     "execution_count": 46,
     "metadata": {},
     "output_type": "execute_result"
    }
   ],
   "source": [
    "df_ord_by_prod = df_ord.groupby('product_id').agg(n_order=('order_id', 'nunique')).sort_values(by='n_order', ascending=False).reset_index().head(20)\n",
    "df_ord_by_prod"
   ]
  },
  {
   "cell_type": "code",
   "execution_count": 47,
   "id": "universal-facial",
   "metadata": {
    "id": "universal-facial"
   },
   "outputs": [
    {
     "data": {
      "text/html": [
       "<div>\n",
       "<style scoped>\n",
       "    .dataframe tbody tr th:only-of-type {\n",
       "        vertical-align: middle;\n",
       "    }\n",
       "\n",
       "    .dataframe tbody tr th {\n",
       "        vertical-align: top;\n",
       "    }\n",
       "\n",
       "    .dataframe thead th {\n",
       "        text-align: right;\n",
       "    }\n",
       "</style>\n",
       "<table border=\"1\" class=\"dataframe\">\n",
       "  <thead>\n",
       "    <tr style=\"text-align: right;\">\n",
       "      <th></th>\n",
       "      <th>product_id</th>\n",
       "      <th>product_name</th>\n",
       "    </tr>\n",
       "  </thead>\n",
       "  <tbody>\n",
       "    <tr>\n",
       "      <th>0</th>\n",
       "      <td>1</td>\n",
       "      <td>Chocolate Sandwich Cookies</td>\n",
       "    </tr>\n",
       "    <tr>\n",
       "      <th>1</th>\n",
       "      <td>2</td>\n",
       "      <td>All-Seasons Salt</td>\n",
       "    </tr>\n",
       "    <tr>\n",
       "      <th>2</th>\n",
       "      <td>3</td>\n",
       "      <td>Robust Golden Unsweetened Oolong Tea</td>\n",
       "    </tr>\n",
       "    <tr>\n",
       "      <th>3</th>\n",
       "      <td>4</td>\n",
       "      <td>Smart Ones Classic Favorites Mini Rigatoni Wit...</td>\n",
       "    </tr>\n",
       "    <tr>\n",
       "      <th>4</th>\n",
       "      <td>5</td>\n",
       "      <td>Green Chile Anytime Sauce</td>\n",
       "    </tr>\n",
       "    <tr>\n",
       "      <th>...</th>\n",
       "      <td>...</td>\n",
       "      <td>...</td>\n",
       "    </tr>\n",
       "    <tr>\n",
       "      <th>49689</th>\n",
       "      <td>49690</td>\n",
       "      <td>HIGH PERFORMANCE ENERGY DRINK</td>\n",
       "    </tr>\n",
       "    <tr>\n",
       "      <th>49690</th>\n",
       "      <td>49691</td>\n",
       "      <td>ORIGINAL PANCAKE &amp; WAFFLE MIX</td>\n",
       "    </tr>\n",
       "    <tr>\n",
       "      <th>49691</th>\n",
       "      <td>49692</td>\n",
       "      <td>ORGANIC INSTANT OATMEAL LIGHT MAPLE BROWN SUGAR</td>\n",
       "    </tr>\n",
       "    <tr>\n",
       "      <th>49692</th>\n",
       "      <td>49693</td>\n",
       "      <td>SPRING WATER BODY WASH</td>\n",
       "    </tr>\n",
       "    <tr>\n",
       "      <th>49693</th>\n",
       "      <td>49694</td>\n",
       "      <td>BURRITO- STEAK &amp; CHEESE</td>\n",
       "    </tr>\n",
       "  </tbody>\n",
       "</table>\n",
       "<p>49694 rows × 2 columns</p>\n",
       "</div>"
      ],
      "text/plain": [
       "       product_id                                       product_name\n",
       "0               1                         Chocolate Sandwich Cookies\n",
       "1               2                                   All-Seasons Salt\n",
       "2               3               Robust Golden Unsweetened Oolong Tea\n",
       "3               4  Smart Ones Classic Favorites Mini Rigatoni Wit...\n",
       "4               5                          Green Chile Anytime Sauce\n",
       "...           ...                                                ...\n",
       "49689       49690                      HIGH PERFORMANCE ENERGY DRINK\n",
       "49690       49691                      ORIGINAL PANCAKE & WAFFLE MIX\n",
       "49691       49692    ORGANIC INSTANT OATMEAL LIGHT MAPLE BROWN SUGAR\n",
       "49692       49693                             SPRING WATER BODY WASH\n",
       "49693       49694                            BURRITO- STEAK & CHEESE\n",
       "\n",
       "[49694 rows x 2 columns]"
      ]
     },
     "execution_count": 47,
     "metadata": {},
     "output_type": "execute_result"
    }
   ],
   "source": [
    "df_dict_prod_id_name = df_prod[['product_id', 'product_name']].copy().drop_duplicates()\n",
    "df_dict_prod_id_name"
   ]
  },
  {
   "cell_type": "code",
   "execution_count": 48,
   "id": "bbcdd20b",
   "metadata": {
    "id": "bbcdd20b"
   },
   "outputs": [
    {
     "data": {
      "text/html": [
       "<div>\n",
       "<style scoped>\n",
       "    .dataframe tbody tr th:only-of-type {\n",
       "        vertical-align: middle;\n",
       "    }\n",
       "\n",
       "    .dataframe tbody tr th {\n",
       "        vertical-align: top;\n",
       "    }\n",
       "\n",
       "    .dataframe thead th {\n",
       "        text-align: right;\n",
       "    }\n",
       "</style>\n",
       "<table border=\"1\" class=\"dataframe\">\n",
       "  <thead>\n",
       "    <tr style=\"text-align: right;\">\n",
       "      <th></th>\n",
       "      <th>product_id</th>\n",
       "      <th>product_name</th>\n",
       "      <th>n_order</th>\n",
       "    </tr>\n",
       "  </thead>\n",
       "  <tbody>\n",
       "    <tr>\n",
       "      <th>0</th>\n",
       "      <td>24852</td>\n",
       "      <td>Banana</td>\n",
       "      <td>66050</td>\n",
       "    </tr>\n",
       "    <tr>\n",
       "      <th>1</th>\n",
       "      <td>13176</td>\n",
       "      <td>Bag of Organic Bananas</td>\n",
       "      <td>53297</td>\n",
       "    </tr>\n",
       "    <tr>\n",
       "      <th>2</th>\n",
       "      <td>21137</td>\n",
       "      <td>Organic Strawberries</td>\n",
       "      <td>37039</td>\n",
       "    </tr>\n",
       "    <tr>\n",
       "      <th>3</th>\n",
       "      <td>21903</td>\n",
       "      <td>Organic Baby Spinach</td>\n",
       "      <td>33971</td>\n",
       "    </tr>\n",
       "    <tr>\n",
       "      <th>4</th>\n",
       "      <td>47209</td>\n",
       "      <td>Organic Hass Avocado</td>\n",
       "      <td>29773</td>\n",
       "    </tr>\n",
       "    <tr>\n",
       "      <th>5</th>\n",
       "      <td>47766</td>\n",
       "      <td>Organic Avocado</td>\n",
       "      <td>24689</td>\n",
       "    </tr>\n",
       "    <tr>\n",
       "      <th>6</th>\n",
       "      <td>47626</td>\n",
       "      <td>Large Lemon</td>\n",
       "      <td>21495</td>\n",
       "    </tr>\n",
       "    <tr>\n",
       "      <th>7</th>\n",
       "      <td>16797</td>\n",
       "      <td>Strawberries</td>\n",
       "      <td>20018</td>\n",
       "    </tr>\n",
       "    <tr>\n",
       "      <th>8</th>\n",
       "      <td>26209</td>\n",
       "      <td>Limes</td>\n",
       "      <td>19690</td>\n",
       "    </tr>\n",
       "    <tr>\n",
       "      <th>9</th>\n",
       "      <td>27845</td>\n",
       "      <td>Organic Whole Milk</td>\n",
       "      <td>19600</td>\n",
       "    </tr>\n",
       "    <tr>\n",
       "      <th>10</th>\n",
       "      <td>27966</td>\n",
       "      <td>Organic Raspberries</td>\n",
       "      <td>19197</td>\n",
       "    </tr>\n",
       "    <tr>\n",
       "      <th>11</th>\n",
       "      <td>22935</td>\n",
       "      <td>Organic Yellow Onion</td>\n",
       "      <td>15898</td>\n",
       "    </tr>\n",
       "    <tr>\n",
       "      <th>12</th>\n",
       "      <td>24964</td>\n",
       "      <td>Organic Garlic</td>\n",
       "      <td>15292</td>\n",
       "    </tr>\n",
       "    <tr>\n",
       "      <th>13</th>\n",
       "      <td>45007</td>\n",
       "      <td>Organic Zucchini</td>\n",
       "      <td>14584</td>\n",
       "    </tr>\n",
       "    <tr>\n",
       "      <th>14</th>\n",
       "      <td>39275</td>\n",
       "      <td>Organic Blueberries</td>\n",
       "      <td>13879</td>\n",
       "    </tr>\n",
       "    <tr>\n",
       "      <th>15</th>\n",
       "      <td>49683</td>\n",
       "      <td>Cucumber Kirby</td>\n",
       "      <td>13675</td>\n",
       "    </tr>\n",
       "    <tr>\n",
       "      <th>16</th>\n",
       "      <td>28204</td>\n",
       "      <td>Organic Fuji Apple</td>\n",
       "      <td>12544</td>\n",
       "    </tr>\n",
       "    <tr>\n",
       "      <th>17</th>\n",
       "      <td>5876</td>\n",
       "      <td>Organic Lemon</td>\n",
       "      <td>12232</td>\n",
       "    </tr>\n",
       "    <tr>\n",
       "      <th>18</th>\n",
       "      <td>8277</td>\n",
       "      <td>Apple Honeycrisp Organic</td>\n",
       "      <td>11993</td>\n",
       "    </tr>\n",
       "    <tr>\n",
       "      <th>19</th>\n",
       "      <td>40706</td>\n",
       "      <td>Organic Grape Tomatoes</td>\n",
       "      <td>11781</td>\n",
       "    </tr>\n",
       "  </tbody>\n",
       "</table>\n",
       "</div>"
      ],
      "text/plain": [
       "    product_id              product_name  n_order\n",
       "0        24852                    Banana    66050\n",
       "1        13176    Bag of Organic Bananas    53297\n",
       "2        21137      Organic Strawberries    37039\n",
       "3        21903      Organic Baby Spinach    33971\n",
       "4        47209      Organic Hass Avocado    29773\n",
       "5        47766           Organic Avocado    24689\n",
       "6        47626               Large Lemon    21495\n",
       "7        16797              Strawberries    20018\n",
       "8        26209                     Limes    19690\n",
       "9        27845        Organic Whole Milk    19600\n",
       "10       27966       Organic Raspberries    19197\n",
       "11       22935      Organic Yellow Onion    15898\n",
       "12       24964            Organic Garlic    15292\n",
       "13       45007          Organic Zucchini    14584\n",
       "14       39275       Organic Blueberries    13879\n",
       "15       49683            Cucumber Kirby    13675\n",
       "16       28204        Organic Fuji Apple    12544\n",
       "17        5876             Organic Lemon    12232\n",
       "18        8277  Apple Honeycrisp Organic    11993\n",
       "19       40706    Organic Grape Tomatoes    11781"
      ]
     },
     "execution_count": 48,
     "metadata": {},
     "output_type": "execute_result"
    }
   ],
   "source": [
    "df_prod_top_20 = df_dict_prod_id_name.merge(df_ord_by_prod, on='product_id')\n",
    "df_prod_top_20.sort_values(by='n_order', ascending=False).reset_index(drop=True)"
   ]
  },
  {
   "cell_type": "markdown",
   "id": "7df00f47",
   "metadata": {
    "id": "7df00f47"
   },
   "source": [
    "Escreva suas conclusões aqui\n",
    "\n",
    "Os 20 produtos mais vendidos são esses acima."
   ]
  },
  {
   "cell_type": "markdown",
   "id": "8ed6683a",
   "metadata": {},
   "source": [
    "<div class=\"alert alert-block alert-danger\">\n",
    "<b> Comentário do revisor: </b> <a class=\"tocSkip\"></a>\n",
    "<s>\n",
    "Aqui precisamos de pequenos ajustes, pois os resultados não estão corretos (repare também que a lista acima não está ordenada). É necessário fazer o `merge` entre os dados de pedidos e produtos. Por fim, você pode fazer a agregação e apresentar os 20 produtos mais vendidos.\n",
    "    \n",
    "```python\n",
    "    \n",
    "df_merge = order_products.merge(products, on='..')\n",
    "top_products = df_merge.groupby(['product_id', 'product_name']).count().sort_values(['order_id'], ascending=False)\n",
    "# apresente os resultados\n",
    "```\n",
    "</s>\n",
    "</div>\n"
   ]
  },
  {
   "cell_type": "markdown",
   "id": "gross-theme",
   "metadata": {
    "id": "gross-theme"
   },
   "source": [
    "# [C] Difícil (é necessário concluir pelo menos duas perguntas para passar)\n",
    "\n",
    "1.\tQuantos itens as pessoas normalmente compram em um pedido? Como fica a distribuição?\n",
    "2.\tQuais são os 20 principais itens incluídos mais frequentemente em pedidos repetidos? Exiba os IDs e nomes.\n",
    "3.\tPara cada produto, qual parcela de seus pedidos são repetidos? Crie uma tabela com colunas de ID e nome do produto e a proporção de pedidos repetidos.\n",
    "4.\tPara cada cliente, qual proporção de todos os seus pedidos são repetidos?\n",
    "5.\tQuais são os 20 principais itens que as pessoas colocam nos carrinhos antes de todos os outros? Exiba o ID do produto, nome e o número de vezes que ele foi o primeiro a ser adicionado a um carrinho.\n"
   ]
  },
  {
   "cell_type": "markdown",
   "id": "romantic-deposit",
   "metadata": {
    "id": "romantic-deposit"
   },
   "source": [
    "### [C1] Quantos itens as pessoas normalmente compram em um pedido? Como fica a distribuição?"
   ]
  },
  {
   "cell_type": "markdown",
   "id": "ffa06ebf",
   "metadata": {},
   "source": [
    "- criar uma variável número de itens por pedido, groupby order_id, nunique ou count product_id, \n",
    "- histograma para ver os dados, mediana ou média PARA O VALOR ESPERADO"
   ]
  },
  {
   "cell_type": "code",
   "execution_count": 49,
   "id": "virtual-punch",
   "metadata": {
    "id": "virtual-punch"
   },
   "outputs": [
    {
     "data": {
      "text/html": [
       "<div>\n",
       "<style scoped>\n",
       "    .dataframe tbody tr th:only-of-type {\n",
       "        vertical-align: middle;\n",
       "    }\n",
       "\n",
       "    .dataframe tbody tr th {\n",
       "        vertical-align: top;\n",
       "    }\n",
       "\n",
       "    .dataframe thead th {\n",
       "        text-align: right;\n",
       "    }\n",
       "</style>\n",
       "<table border=\"1\" class=\"dataframe\">\n",
       "  <thead>\n",
       "    <tr style=\"text-align: right;\">\n",
       "      <th></th>\n",
       "      <th>order_id</th>\n",
       "      <th>n_product</th>\n",
       "    </tr>\n",
       "  </thead>\n",
       "  <tbody>\n",
       "    <tr>\n",
       "      <th>0</th>\n",
       "      <td>61355</td>\n",
       "      <td>127</td>\n",
       "    </tr>\n",
       "    <tr>\n",
       "      <th>1</th>\n",
       "      <td>3308010</td>\n",
       "      <td>115</td>\n",
       "    </tr>\n",
       "    <tr>\n",
       "      <th>2</th>\n",
       "      <td>2136777</td>\n",
       "      <td>108</td>\n",
       "    </tr>\n",
       "    <tr>\n",
       "      <th>3</th>\n",
       "      <td>171934</td>\n",
       "      <td>104</td>\n",
       "    </tr>\n",
       "    <tr>\n",
       "      <th>4</th>\n",
       "      <td>1959075</td>\n",
       "      <td>98</td>\n",
       "    </tr>\n",
       "    <tr>\n",
       "      <th>5</th>\n",
       "      <td>102236</td>\n",
       "      <td>95</td>\n",
       "    </tr>\n",
       "    <tr>\n",
       "      <th>6</th>\n",
       "      <td>1730767</td>\n",
       "      <td>95</td>\n",
       "    </tr>\n",
       "    <tr>\n",
       "      <th>7</th>\n",
       "      <td>1800005</td>\n",
       "      <td>92</td>\n",
       "    </tr>\n",
       "    <tr>\n",
       "      <th>8</th>\n",
       "      <td>2926893</td>\n",
       "      <td>92</td>\n",
       "    </tr>\n",
       "    <tr>\n",
       "      <th>9</th>\n",
       "      <td>1386261</td>\n",
       "      <td>91</td>\n",
       "    </tr>\n",
       "  </tbody>\n",
       "</table>\n",
       "</div>"
      ],
      "text/plain": [
       "   order_id  n_product\n",
       "0     61355        127\n",
       "1   3308010        115\n",
       "2   2136777        108\n",
       "3    171934        104\n",
       "4   1959075         98\n",
       "5    102236         95\n",
       "6   1730767         95\n",
       "7   1800005         92\n",
       "8   2926893         92\n",
       "9   1386261         91"
      ]
     },
     "execution_count": 49,
     "metadata": {},
     "output_type": "execute_result"
    }
   ],
   "source": [
    "df_ord_by_qtde = df_ord.groupby('order_id').agg(n_product=('product_id', 'count')).sort_values(by='n_product', ascending=False).reset_index()\n",
    "df_ord_by_qtde.head(10)"
   ]
  },
  {
   "cell_type": "code",
   "execution_count": 50,
   "id": "sensitive-breathing",
   "metadata": {
    "id": "sensitive-breathing"
   },
   "outputs": [
    {
     "data": {
      "text/plain": [
       "Text(0, 0.5, 'Número de Produtos')"
      ]
     },
     "execution_count": 50,
     "metadata": {},
     "output_type": "execute_result"
    },
    {
     "data": {
      "image/png": "[encoded data removed]",
      "text/plain": [
       "<Figure size 432x288 with 1 Axes>"
      ]
     },
     "metadata": {
      "needs_background": "light"
     },
     "output_type": "display_data"
    }
   ],
   "source": [
    "df_ord_by_qtde.plot(x='order_id', y='n_product', kind='hist', title='Número de pedidos x Número de Produtos', bins=25)\n",
    "plt.xlabel('Número de pedidos')\n",
    "plt.ylabel('Número de Produtos')"
   ]
  },
  {
   "cell_type": "code",
   "execution_count": 51,
   "id": "completed-frank",
   "metadata": {
    "id": "completed-frank"
   },
   "outputs": [
    {
     "name": "stdout",
     "output_type": "stream",
     "text": [
      "A média de produtos que os clientes compram em um pedido é:  10.098983215049127\n",
      "\n",
      "A mediana é:  8.0\n"
     ]
    }
   ],
   "source": [
    "print(\"A média de produtos que os clientes compram em um pedido é: \", df_ord_by_qtde['n_product'].mean())\n",
    "print()\n",
    "print(\"A mediana é: \", df_ord_by_qtde['n_product'].median())"
   ]
  },
  {
   "cell_type": "markdown",
   "id": "designed-mortality",
   "metadata": {
    "id": "designed-mortality"
   },
   "source": [
    "Escreva suas conclusões aqui\n",
    "\n",
    "O que podemos notar é que a maioria das ordem de pedidos está com concentrada entre 0 e 20 produtos dentro da ordem. E sua média e mediana representam bem os dados do gráfico."
   ]
  },
  {
   "cell_type": "markdown",
   "id": "32608742",
   "metadata": {},
   "source": [
    "<div class=\"alert alert-block alert-success\">\n",
    "<b> Comentário do revisor: </b> <a class=\"tocSkip\"></a>\n",
    "\n",
    "- O estudante analisou a distribuição do número de itens por pedido\n",
    "- As conclusões foram apresentadas\n",
    "</div>\n"
   ]
  },
  {
   "cell_type": "markdown",
   "id": "5e6b5537",
   "metadata": {
    "id": "5e6b5537"
   },
   "source": [
    "### [C2] Quais são os 20 principais itens incluídos mais frequentemente em pedidos repetidos? Exiba os IDs e nomes."
   ]
  },
  {
   "cell_type": "markdown",
   "id": "a63702cf",
   "metadata": {
    "id": "9374e55a"
   },
   "source": [
    "- identificar o que são pedidos repetidos"
   ]
  },
  {
   "cell_type": "code",
   "execution_count": 52,
   "id": "1f7fe3a8",
   "metadata": {},
   "outputs": [
    {
     "name": "stdout",
     "output_type": "stream",
     "text": [
      "    order_id  product_id add_to_cart_order  reordered  reordered_new\n",
      "0    2141543       11440              17.0          0            NaN\n",
      "1     567889        1560               1.0          1            1.0\n",
      "2    2261212       26683               1.0          1            1.0\n",
      "3     491251        8670              35.0          1            1.0\n",
      "4    2571142        1940               5.0          1            1.0\n",
      "5    2456893       21616               4.0          1            1.0\n",
      "6     644579       12341               5.0          1            1.0\n",
      "7    2231852       44925              10.0          1            1.0\n",
      "8    3185766       36259              14.0          1            1.0\n",
      "9     420019       23315               4.0          1            1.0\n",
      "10    925051        9421               2.0          1            1.0\n",
      "11     44064       22963              28.0          0            NaN\n",
      "12    522547       40571              10.0          1            1.0\n",
      "13   2475670       48520               3.0          0            NaN\n",
      "14   1961225       37553               1.0          1            1.0\n",
      "15   2397389        4321              16.0          1            1.0\n",
      "16    639939       10017               1.0          1            1.0\n",
      "17   1721072       24561               8.0          1            1.0\n",
      "18     89640       46692               7.0          0            NaN\n",
      "19   2500729       21616               5.0          1            1.0\n"
     ]
    }
   ],
   "source": [
    "df_ord['reordered_new'] = df_ord[df_ord['reordered'] == 1]['reordered']\n",
    "print(df_ord.head(20))"
   ]
  },
  {
   "cell_type": "code",
   "execution_count": 53,
   "id": "possible-change",
   "metadata": {
    "id": "possible-change",
    "scrolled": false
   },
   "outputs": [
    {
     "data": {
      "text/html": [
       "<div>\n",
       "<style scoped>\n",
       "    .dataframe tbody tr th:only-of-type {\n",
       "        vertical-align: middle;\n",
       "    }\n",
       "\n",
       "    .dataframe tbody tr th {\n",
       "        vertical-align: top;\n",
       "    }\n",
       "\n",
       "    .dataframe thead th {\n",
       "        text-align: right;\n",
       "    }\n",
       "</style>\n",
       "<table border=\"1\" class=\"dataframe\">\n",
       "  <thead>\n",
       "    <tr style=\"text-align: right;\">\n",
       "      <th></th>\n",
       "      <th>product_id</th>\n",
       "      <th>reordered_new</th>\n",
       "      <th>n_order</th>\n",
       "    </tr>\n",
       "  </thead>\n",
       "  <tbody>\n",
       "    <tr>\n",
       "      <th>0</th>\n",
       "      <td>24852</td>\n",
       "      <td>1.0</td>\n",
       "      <td>55763</td>\n",
       "    </tr>\n",
       "    <tr>\n",
       "      <th>1</th>\n",
       "      <td>13176</td>\n",
       "      <td>1.0</td>\n",
       "      <td>44450</td>\n",
       "    </tr>\n",
       "    <tr>\n",
       "      <th>2</th>\n",
       "      <td>21137</td>\n",
       "      <td>1.0</td>\n",
       "      <td>28639</td>\n",
       "    </tr>\n",
       "    <tr>\n",
       "      <th>3</th>\n",
       "      <td>21903</td>\n",
       "      <td>1.0</td>\n",
       "      <td>26233</td>\n",
       "    </tr>\n",
       "    <tr>\n",
       "      <th>4</th>\n",
       "      <td>47209</td>\n",
       "      <td>1.0</td>\n",
       "      <td>23629</td>\n",
       "    </tr>\n",
       "    <tr>\n",
       "      <th>5</th>\n",
       "      <td>47766</td>\n",
       "      <td>1.0</td>\n",
       "      <td>18743</td>\n",
       "    </tr>\n",
       "    <tr>\n",
       "      <th>6</th>\n",
       "      <td>27845</td>\n",
       "      <td>1.0</td>\n",
       "      <td>16251</td>\n",
       "    </tr>\n",
       "    <tr>\n",
       "      <th>7</th>\n",
       "      <td>47626</td>\n",
       "      <td>1.0</td>\n",
       "      <td>15044</td>\n",
       "    </tr>\n",
       "    <tr>\n",
       "      <th>8</th>\n",
       "      <td>27966</td>\n",
       "      <td>1.0</td>\n",
       "      <td>14748</td>\n",
       "    </tr>\n",
       "    <tr>\n",
       "      <th>9</th>\n",
       "      <td>16797</td>\n",
       "      <td>1.0</td>\n",
       "      <td>13945</td>\n",
       "    </tr>\n",
       "    <tr>\n",
       "      <th>10</th>\n",
       "      <td>26209</td>\n",
       "      <td>1.0</td>\n",
       "      <td>13327</td>\n",
       "    </tr>\n",
       "    <tr>\n",
       "      <th>11</th>\n",
       "      <td>22935</td>\n",
       "      <td>1.0</td>\n",
       "      <td>11145</td>\n",
       "    </tr>\n",
       "    <tr>\n",
       "      <th>12</th>\n",
       "      <td>24964</td>\n",
       "      <td>1.0</td>\n",
       "      <td>10411</td>\n",
       "    </tr>\n",
       "    <tr>\n",
       "      <th>13</th>\n",
       "      <td>45007</td>\n",
       "      <td>1.0</td>\n",
       "      <td>10076</td>\n",
       "    </tr>\n",
       "    <tr>\n",
       "      <th>14</th>\n",
       "      <td>49683</td>\n",
       "      <td>1.0</td>\n",
       "      <td>9538</td>\n",
       "    </tr>\n",
       "    <tr>\n",
       "      <th>15</th>\n",
       "      <td>28204</td>\n",
       "      <td>1.0</td>\n",
       "      <td>8989</td>\n",
       "    </tr>\n",
       "    <tr>\n",
       "      <th>16</th>\n",
       "      <td>8277</td>\n",
       "      <td>1.0</td>\n",
       "      <td>8836</td>\n",
       "    </tr>\n",
       "    <tr>\n",
       "      <th>17</th>\n",
       "      <td>39275</td>\n",
       "      <td>1.0</td>\n",
       "      <td>8799</td>\n",
       "    </tr>\n",
       "    <tr>\n",
       "      <th>18</th>\n",
       "      <td>5876</td>\n",
       "      <td>1.0</td>\n",
       "      <td>8412</td>\n",
       "    </tr>\n",
       "    <tr>\n",
       "      <th>19</th>\n",
       "      <td>49235</td>\n",
       "      <td>1.0</td>\n",
       "      <td>8389</td>\n",
       "    </tr>\n",
       "  </tbody>\n",
       "</table>\n",
       "</div>"
      ],
      "text/plain": [
       "    product_id  reordered_new  n_order\n",
       "0        24852            1.0    55763\n",
       "1        13176            1.0    44450\n",
       "2        21137            1.0    28639\n",
       "3        21903            1.0    26233\n",
       "4        47209            1.0    23629\n",
       "5        47766            1.0    18743\n",
       "6        27845            1.0    16251\n",
       "7        47626            1.0    15044\n",
       "8        27966            1.0    14748\n",
       "9        16797            1.0    13945\n",
       "10       26209            1.0    13327\n",
       "11       22935            1.0    11145\n",
       "12       24964            1.0    10411\n",
       "13       45007            1.0    10076\n",
       "14       49683            1.0     9538\n",
       "15       28204            1.0     8989\n",
       "16        8277            1.0     8836\n",
       "17       39275            1.0     8799\n",
       "18        5876            1.0     8412\n",
       "19       49235            1.0     8389"
      ]
     },
     "execution_count": 53,
     "metadata": {},
     "output_type": "execute_result"
    }
   ],
   "source": [
    "df_ord_by_rep = df_ord.groupby(['product_id', 'reordered_new']).agg(n_order=('order_id', 'nunique')).sort_values(by='n_order', ascending=False).reset_index().head(20)\n",
    "df_ord_by_rep"
   ]
  },
  {
   "cell_type": "code",
   "execution_count": 54,
   "id": "8d6229ef",
   "metadata": {},
   "outputs": [
    {
     "data": {
      "text/html": [
       "<div>\n",
       "<style scoped>\n",
       "    .dataframe tbody tr th:only-of-type {\n",
       "        vertical-align: middle;\n",
       "    }\n",
       "\n",
       "    .dataframe tbody tr th {\n",
       "        vertical-align: top;\n",
       "    }\n",
       "\n",
       "    .dataframe thead th {\n",
       "        text-align: right;\n",
       "    }\n",
       "</style>\n",
       "<table border=\"1\" class=\"dataframe\">\n",
       "  <thead>\n",
       "    <tr style=\"text-align: right;\">\n",
       "      <th></th>\n",
       "      <th>product_id</th>\n",
       "      <th>product_name</th>\n",
       "    </tr>\n",
       "  </thead>\n",
       "  <tbody>\n",
       "    <tr>\n",
       "      <th>0</th>\n",
       "      <td>1</td>\n",
       "      <td>Chocolate Sandwich Cookies</td>\n",
       "    </tr>\n",
       "    <tr>\n",
       "      <th>1</th>\n",
       "      <td>2</td>\n",
       "      <td>All-Seasons Salt</td>\n",
       "    </tr>\n",
       "    <tr>\n",
       "      <th>2</th>\n",
       "      <td>3</td>\n",
       "      <td>Robust Golden Unsweetened Oolong Tea</td>\n",
       "    </tr>\n",
       "    <tr>\n",
       "      <th>3</th>\n",
       "      <td>4</td>\n",
       "      <td>Smart Ones Classic Favorites Mini Rigatoni Wit...</td>\n",
       "    </tr>\n",
       "    <tr>\n",
       "      <th>4</th>\n",
       "      <td>5</td>\n",
       "      <td>Green Chile Anytime Sauce</td>\n",
       "    </tr>\n",
       "    <tr>\n",
       "      <th>...</th>\n",
       "      <td>...</td>\n",
       "      <td>...</td>\n",
       "    </tr>\n",
       "    <tr>\n",
       "      <th>49689</th>\n",
       "      <td>49690</td>\n",
       "      <td>HIGH PERFORMANCE ENERGY DRINK</td>\n",
       "    </tr>\n",
       "    <tr>\n",
       "      <th>49690</th>\n",
       "      <td>49691</td>\n",
       "      <td>ORIGINAL PANCAKE &amp; WAFFLE MIX</td>\n",
       "    </tr>\n",
       "    <tr>\n",
       "      <th>49691</th>\n",
       "      <td>49692</td>\n",
       "      <td>ORGANIC INSTANT OATMEAL LIGHT MAPLE BROWN SUGAR</td>\n",
       "    </tr>\n",
       "    <tr>\n",
       "      <th>49692</th>\n",
       "      <td>49693</td>\n",
       "      <td>SPRING WATER BODY WASH</td>\n",
       "    </tr>\n",
       "    <tr>\n",
       "      <th>49693</th>\n",
       "      <td>49694</td>\n",
       "      <td>BURRITO- STEAK &amp; CHEESE</td>\n",
       "    </tr>\n",
       "  </tbody>\n",
       "</table>\n",
       "<p>49694 rows × 2 columns</p>\n",
       "</div>"
      ],
      "text/plain": [
       "       product_id                                       product_name\n",
       "0               1                         Chocolate Sandwich Cookies\n",
       "1               2                                   All-Seasons Salt\n",
       "2               3               Robust Golden Unsweetened Oolong Tea\n",
       "3               4  Smart Ones Classic Favorites Mini Rigatoni Wit...\n",
       "4               5                          Green Chile Anytime Sauce\n",
       "...           ...                                                ...\n",
       "49689       49690                      HIGH PERFORMANCE ENERGY DRINK\n",
       "49690       49691                      ORIGINAL PANCAKE & WAFFLE MIX\n",
       "49691       49692    ORGANIC INSTANT OATMEAL LIGHT MAPLE BROWN SUGAR\n",
       "49692       49693                             SPRING WATER BODY WASH\n",
       "49693       49694                            BURRITO- STEAK & CHEESE\n",
       "\n",
       "[49694 rows x 2 columns]"
      ]
     },
     "execution_count": 54,
     "metadata": {},
     "output_type": "execute_result"
    }
   ],
   "source": [
    "df_dict_prod_id_name = df_prod[['product_id', 'product_name']].copy().drop_duplicates()\n",
    "df_dict_prod_id_name"
   ]
  },
  {
   "cell_type": "code",
   "execution_count": 55,
   "id": "professional-surfing",
   "metadata": {
    "id": "professional-surfing",
    "scrolled": false
   },
   "outputs": [
    {
     "data": {
      "text/html": [
       "<div>\n",
       "<style scoped>\n",
       "    .dataframe tbody tr th:only-of-type {\n",
       "        vertical-align: middle;\n",
       "    }\n",
       "\n",
       "    .dataframe tbody tr th {\n",
       "        vertical-align: top;\n",
       "    }\n",
       "\n",
       "    .dataframe thead th {\n",
       "        text-align: right;\n",
       "    }\n",
       "</style>\n",
       "<table border=\"1\" class=\"dataframe\">\n",
       "  <thead>\n",
       "    <tr style=\"text-align: right;\">\n",
       "      <th></th>\n",
       "      <th>product_id</th>\n",
       "      <th>product_name</th>\n",
       "      <th>reordered_new</th>\n",
       "      <th>n_order</th>\n",
       "    </tr>\n",
       "  </thead>\n",
       "  <tbody>\n",
       "    <tr>\n",
       "      <th>0</th>\n",
       "      <td>24852</td>\n",
       "      <td>Banana</td>\n",
       "      <td>1.0</td>\n",
       "      <td>55763</td>\n",
       "    </tr>\n",
       "    <tr>\n",
       "      <th>1</th>\n",
       "      <td>13176</td>\n",
       "      <td>Bag of Organic Bananas</td>\n",
       "      <td>1.0</td>\n",
       "      <td>44450</td>\n",
       "    </tr>\n",
       "    <tr>\n",
       "      <th>2</th>\n",
       "      <td>21137</td>\n",
       "      <td>Organic Strawberries</td>\n",
       "      <td>1.0</td>\n",
       "      <td>28639</td>\n",
       "    </tr>\n",
       "    <tr>\n",
       "      <th>3</th>\n",
       "      <td>21903</td>\n",
       "      <td>Organic Baby Spinach</td>\n",
       "      <td>1.0</td>\n",
       "      <td>26233</td>\n",
       "    </tr>\n",
       "    <tr>\n",
       "      <th>4</th>\n",
       "      <td>47209</td>\n",
       "      <td>Organic Hass Avocado</td>\n",
       "      <td>1.0</td>\n",
       "      <td>23629</td>\n",
       "    </tr>\n",
       "    <tr>\n",
       "      <th>5</th>\n",
       "      <td>47766</td>\n",
       "      <td>Organic Avocado</td>\n",
       "      <td>1.0</td>\n",
       "      <td>18743</td>\n",
       "    </tr>\n",
       "    <tr>\n",
       "      <th>6</th>\n",
       "      <td>27845</td>\n",
       "      <td>Organic Whole Milk</td>\n",
       "      <td>1.0</td>\n",
       "      <td>16251</td>\n",
       "    </tr>\n",
       "    <tr>\n",
       "      <th>7</th>\n",
       "      <td>47626</td>\n",
       "      <td>Large Lemon</td>\n",
       "      <td>1.0</td>\n",
       "      <td>15044</td>\n",
       "    </tr>\n",
       "    <tr>\n",
       "      <th>8</th>\n",
       "      <td>27966</td>\n",
       "      <td>Organic Raspberries</td>\n",
       "      <td>1.0</td>\n",
       "      <td>14748</td>\n",
       "    </tr>\n",
       "    <tr>\n",
       "      <th>9</th>\n",
       "      <td>16797</td>\n",
       "      <td>Strawberries</td>\n",
       "      <td>1.0</td>\n",
       "      <td>13945</td>\n",
       "    </tr>\n",
       "    <tr>\n",
       "      <th>10</th>\n",
       "      <td>26209</td>\n",
       "      <td>Limes</td>\n",
       "      <td>1.0</td>\n",
       "      <td>13327</td>\n",
       "    </tr>\n",
       "    <tr>\n",
       "      <th>11</th>\n",
       "      <td>22935</td>\n",
       "      <td>Organic Yellow Onion</td>\n",
       "      <td>1.0</td>\n",
       "      <td>11145</td>\n",
       "    </tr>\n",
       "    <tr>\n",
       "      <th>12</th>\n",
       "      <td>24964</td>\n",
       "      <td>Organic Garlic</td>\n",
       "      <td>1.0</td>\n",
       "      <td>10411</td>\n",
       "    </tr>\n",
       "    <tr>\n",
       "      <th>13</th>\n",
       "      <td>45007</td>\n",
       "      <td>Organic Zucchini</td>\n",
       "      <td>1.0</td>\n",
       "      <td>10076</td>\n",
       "    </tr>\n",
       "    <tr>\n",
       "      <th>14</th>\n",
       "      <td>49683</td>\n",
       "      <td>Cucumber Kirby</td>\n",
       "      <td>1.0</td>\n",
       "      <td>9538</td>\n",
       "    </tr>\n",
       "    <tr>\n",
       "      <th>15</th>\n",
       "      <td>28204</td>\n",
       "      <td>Organic Fuji Apple</td>\n",
       "      <td>1.0</td>\n",
       "      <td>8989</td>\n",
       "    </tr>\n",
       "    <tr>\n",
       "      <th>16</th>\n",
       "      <td>8277</td>\n",
       "      <td>Apple Honeycrisp Organic</td>\n",
       "      <td>1.0</td>\n",
       "      <td>8836</td>\n",
       "    </tr>\n",
       "    <tr>\n",
       "      <th>17</th>\n",
       "      <td>39275</td>\n",
       "      <td>Organic Blueberries</td>\n",
       "      <td>1.0</td>\n",
       "      <td>8799</td>\n",
       "    </tr>\n",
       "    <tr>\n",
       "      <th>18</th>\n",
       "      <td>5876</td>\n",
       "      <td>Organic Lemon</td>\n",
       "      <td>1.0</td>\n",
       "      <td>8412</td>\n",
       "    </tr>\n",
       "    <tr>\n",
       "      <th>19</th>\n",
       "      <td>49235</td>\n",
       "      <td>Organic Half &amp; Half</td>\n",
       "      <td>1.0</td>\n",
       "      <td>8389</td>\n",
       "    </tr>\n",
       "  </tbody>\n",
       "</table>\n",
       "</div>"
      ],
      "text/plain": [
       "    product_id              product_name  reordered_new  n_order\n",
       "0        24852                    Banana            1.0    55763\n",
       "1        13176    Bag of Organic Bananas            1.0    44450\n",
       "2        21137      Organic Strawberries            1.0    28639\n",
       "3        21903      Organic Baby Spinach            1.0    26233\n",
       "4        47209      Organic Hass Avocado            1.0    23629\n",
       "5        47766           Organic Avocado            1.0    18743\n",
       "6        27845        Organic Whole Milk            1.0    16251\n",
       "7        47626               Large Lemon            1.0    15044\n",
       "8        27966       Organic Raspberries            1.0    14748\n",
       "9        16797              Strawberries            1.0    13945\n",
       "10       26209                     Limes            1.0    13327\n",
       "11       22935      Organic Yellow Onion            1.0    11145\n",
       "12       24964            Organic Garlic            1.0    10411\n",
       "13       45007          Organic Zucchini            1.0    10076\n",
       "14       49683            Cucumber Kirby            1.0     9538\n",
       "15       28204        Organic Fuji Apple            1.0     8989\n",
       "16        8277  Apple Honeycrisp Organic            1.0     8836\n",
       "17       39275       Organic Blueberries            1.0     8799\n",
       "18        5876             Organic Lemon            1.0     8412\n",
       "19       49235       Organic Half & Half            1.0     8389"
      ]
     },
     "execution_count": 55,
     "metadata": {},
     "output_type": "execute_result"
    }
   ],
   "source": [
    "df_prod_top_20_reord = df_dict_prod_id_name.merge(df_ord_by_rep, on='product_id')\n",
    "df_prod_top_20_reord.sort_values(by='n_order', ascending=False).reset_index(drop=True)"
   ]
  },
  {
   "cell_type": "markdown",
   "id": "80e70c74",
   "metadata": {
    "id": "80e70c74"
   },
   "source": [
    "Escreva suas conclusões aqui\n",
    "\n",
    "Esses 20 acima são os produtos mais populares nos pedidos repetidos e nota-se uma semelhança com a tabela dos 20 produtos mais vendidos pela plataforma também."
   ]
  },
  {
   "cell_type": "markdown",
   "id": "68931dfb",
   "metadata": {},
   "source": [
    "<div class=\"alert alert-block alert-danger\">\n",
    "<b> Comentário do revisor: </b> <a class=\"tocSkip\"></a>\n",
    "\n",
    "<s>O resultado acima não está ordenado em ordem decrescente.</s>\n",
    "</div>\n"
   ]
  },
  {
   "cell_type": "markdown",
   "id": "9d312b14",
   "metadata": {
    "id": "9d312b14"
   },
   "source": [
    "### [C3] Para cada produto, qual parcela de todos os pedidos dele são repetidos?"
   ]
  },
  {
   "cell_type": "code",
   "execution_count": null,
   "id": "8ae9f4b1",
   "metadata": {
    "id": "8ae9f4b1"
   },
   "outputs": [],
   "source": []
  },
  {
   "cell_type": "code",
   "execution_count": null,
   "id": "103e7fe1",
   "metadata": {
    "id": "103e7fe1"
   },
   "outputs": [],
   "source": []
  },
  {
   "cell_type": "code",
   "execution_count": null,
   "id": "social-individual",
   "metadata": {
    "id": "social-individual"
   },
   "outputs": [],
   "source": []
  },
  {
   "cell_type": "markdown",
   "id": "I10dEIAyldcO",
   "metadata": {
    "id": "I10dEIAyldcO"
   },
   "source": [
    "Escreva suas conclusões aqui"
   ]
  },
  {
   "cell_type": "markdown",
   "id": "subject-boxing",
   "metadata": {
    "id": "subject-boxing"
   },
   "source": [
    "### [C4] Para cada cliente, qual proporção de todos os seus pedidos são repetidos?"
   ]
  },
  {
   "cell_type": "code",
   "execution_count": null,
   "id": "medical-couple",
   "metadata": {
    "id": "medical-couple",
    "scrolled": true
   },
   "outputs": [],
   "source": []
  },
  {
   "cell_type": "code",
   "execution_count": null,
   "id": "8892e4b4",
   "metadata": {
    "id": "8892e4b4"
   },
   "outputs": [],
   "source": []
  },
  {
   "cell_type": "markdown",
   "id": "BgJSvXDsleXz",
   "metadata": {
    "id": "BgJSvXDsleXz"
   },
   "source": [
    "Escreva suas conclusões aqui"
   ]
  },
  {
   "cell_type": "markdown",
   "id": "92d35137",
   "metadata": {
    "id": "92d35137"
   },
   "source": [
    "### [C5] Quais são os 20 principais itens que as pessoas colocam nos carrinhos antes de todos os outros?"
   ]
  },
  {
   "cell_type": "code",
   "execution_count": null,
   "id": "0ae57274",
   "metadata": {
    "id": "0ae57274",
    "scrolled": true
   },
   "outputs": [],
   "source": []
  },
  {
   "cell_type": "code",
   "execution_count": null,
   "id": "forty-netherlands",
   "metadata": {
    "id": "forty-netherlands",
    "scrolled": true
   },
   "outputs": [],
   "source": []
  },
  {
   "cell_type": "code",
   "execution_count": null,
   "id": "08e41ec2",
   "metadata": {
    "id": "08e41ec2"
   },
   "outputs": [],
   "source": []
  },
  {
   "cell_type": "markdown",
   "id": "28ce9872",
   "metadata": {
    "id": "28ce9872"
   },
   "source": [
    "Escreva suas conclusões aqui"
   ]
  },
  {
   "cell_type": "markdown",
   "id": "TisH_5Cp3wAi",
   "metadata": {
    "id": "TisH_5Cp3wAi"
   },
   "source": [
    "# Conclusão geral do projeto:"
   ]
  },
  {
   "cell_type": "markdown",
   "id": "b93e2d30",
   "metadata": {
    "id": "Nk-4GS7mDwqY"
   },
   "source": [
    "Conclusões com esse projeto:\n",
    "- A plataforma recebe muitos pedidos durante toda a semana e está muito bem distribuídos os dias, porém um pequeno destaque para o final de semana que é quando eu acredito que as pessoas possuem mais tempo para acessar a plataforma e fazer o pedido.\n",
    "- Os pedidos são mais concentramos em horário comercial, entre 9h até 17h, porém podemos notar que os clientes fazem pedidos até de madrugada.\n",
    "- Notamos também que a maioria dos valores ausentes na coluna 'days_since_prior_order' foram pessoas que provavelmente colocaram o pedido no carrinho e não finalizaram a compra, um total de 28817 que é um bom número para trabalhar na análise.\n",
    "- Outra análise interessante é que muitos clientes esperam entre 1 e 9 dias para fazer um novo pedido, porém tivemos um pico em um período de 30 dias, onde cerca de 50000 clientes esperam para voltar a fazer um novo pedido.\n",
    "- Outra dado importante de notar que os 20 produtos mais populares se asemelham aos 20 produtos mais comuns nos pedidos repetidos.\n",
    "- Outro ponto importante é que a maioria das ordens de pedidos está concentrada entre 0 e 20 produtos com uma média de 10,09 produtos por ordem e uma mediana de 8 produtos, ilustrando bem a concentração dos pedidos.\n",
    "- Por fim, pode-se notar que a maioria dos clientes fazem um pedido entre 0 e 5 produtos na ordem do pedido."
   ]
  }
 ],
 "metadata": {
  "colab": {
   "provenance": []
  },
  "kernelspec": {
   "display_name": "Python 3 (ipykernel)",
   "language": "python",
   "name": "python3"
  },
  "language_info": {
   "codemirror_mode": {
    "name": "ipython",
    "version": 3
   },
   "file_extension": ".py",
   "mimetype": "text/x-python",
   "name": "python",
   "nbconvert_exporter": "python",
   "pygments_lexer": "ipython3",
   "version": "3.11.7"
  },
  "toc": {
   "base_numbering": 1,
   "nav_menu": {},
   "number_sections": true,
   "sideBar": true,
   "skip_h1_title": true,
   "title_cell": "Table of Contents",
   "title_sidebar": "Contents",
   "toc_cell": false,
   "toc_position": {},
   "toc_section_display": true,
   "toc_window_display": false
  },
  "vscode": {
   "interpreter": {
    "hash": "01a7be9ec63e704a62cefc5fe7a4756944464ee731be31632bdf42a4cb4688cf"
   }
  }
 },
 "nbformat": 4,
 "nbformat_minor": 5
}
